{
 "cells": [
  {
   "cell_type": "code",
   "execution_count": null,
   "id": "31d5df3e",
   "metadata": {},
   "outputs": [
    {
     "name": "stdout",
     "output_type": "stream",
     "text": [
      "Zbudowano dokumentów: 2839\n"
     ]
    },
    {
     "data": {
      "application/vnd.jupyter.widget-view+json": {
       "model_id": "e90c14fa518047a79daa62f5f24c141d",
       "version_major": 2,
       "version_minor": 0
      },
      "text/plain": [
       "Loading checkpoint shards:   0%|          | 0/5 [00:00<?, ?it/s]"
      ]
     },
     "metadata": {},
     "output_type": "display_data"
    },
    {
     "name": "stderr",
     "output_type": "stream",
     "text": [
      "Device set to use cuda:0\n",
      "The following generation flags are not valid and may be ignored: ['temperature']. Set `TRANSFORMERS_VERBOSITY=info` for more details.\n"
     ]
    }
   ],
   "source": [
    "# -*- coding: utf-8 -*-\n",
    "import os, re, json, unicodedata, random\n",
    "from typing import List, Dict, Any, Tuple, Optional\n",
    "import pandas as pd\n",
    "import torch\n",
    "\n",
    "# --- LangChain\n",
    "from langchain_core.documents import Document\n",
    "from langchain_core.embeddings import Embeddings\n",
    "from langchain_community.retrievers import BM25Retriever\n",
    "\n",
    "# --- Cross-encoder (reranker)\n",
    "_HAS_RERANK = True\n",
    "try:\n",
    "    from langchain_community.cross_encoders import HuggingFaceCrossEncoder\n",
    "except Exception:\n",
    "    _HAS_RERANK = False\n",
    "\n",
    "# --- Chroma (nowe/stare API)\n",
    "try:\n",
    "    from langchain_chroma import Chroma\n",
    "    _CHROMA_NEW = True\n",
    "except ImportError:\n",
    "    from langchain_community.vectorstores import Chroma\n",
    "    _CHROMA_NEW = False\n",
    "\n",
    "# -----------------------------\n",
    "# Ścieżki/katalogi\n",
    "# -----------------------------\n",
    "CSV_DIR = \"all_dane\"   # ← podmień na swój folder\n",
    "PERSIST_DIR = \"chroma_statystyki\"\n",
    "RERANKER_MODEL = \"BAAI/bge-reranker-v2-m3\"\n",
    "EMBEDDER_MODEL = \"intfloat/multilingual-e5-large\"\n",
    "LLM = \"CYFRAGOVPL/PLLuM-12B-chat\"\n",
    "# --- MultiQuery ustawienia\n",
    "LLM_MQ_ENABLED = True     # włącz LLM-owy MultiQuery\n",
    "MQ_BASE_VARIANTS = 4      # ile prostych parafraz bez LLM\n",
    "MQ_LLM_VARIANTS  = 8      # ile wariantów od LLM\n",
    "USE_HYDE = False          # HyDE wyłączamy\n",
    "# -----------------------------\n",
    "# Progi „answerability”\n",
    "# -----------------------------\n",
    "MIN_RERANK_SCORE = 0.5\n",
    "MIN_DOCS_AFTER_FILTER = 5\n",
    "RRF_LOW_THRESHOLD = 0.03\n",
    "# -----------------------------\n",
    "# Czy używa modelu do odpowiedzi\n",
    "# -----------------------------\n",
    "USE_LLM = True\n",
    "# -----------------------------\n",
    "# Debug / śledzenie kontekstu (DODANE)\n",
    "# -----------------------------\n",
    "DEBUG_CONTEXT = False   # ustaw na False, by wyłączyć całe logowanie\n",
    "LAST_DEBUG: Dict[str, Any] = {}\n",
    "\n",
    "def _dbg(msg: str):\n",
    "    if DEBUG_CONTEXT:\n",
    "        print(str(msg))\n",
    "\n",
    "def get_last_debug() -> Dict[str, Any]:\n",
    "    \"\"\"\n",
    "    Zwraca ostatni pakiet debugowy:\n",
    "      - query, parsed, hits (liczności), top_scores, filtered,\n",
    "        selected_headers, ctx_for_llm, ctx_debug, decision\n",
    "    \"\"\"\n",
    "    return LAST_DEBUG\n",
    "\n",
    "# -----------------------------\n",
    "# Normalizacja / utils\n",
    "# -----------------------------\n",
    "def strip_acc(s: str) -> str:\n",
    "    return \"\".join(c for c in unicodedata.normalize(\"NFD\", str(s)) if unicodedata.category(c) != \"Mn\")\n",
    "\n",
    "def norm_text(s: str) -> str:\n",
    "    s = strip_acc(str(s)).lower()\n",
    "    s = re.sub(r\"\\s+\", \" \", s).strip()\n",
    "    return s\n",
    "\n",
    "# -----------------------------\n",
    "# Smart CSV reader (PL encodings)\n",
    "# -----------------------------\n",
    "def _read_csv_smart(path: str) -> pd.DataFrame:\n",
    "    for enc in [\"utf-8-sig\", \"cp1250\", \"iso-8859-2\", \"latin-1\"]:\n",
    "        try:\n",
    "            return pd.read_csv(path, encoding=enc)\n",
    "        except Exception:\n",
    "            pass\n",
    "    return pd.read_csv(path)\n",
    "\n",
    "# -----------------------------\n",
    "# Parsing liczb i okresów\n",
    "# -----------------------------\n",
    "def parse_value(x) -> Optional[float]:\n",
    "    if x is None: return None\n",
    "    s = str(x).strip()\n",
    "    if s == \"\" or norm_text(s) in {\"nan\", \"brak\", \"null\"}:\n",
    "        return None\n",
    "    s = s.replace(\" \", \"\").replace(\"\\u00A0\", \"\").replace(\",\", \".\")\n",
    "    try:\n",
    "        return float(s)\n",
    "    except Exception:\n",
    "        return None\n",
    "\n",
    "def norm_period(p: Optional[str]) -> Optional[str]:\n",
    "    if not p or str(p).strip()==\"\":\n",
    "        return None\n",
    "    s = str(p).replace(\"\\u00A0\",\" \").strip()\n",
    "    s = s.upper()\n",
    "    s = re.sub(r\"\\s+\", \"\", s)\n",
    "    s = s.replace(\"/\", \"-\").replace(\"_\",\"-\")\n",
    "    if re.match(r\"^20\\d{2}-Q[1-4]$\", s):\n",
    "        return s\n",
    "    m = re.match(r\"^(20\\d{2})Q([1-4])$\", s)\n",
    "    if m:\n",
    "        return f\"{m.group(1)}-Q{m.group(2)}\"\n",
    "    return s  # zostaw surowe — będzie mniej premiowane\n",
    "\n",
    "def clean_measure_and_type(measure: str, typ: Optional[str]) -> Tuple[str, Optional[str]]:\n",
    "    m = str(measure or \"\").strip()\n",
    "    t = None if (typ is None or str(typ).strip()==\"\") else str(typ).strip()\n",
    "    # prosty autocorrect\n",
    "    m = m.replace(\"przciętna\", \"przeciętna\").replace(\" w zl\", \" w zł\")\n",
    "    # jeśli typ siedzi w nawiasie — wyciągnij\n",
    "    paren = re.search(r\"\\(([^)]+)\\)\", m)\n",
    "    if paren and (t is None or t==\"\"):\n",
    "        t = paren.group(1).strip()\n",
    "    m = re.sub(r\"\\s*\\([^)]+\\)\\s*\", \" \", m)\n",
    "    m = re.sub(r\"\\s+\", \" \", m).strip()\n",
    "    return m, t\n",
    "\n",
    "def make_page_text(row: dict) -> str:\n",
    "    # Tylko sześć pól schematu w tekście — zero tagów/synonimów\n",
    "    return \" | \".join([\n",
    "        f\"dataset: {row.get('dataset')}\",\n",
    "        f\"measure: {row.get('measure_clean')}\",\n",
    "        f\"value: {row.get('value_float')}\",\n",
    "        f\"region: {row.get('region') or '-'}\",\n",
    "        f\"period: {row.get('period_norm') or row.get('period_raw') or '-'}\",\n",
    "        f\"typ: {row.get('typ_clean') or '-'}\",\n",
    "    ])\n",
    "\n",
    "# -----------------------------\n",
    "# Dynamiczny „słownik” uczony z danych\n",
    "# -----------------------------\n",
    "FIELD_VOCAB: Dict[str, set[str]] = {\"dataset\": set(), \"measure\": set(), \"region\": set(), \"typ\": set()}\n",
    "\n",
    "def _add_to_vocab(val, field):\n",
    "    if val is None: return\n",
    "    s = str(val).strip()\n",
    "    if not s: return\n",
    "    FIELD_VOCAB[field].add(norm_text(s))\n",
    "\n",
    "# -----------------------------\n",
    "# Budowa Document z CSV (schemat standardowy)\n",
    "# -----------------------------\n",
    "def build_documents_from_standard_csv(dataset_name: str, csv_path: str) -> List[Document]:\n",
    "    df = _read_csv_smart(csv_path)\n",
    "    required = [\"dataset\",\"measure\",\"value\",\"region\",\"period\",\"typ\"]\n",
    "    for c in required:\n",
    "        if c not in df.columns:\n",
    "            raise ValueError(f\"Brak wymaganej kolumny: {c}\")\n",
    "    docs: List[Document] = []\n",
    "    for i, row in df.iterrows():\n",
    "        dataset = str(row.get(\"dataset\") or \"\").strip()\n",
    "        measure_raw = row.get(\"measure\")\n",
    "        typ_raw     = row.get(\"typ\")\n",
    "        measure_clean, typ_clean = clean_measure_and_type(measure_raw, typ_raw)\n",
    "\n",
    "        value_float = parse_value(row.get(\"value\"))\n",
    "        region_raw  = None if pd.isna(row.get(\"region\")) else str(row.get(\"region\")).strip()\n",
    "        period_raw  = None if pd.isna(row.get(\"period\")) else str(row.get(\"period\")).strip()\n",
    "        period_norm_ = norm_period(period_raw)\n",
    "\n",
    "        rec = {\n",
    "            \"dataset\": dataset or dataset_name,\n",
    "            \"measure_clean\": measure_clean,\n",
    "            \"typ_clean\": typ_clean,\n",
    "            \"value_float\": value_float,\n",
    "            \"region\": region_raw,\n",
    "            \"period_raw\": period_raw,\n",
    "            \"period_norm\": period_norm_,\n",
    "        }\n",
    "        page_text = make_page_text(rec)\n",
    "        meta: Dict[str, Any] = {\n",
    "            \"dataset\": dataset or dataset_name,\n",
    "            \"source_file\": os.path.basename(csv_path),\n",
    "            \"row_index\": int(i),\n",
    "            \"okres\": period_norm_ or period_raw,\n",
    "            \"region\": region_raw,\n",
    "            \"type\": typ_clean,\n",
    "            \"measure\": measure_clean,\n",
    "            \"value\": value_float,\n",
    "        }\n",
    "        docs.append(Document(page_content=page_text, metadata=meta))\n",
    "\n",
    "        # uczymy się słownika z danych\n",
    "        _add_to_vocab(meta[\"dataset\"], \"dataset\")\n",
    "        _add_to_vocab(meta[\"measure\"], \"measure\")\n",
    "        _add_to_vocab(meta[\"region\"], \"region\")\n",
    "        _add_to_vocab(meta[\"type\"], \"typ\")\n",
    "    return docs\n",
    "\n",
    "# -----------------------------\n",
    "# EMBEDDINGS — E5\n",
    "# -----------------------------\n",
    "from transformers import AutoModel, AutoTokenizer\n",
    "\n",
    "class MXBAIEmbeddings(Embeddings):\n",
    "    def __init__(self, model_id: str = EMBEDDER_MODEL, device: Optional[str] = None):\n",
    "        self.device = device or (\"cuda\" if torch.cuda.is_available() else \"cpu\")\n",
    "        self.tok = AutoTokenizer.from_pretrained(model_id)\n",
    "        self.net = AutoModel.from_pretrained(model_id,torch_dtype=torch.bfloat16 if self.device==\"cuda\" else torch.float32).to(self.device)\n",
    "        self.net.eval()\n",
    "\n",
    "    @torch.inference_mode()\n",
    "    def _encode(self, texts: List[str], is_query=False, batch_size=32) -> List[List[float]]:\n",
    "        prefix = \"query: \" if is_query else \"passage: \"\n",
    "        out = []\n",
    "        for i in range(0, len(texts), batch_size):\n",
    "            batch = [prefix + t for t in texts[i:i+batch_size]]\n",
    "            enc = self.tok(batch, padding=True, truncation=True, return_tensors=\"pt\").to(self.device)\n",
    "            last = self.net(**enc).last_hidden_state\n",
    "            attn = enc[\"attention_mask\"].unsqueeze(-1)\n",
    "            emb = (last * attn).sum(dim=1) / torch.clamp(attn.sum(dim=1), min=1)\n",
    "            emb = torch.nn.functional.normalize(emb, p=2, dim=1)\n",
    "            out.extend(emb.detach().cpu().tolist())\n",
    "        return out\n",
    "\n",
    "    def embed_documents(self, texts: List[str]) -> List[List[float]]:\n",
    "        return self._encode(texts, is_query=False)\n",
    "\n",
    "    def embed_query(self, text: str) -> List[float]:\n",
    "        return self._encode([text], is_query=True)[0]\n",
    "\n",
    "# -----------------------------\n",
    "# Załaduj wszystkie CSV\n",
    "# -----------------------------\n",
    "def _looks_standard(df: pd.DataFrame) -> bool:\n",
    "    needed = {\"dataset\",\"measure\",\"value\",\"region\",\"period\",\"typ\"}\n",
    "    return needed.issubset(set(df.columns))\n",
    "\n",
    "CSV_SOURCES = {}\n",
    "if os.path.isdir(CSV_DIR):\n",
    "    for fn in os.listdir(CSV_DIR):\n",
    "        if fn.lower().endswith(\".csv\"):\n",
    "            CSV_SOURCES[os.path.splitext(fn)[0]] = os.path.join(CSV_DIR, fn)\n",
    "elif os.path.isfile(CSV_DIR) and CSV_DIR.lower().endswith(\".csv\"):\n",
    "    CSV_SOURCES[os.path.splitext(os.path.basename(CSV_DIR))[0]] = CSV_DIR\n",
    "else:\n",
    "    print(f\"[UWAGA] {CSV_DIR} nie jest ani katalogiem z CSV, ani plikiem CSV.\")\n",
    "\n",
    "all_docs: List[Document] = []\n",
    "for name, path in CSV_SOURCES.items():\n",
    "    try:\n",
    "        df_head = _read_csv_smart(path).head(1)\n",
    "        if _looks_standard(df_head):\n",
    "            docs = build_documents_from_standard_csv(name, path)\n",
    "            all_docs.extend(docs)\n",
    "        else:\n",
    "            print(f\"[UWAGA] Pomijam '{path}' — niestandardowy schemat kolumn.\")\n",
    "    except Exception as e:\n",
    "        print(f\"[BŁĄD] {path}: {e}\")\n",
    "\n",
    "print(f\"Zbudowano dokumentów: {len(all_docs)}\")\n",
    "\n",
    "# -----------------------------\n",
    "# Wektoryzacja Chroma\n",
    "# -----------------------------\n",
    "emb = MXBAIEmbeddings()\n",
    "vectorstore = Chroma(\n",
    "    collection_name=\"statystyki\",\n",
    "    embedding_function=emb,\n",
    "    persist_directory=PERSIST_DIR\n",
    ")\n",
    "\n",
    "def _collection_count(vs) -> int:\n",
    "    coll = getattr(vs, \"_collection\", None)\n",
    "    try: return coll.count() if coll is not None else 0\n",
    "    except Exception: return 0\n",
    "\n",
    "if _collection_count(vectorstore) == 0 and all_docs:\n",
    "    vectorstore.add_documents(all_docs)\n",
    "    getattr(vectorstore, \"persist\", lambda: None)()\n",
    "\n",
    "# -----------------------------\n",
    "# BM25 retriever\n",
    "# -----------------------------\n",
    "bm25 = BM25Retriever.from_documents(all_docs)\n",
    "bm25.k = 80\n",
    "# -----------------------------\n",
    "# MultiQuery + minimalistyczny HyDE\n",
    "# -----------------------------\n",
    "def _base_mq_variants(q: str, n: int = MQ_BASE_VARIANTS) -> List[str]:\n",
    "    qn = norm_text(q)\n",
    "    base = {\n",
    "        q.strip(),\n",
    "        strip_acc(q),\n",
    "        qn.replace(\"ile\", \"jaka jest liczba\"),\n",
    "        qn.replace(\"ile wynosi\", \"podaj wartość\"),\n",
    "    }\n",
    "    return list(base)[:n]\n",
    "\n",
    "def _llm_generate_query_expansions(question: str,\n",
    "                                   measure_hint: Optional[str],\n",
    "                                   typ_hint: Optional[str],\n",
    "                                   dataset_hint: Optional[str],\n",
    "                                   k_variants: int = MQ_LLM_VARIANTS) -> List[str]:\n",
    "    \"\"\"\n",
    "    Parafrazy zapytania z ograniczeniem do znanych etykiet (FIELD_VOCAB).\n",
    "    \"\"\"\n",
    "    if not (USE_LLM and llm_pllum and LLM_MQ_ENABLED):\n",
    "        return []\n",
    "\n",
    "    measure_cands = _take_closest_vocab(measure_hint, FIELD_VOCAB[\"measure\"], k=20)\n",
    "    typ_cands     = _take_closest_vocab(typ_hint,     FIELD_VOCAB[\"typ\"],     k=20)\n",
    "    dataset_cands = _take_closest_vocab(dataset_hint,         FIELD_VOCAB[\"dataset\"], k=20)\n",
    "\n",
    "    sys_rules = (\n",
    "        \"Jesteś generatorem wariantów zapytań do wyszukiwarki danych KRUS.\\n\"\n",
    "        \"Zasady:\\n\"\n",
    "        \"• Zwięzłe warianty PL (jedna linia = jedno zapytanie).\\n\"\n",
    "        \"• Używaj TYLKO podanych etykiet measure/typ/dataset (jeśli podane).\\n\"\n",
    "        \"• Zachowuj znaczenie pytania.\\n\"\n",
    "        \"• Nie zgaduj, gdy brak kandydatów.\\n\"\n",
    "    )\n",
    "    m_line = \" | \".join(measure_cands) if measure_cands else \"(brak)\"\n",
    "    t_line = \" | \".join(typ_cands) if typ_cands else \"(brak)\"\n",
    "    d_line = \" | \".join(dataset_cands) if dataset_cands else \"(brak)\"\n",
    "\n",
    "    user_block = (\n",
    "        f\"Pytanie:\\n{question}\\n\\n\"\n",
    "        f\"Kandydaci 'measure': {m_line}\\n\"\n",
    "        f\"Kandydaci 'typ': {t_line}\\n\\n\"\n",
    "        f\"Kandydaci 'dataset': {d_line}\\n\"\n",
    "        f\"Wygeneruj do {k_variants} wariantów. Zwróć TYLKO linie zapytań.\"\n",
    "    )\n",
    "    prompt = f\"<s>[INST] <<SYS>>{sys_rules}<</SYS>>\\n{user_block}\\n[/INST]\"\n",
    "    try:\n",
    "        out = llm_pllum.invoke(prompt)\n",
    "        lines = [ln.strip(\" -•\\t\") for ln in str(out).splitlines()]\n",
    "        lines = [ln for ln in lines if ln and not ln.lower().startswith((\"[źródła\", \"zrodla\", \"sources\", \"<\", \"[\"))]\n",
    "        return _safe_unique(lines, limit=k_variants)\n",
    "    except Exception:\n",
    "        return []\n",
    "\n",
    "def make_mq_prompts_llm(q: str) -> List[str]:\n",
    "    parsed = parse_query_fields(q)\n",
    "    base = _safe_unique(_base_mq_variants(q, n=MQ_BASE_VARIANTS))\n",
    "    gen  = _llm_generate_query_expansions(\n",
    "        question=q,\n",
    "        measure_hint=parsed.get(\"measure\"),\n",
    "        typ_hint=parsed.get(\"typ\"),\n",
    "        dataset_hint=parsed.get(\"dataset\"),\n",
    "        k_variants=MQ_LLM_VARIANTS\n",
    "    )\n",
    "    return _safe_unique(base + gen, limit=MQ_BASE_VARIANTS + MQ_LLM_VARIANTS)\n",
    "\n",
    "# -----------------------------\n",
    "# RRF — z „supportem”\n",
    "# -----------------------------\n",
    "def rrf_merge_with_support(runs: List[List[Document]], k: int = 120, k_rrf: int = 60) -> List[Document]:\n",
    "    scores, support, best = {}, {}, {}\n",
    "    pos_maps: List[Dict[Tuple[str,int], int]] = []\n",
    "    for run in runs:\n",
    "        m = {}\n",
    "        for i, d in enumerate(run):\n",
    "            key = (d.metadata.get(\"source_file\",\"?\"), d.metadata.get(\"row_index\",-1))\n",
    "            m[key] = i\n",
    "        pos_maps.append(m)\n",
    "    keys = set().union(*[set(m.keys()) for m in pos_maps])\n",
    "    for key in keys:\n",
    "        rrf = 0.0; sup = 0\n",
    "        for m in pos_maps:\n",
    "            if key in m:\n",
    "                rrf += 1.0 / (k_rrf + m[key] + 1)\n",
    "                sup += 1\n",
    "        scores[key]  = rrf\n",
    "        support[key] = sup\n",
    "    for run in runs:\n",
    "        for d in run:\n",
    "            key = (d.metadata.get(\"source_file\",\"?\"), d.metadata.get(\"row_index\",-1))\n",
    "            if key not in best: best[key] = d\n",
    "    merged = sorted(best.values(), key=lambda d: scores[(d.metadata.get(\"source_file\",\"?\"), d.metadata.get(\"row_index\",-1))], reverse=True)\n",
    "    for d in merged:\n",
    "        key = (d.metadata.get(\"source_file\",\"?\"), d.metadata.get(\"row_index\",-1))\n",
    "        d.metadata[\"rrf_support\"] = support[key]\n",
    "        d.metadata[\"rrf_score\"]   = scores[key]\n",
    "    return merged[:k]\n",
    "\n",
    "# -----------------------------\n",
    "# Dense search helpers\n",
    "# -----------------------------\n",
    "def dense_search(query: str, k: int = 80) -> List[Document]:\n",
    "    retr = vectorstore.as_retriever(search_kwargs={\"k\": k})\n",
    "    return retr.invoke(query)\n",
    "\n",
    "def dense_search_on(texts: List[str], k: int = 40) -> List[Document]:\n",
    "    retr = vectorstore.as_retriever(search_kwargs={\"k\": k})\n",
    "    out = []\n",
    "    for t in texts:\n",
    "        out.extend(retr.invoke(t))\n",
    "    seen = set()\n",
    "    uniq = []\n",
    "    for d in out:\n",
    "        key = (d.metadata.get(\"source_file\",\"?\"), d.metadata.get(\"row_index\",-1))\n",
    "        if key in seen: continue\n",
    "        seen.add(key); uniq.append(d)\n",
    "    return uniq\n",
    "\n",
    "# -----------------------------\n",
    "# Reranker CE (z punktacją)  [zapis ce_score w metadanych]\n",
    "\n",
    "def _soft_match(a: Optional[str], b: Optional[str], thr: float = 0.72) -> bool:\n",
    "    # a – wartość „szukana” (z parsingu), b – wartość z metadanych\n",
    "    if not a:\n",
    "        return True  # brak constraintu – przepuszczamy\n",
    "    if not b:\n",
    "        return False\n",
    "    return _ratio(norm_text(a), norm_text(b)) >= thr\n",
    "\n",
    "# -----------------------------\n",
    "# --- Cross-encoder (reranker) — nowy, stabilny wrapper\n",
    "from sentence_transformers import CrossEncoder\n",
    "\n",
    "CE_MODEL_ID = RERANKER_MODEL\n",
    "reranker_ce = None\n",
    "try:\n",
    "    reranker_ce = CrossEncoder(CE_MODEL_ID, device=emb.device)\n",
    "except Exception:\n",
    "    reranker_ce = None\n",
    "\n",
    "def _ce_text(d: Document, n: int = 800) -> str:\n",
    "    s = d.page_content or \"\"\n",
    "    return s if len(s) <= n else s[:n]\n",
    "def _to_float_score(sc) -> float:\n",
    "    \"\"\"Ujednolica wynik CrossEncodera do skalara float (obsługa [[x]], [x], numpy, itp.).\"\"\"\n",
    "    try:\n",
    "        import numpy as np\n",
    "        if hasattr(sc, \"shape\"):\n",
    "            return float(np.squeeze(sc))\n",
    "    except Exception:\n",
    "        pass\n",
    "    if isinstance(sc, (list, tuple)):\n",
    "        return 0.0 if not sc else _to_float_score(sc[0])\n",
    "    try:\n",
    "        return float(sc)\n",
    "    except Exception:\n",
    "        return 0.0\n",
    "\n",
    "def _fallback_dense_similarity(query: str, docs: List[Document]) -> List[Tuple[Document,float]]:\n",
    "    qv = torch.tensor(emb.embed_query(query))\n",
    "    dvs = torch.tensor([emb.embed_documents([d.page_content])[0] for d in docs])\n",
    "    sims = torch.nn.functional.cosine_similarity(qv[None, :], dvs, dim=1).tolist()\n",
    "    ranked = sorted([(d, s) for d, s in zip(docs, sims)], key=lambda x: x[1], reverse=True)\n",
    "    for d, s in ranked:\n",
    "        try: d.metadata[\"ce_score\"] = float(s)\n",
    "        except Exception: pass\n",
    "    return ranked\n",
    "\n",
    "def rerank_with_scores(query: str, docs: List[Document]) -> List[Tuple[Document, float]]:\n",
    "    if reranker_ce is None or not docs:\n",
    "        for d in docs:\n",
    "            try: d.metadata[\"ce_score\"] = 0.0\n",
    "            except Exception: pass\n",
    "        return [(d, 0.0) for d in docs]\n",
    "\n",
    "    pairs = [(query, _ce_text(d)) for d in docs]\n",
    "    scores = reranker_ce.predict(pairs)  # bez .tolist(); i tak ujednolicimy\n",
    "    out = []\n",
    "    for d, sc in zip(docs, scores):\n",
    "        scf = _to_float_score(sc)\n",
    "        try: d.metadata[\"ce_score\"] = scf\n",
    "        except Exception: pass\n",
    "        out.append((d, scf))\n",
    "\n",
    "    ranked = sorted(out, key=lambda x: x[1], reverse=True)\n",
    "\n",
    "    # jeśli skala „siadła” (wszystko niemal to samo), użyj fallbacku\n",
    "    vals = [s for _, s in ranked]\n",
    "    if len(vals) >= 3 and (max(vals) - min(vals) < 1e-6):\n",
    "        ranked = _fallback_dense_similarity(query, docs)\n",
    "\n",
    "    return ranked\n",
    "\n",
    "# -----------------------------\n",
    "# Okres → sortowanie\n",
    "# -----------------------------\n",
    "def period_key(p: Optional[str]) -> Tuple[int,int,int]:\n",
    "    if not p or str(p).strip()==\"\": return (0,0,0)\n",
    "    s = str(p).lower().strip()\n",
    "    m = re.match(r\"^(20\\d{2})[-_/ ]?q([1-4])$\", s)\n",
    "    if m: return (int(m.group(1)), int(m.group(2)), 0)\n",
    "    m = re.match(r\"^(20\\d{2})[-_/](\\d{1,2})[-_/](\\d{1,2})$\", s)\n",
    "    if m:\n",
    "        y, mo, d = map(int, m.groups())\n",
    "        daynum = (mo-1)*31 + d\n",
    "        q = (mo-1)//3 + 1\n",
    "        return (y, q, daynum)\n",
    "    m = re.match(r\"^(20\\d{2})$\", s)\n",
    "    if m: return (int(m.group(1)), 0, 0)\n",
    "    return (0,0,0)\n",
    "\n",
    "# -----------------------------\n",
    "# Fuzzy dopasowanie pól zapytania — wyłącznie z danych\n",
    "# -----------------------------\n",
    "try:\n",
    "    from rapidfuzz import fuzz\n",
    "    def _ratio(a,b): return fuzz.token_set_ratio(a,b) / 100.0\n",
    "except Exception:\n",
    "    import difflib\n",
    "    def _ratio(a,b): return difflib.SequenceMatcher(None, a, b).ratio()\n",
    "\n",
    "def best_match(token: str, candidates: set[str], min_ratio: float = 0.62) -> Optional[str]:\n",
    "    if not token or not candidates: return None\n",
    "    tn = norm_text(token)\n",
    "    best, score = None, 0.0\n",
    "    for c in candidates:\n",
    "        r = _ratio(tn, c)\n",
    "        if r > score:\n",
    "            best, score = c, r\n",
    "    return best if score >= min_ratio else None\n",
    "\n",
    "def parse_query_fields(q: str) -> Dict[str, Optional[str]]:\n",
    "    qn = norm_text(q)\n",
    "    m = re.search(r\"(20\\d{2}\\s*[-_/ ]?\\s*q[1-4])\", qn)\n",
    "    period = norm_period(m.group(1)) if m else None\n",
    "    dataset = best_match(qn, FIELD_VOCAB[\"dataset\"])\n",
    "    measure = best_match(qn, FIELD_VOCAB[\"measure\"])\n",
    "    region  = best_match(qn, FIELD_VOCAB[\"region\"])\n",
    "    typ     = best_match(qn, FIELD_VOCAB[\"typ\"])\n",
    "    if typ and measure and norm_text(typ) == norm_text(measure):\n",
    "        typ = None  # nie dublujemy constraintu\n",
    "    return {\"dataset\": dataset, \"measure\": measure, \"region\": region, \"typ\": typ, \"period\": period}\n",
    "\n",
    "def _take_closest_vocab(target: Optional[str], pool: set[str], k: int = 20) -> List[str]:\n",
    "    \"\"\"Weź k najbliższych (fuzzy) kandydatów z słownika, żeby nie pakować całego vocab do promptu.\"\"\"\n",
    "    if not target or not pool: return []\n",
    "    scored = []\n",
    "    for cand in pool:\n",
    "        scored.append((cand, _ratio(target, cand)))\n",
    "    scored.sort(key=lambda x: x[1], reverse=True)\n",
    "    return [c for c, _ in scored[:k]]\n",
    "\n",
    "def _safe_unique(xs: List[str], limit: int = 20) -> List[str]:\n",
    "    seen, out = set(), []\n",
    "    for x in xs:\n",
    "        s = norm_text(x)\n",
    "        if s and s not in seen:\n",
    "            seen.add(s); out.append(x.strip())\n",
    "        if len(out) >= limit: break\n",
    "    return out\n",
    "\n",
    "# -----------------------------\n",
    "# Klastrowanie i wybór „najnowszego ≠ NaN”\n",
    "# -----------------------------\n",
    "def _key4(d: Document) -> Tuple[str,str,str,str]:\n",
    "    m = d.metadata or {}\n",
    "    return (\n",
    "        norm_text(m.get(\"dataset\") or \"\"),\n",
    "        norm_text(m.get(\"measure\") or \"\"),\n",
    "        norm_text(m.get(\"type\") or \"\"),\n",
    "        norm_text(m.get(\"region\") or \"\"),\n",
    "    )\n",
    "\n",
    "def _valid_value(d: Document) -> bool:\n",
    "    v = d.metadata.get(\"value\", None)\n",
    "    try:\n",
    "        return (v is not None) and (not (isinstance(v,float) and (pd.isna(v))))\n",
    "    except Exception:\n",
    "        return v is not None\n",
    "\n",
    "def pick_latest_per_cluster(docs_scored: List[Tuple[Document,float]], k_clusters: int = 6) -> List[Document]:\n",
    "    bykey: Dict[Tuple[str,str,str,str], List[Tuple[Document,float,int]]] = {}\n",
    "    for d, s in docs_scored:\n",
    "        sup = int(d.metadata.get(\"rrf_support\", 1))\n",
    "        bykey.setdefault(_key4(d), []).append((d, s, sup))\n",
    "\n",
    "    best_per: List[Tuple[Document,float,int]] = []\n",
    "    for key, items in bykey.items():\n",
    "        # sort lokalny: support, score CE, okres\n",
    "        items.sort(key=lambda x: (x[2], x[1], period_key(x[0].metadata.get(\"okres\"))), reverse=True)\n",
    "        items_valid = [it for it in items if _valid_value(it[0])]\n",
    "        chosen = (sorted(items_valid, key=lambda x: period_key(x[0].metadata.get(\"okres\")), reverse=True)[0]\n",
    "                  if items_valid else items[0])\n",
    "        best_per.append(chosen)\n",
    "\n",
    "    # globalnie preferuj klastry z mocnym supportem/score i świeżym okresem\n",
    "    best_per.sort(key=lambda x: (x[2], x[1], period_key(x[0].metadata.get(\"okres\"))), reverse=True)\n",
    "    return [d for d,_,_ in best_per[:k_clusters]]\n",
    "\n",
    "# -----------------------------\n",
    "# SMART RETRIEVE (z debugiem)\n",
    "# -----------------------------\n",
    "def retrieve(query: str, k_final: int = 24) -> List[Document]:\n",
    "    global LAST_DEBUG   # ← deklaracja na początku funkcji\n",
    "\n",
    "    parsed = parse_query_fields(query)\n",
    "\n",
    "    # [DEBUG]\n",
    "    debug_info: Dict[str, Any] = {\"query\": query, \"parsed\": parsed}\n",
    "\n",
    "    # --- MultiQuery (LLM) ---\n",
    "    mq_variants = make_mq_prompts_llm(query)\n",
    "    d1 = dense_search_on(mq_variants, k=60)\n",
    "\n",
    "    # --- HyDE wyłączony ---\n",
    "    d2 = []\n",
    "\n",
    "    d0 = dense_search(query, k=100)\n",
    "    bm25.k = 100\n",
    "    d3 = bm25.invoke(query)\n",
    "\n",
    "    # [DEBUG]\n",
    "    debug_info[\"hits\"] = {\n",
    "        \"dense_q\": len(d0),\n",
    "        \"dense_mq\": len(d1),\n",
    "        \"hyde\": len(d2),\n",
    "        \"bm25\": len(d3),\n",
    "    }\n",
    "\n",
    "    fused = rrf_merge_with_support([d0, d1, d2, d3], k=160, k_rrf=60)\n",
    "    docs_scored = rerank_with_scores(query, fused)\n",
    "\n",
    "    # Filtr po polach — stosuj TYLKO jeśli udało się je rozpoznać\n",
    "    filtered: List[Tuple[Document,float]] = []\n",
    "    for d, s in docs_scored:\n",
    "        m = d.metadata or {}\n",
    "        ok = True\n",
    "        if not _soft_match(parsed[\"dataset\"], m.get(\"dataset\")): ok = False\n",
    "        if not _soft_match(parsed[\"measure\"], m.get(\"measure\")): ok = False\n",
    "        if not _soft_match(parsed[\"typ\"],     m.get(\"type\")):    ok = False\n",
    "        if not _soft_match(parsed[\"region\"],  m.get(\"region\")):  ok = False\n",
    "        if parsed[\"period\"] and norm_text(m.get(\"okres\") or \"\") != norm_text(parsed[\"period\"]):\n",
    "            ok = False\n",
    "        if ok:\n",
    "            filtered.append((d, s))\n",
    "\n",
    "\n",
    "    cand = filtered if len(filtered) >= 6 else docs_scored\n",
    "\n",
    "    # [DEBUG]\n",
    "    debug_info[\"filtered\"] = len(filtered)\n",
    "    debug_info[\"top_scores\"] = [float(s) for _, s in cand[:8] if s is not None]\n",
    "\n",
    "    # Bramka „answerability”\n",
    "    top_scores = [float(s) for _, s in cand[:8]]\n",
    "    if top_scores and max(top_scores) < MIN_RERANK_SCORE:\n",
    "        debug_info[\"decision\"] = \"unanswerable_by_ce\"\n",
    "        debug_info[\"selected_headers\"] = []\n",
    "        debug_info[\"ctx_for_llm\"] = \"\"\n",
    "        debug_info[\"ctx_debug\"] = \"\"\n",
    "        LAST_DEBUG = debug_info\n",
    "        _dbg(\"[DEBUG] Pakiet diagnostyczny:\\n\" + json.dumps(LAST_DEBUG, ensure_ascii=False, indent=2))\n",
    "        return []\n",
    "\n",
    "    # Redukcja do najlepszych „tabel” (klastrów)\n",
    "    top_table_docs = pick_latest_per_cluster(cand, k_clusters=6)\n",
    "\n",
    "    # Finalny porządek — najnowszy okres\n",
    "    top_table_docs.sort(key=lambda d: period_key(d.metadata.get(\"okres\")), reverse=True)\n",
    "\n",
    "    # [DEBUG] — nagłówki i dwie wersje kontekstu\n",
    "    try:\n",
    "        selected_headers = []\n",
    "        for i, d in enumerate(top_table_docs, 1):\n",
    "            m = d.metadata or {}\n",
    "            selected_headers.append({\n",
    "                \"i\": i,\n",
    "                \"dataset\": m.get(\"dataset\"),\n",
    "                \"source\": m.get(\"source_file\"),\n",
    "                \"okres\": m.get(\"okres\"),\n",
    "                \"region\": m.get(\"region\"),\n",
    "                \"row\": m.get(\"row_index\"),\n",
    "                \"ce\": m.get(\"ce_score\"),\n",
    "                \"rrf_support\": m.get(\"rrf_support\"),\n",
    "                \"rrf\": m.get(\"rrf_score\"),\n",
    "            })\n",
    "        docs_sorted = list(top_table_docs)\n",
    "        ctx_for_llm = format_context_for_llm(docs_sorted, max_docs=min(8, len(docs_sorted)))\n",
    "        ctx_debug   = format_context_for_debug(docs_sorted, max_docs=min(8, len(docs_sorted)))\n",
    "\n",
    "        debug_info[\"decision\"] = \"answerable\"\n",
    "        debug_info[\"selected_headers\"] = selected_headers\n",
    "        debug_info[\"ctx_for_llm\"] = ctx_for_llm\n",
    "        debug_info[\"ctx_debug\"] = ctx_debug\n",
    "        LAST_DEBUG = debug_info\n",
    "        _dbg(\"=== DEBUG: UŻYTY KONTEKST (LLM) ===\\n\" + ctx_for_llm)\n",
    "        _dbg(\"\\n=== DEBUG: KONTEKST (z metadanymi CE/RRF) ===\\n\" + ctx_debug)\n",
    "        _dbg(\"\\n[DEBUG] Pakiet diagnostyczny:\\n\" + json.dumps(LAST_DEBUG, ensure_ascii=False, indent=2))\n",
    "    except Exception as e:\n",
    "        _dbg(f\"[DEBUG] Nie udało się zbudować pakietu debug: {e}\")\n",
    "\n",
    "    return top_table_docs[:k_final]\n",
    "\n",
    "# -----------------------------\n",
    "# LLM (PLLuM-12B-chat) — opcjonalnie\n",
    "# -----------------------------\n",
    "from transformers import AutoTokenizer as HF_AutoTokenizer, AutoModelForCausalLM, BitsAndBytesConfig, pipeline\n",
    "from langchain_huggingface import HuggingFacePipeline\n",
    "\n",
    "def build_pllum_llm(model_id: str = LLM, use_4bit: bool = True, max_new_tokens: int = 220):\n",
    "    if use_4bit:\n",
    "        bnb = BitsAndBytesConfig(\n",
    "            load_in_4bit=True,\n",
    "            bnb_4bit_quant_type=\"nf4\",\n",
    "            bnb_4bit_use_double_quant=True,\n",
    "            bnb_4bit_compute_dtype=torch.bfloat16,\n",
    "        )\n",
    "        llm_model = AutoModelForCausalLM.from_pretrained(\n",
    "            model_id, device_map=\"auto\", quantization_config=bnb, trust_remote_code=True\n",
    "        )\n",
    "    else:\n",
    "        llm_model = AutoModelForCausalLM.from_pretrained(model_id, device_map=\"auto\", trust_remote_code=True)\n",
    "\n",
    "    tok = HF_AutoTokenizer.from_pretrained(model_id, use_fast=True)\n",
    "    if tok.pad_token is None:\n",
    "        tok.pad_token = tok.eos_token\n",
    "\n",
    "    gen_pipe = pipeline(\n",
    "        \"text-generation\",\n",
    "        model=llm_model,\n",
    "        tokenizer=tok,\n",
    "        max_new_tokens=max_new_tokens,\n",
    "        temperature=0.0,\n",
    "        do_sample=False,\n",
    "        pad_token_id=tok.pad_token_id,\n",
    "        eos_token_id=tok.eos_token_id,\n",
    "        return_full_text=False,\n",
    "    )\n",
    "    return HuggingFacePipeline(pipeline=gen_pipe)\n",
    "\n",
    "llm_pllum = build_pllum_llm() if USE_LLM else None\n",
    "\n",
    "def _trim(s: str, n: int = 500) -> str:\n",
    "    s = str(s)\n",
    "    return s if len(s) <= n else s[:n].rstrip() + \"…\"\n",
    "\n",
    "def format_context_for_llm(docs: List[Document], max_docs: int = 6, max_snip_chars: int = 420) -> str:\n",
    "    lines = []\n",
    "    for i, d in enumerate(docs[:max_docs], 1):\n",
    "        meta = d.metadata or {}\n",
    "        okres  = meta.get(\"okres\", \"\")\n",
    "        region = meta.get(\"region\", \"\")\n",
    "        dataset = meta.get(\"dataset\", \"\")\n",
    "        source  = meta.get(\"source_file\", \"\")\n",
    "        rowidx  = meta.get(\"row_index\", \"\")\n",
    "        header = f\"[{i}] dataset={dataset} | okres={okres or '-'} | region={region or '-'} | row={rowidx} | type={meta.get('type') or '-'} | measure={meta.get('measure','')} | value={meta.get('value','-')}\"\n",
    "        body = _trim(d.page_content, max_snip_chars)\n",
    "        lines.append(header + \"\\n\" + body)\n",
    "    return \"\\n\\n\".join(lines)\n",
    "\n",
    "# -----------------------------\n",
    "# DEBUG: alternatywny formatter z metadanymi CE/RRF (DODANE)\n",
    "# -----------------------------\n",
    "def _fmt_num(x, nd=3):\n",
    "    try:\n",
    "        return f\"{float(x):.{nd}f}\"\n",
    "    except Exception:\n",
    "        return str(x) if x is not None else \"-\"\n",
    "\n",
    "def format_context_for_debug(docs: List[Document], max_docs: int = 8, max_snip_chars: int = 300) -> str:\n",
    "    lines = []\n",
    "    for i, d in enumerate(docs[:max_docs], 1):\n",
    "        meta = d.metadata or {}\n",
    "        header = (\n",
    "            f\"[{i}] dataset={meta.get('dataset','')} | source={meta.get('source_file','')} \"\n",
    "            f\"| okres={meta.get('okres') or '-'} | region={meta.get('region') or '-'} | row={meta.get('row_index','-')} | type={meta.get('type') or '-'} | measure={meta.get('measure','')} | value={meta.get('value','-')} \"\n",
    "            f\"| ce={_fmt_num(meta.get('ce_score'))} | rrf_sup={meta.get('rrf_support','-')} | rrf={_fmt_num(meta.get('rrf_score'),4)}\"\n",
    "        )\n",
    "        body = _trim(d.page_content, max_snip_chars)\n",
    "        lines.append(header + \"\\n\" + body)\n",
    "    return \"\\n\\n\".join(lines)\n",
    "\n",
    "SYS_MSG = (\n",
    "    \"Jesteś asystentem danych KRUS. Odpowiadasz WYŁĄCZNIE na podstawie podanych fragmentów.\\n\"\n",
    "    \"Zasady:\\n\"\n",
    "    \"• Jeśli pytanie nie precyzuje daty/czasu ⇒ wybierz najnowszy okres.\\n\"\n",
    "    \"• Jeśli brak województwa/typu ⇒ użyj rekordów ogólnych, o ile dominują w kontekście.\\n\"\n",
    "    \"• Gdy w danych brakuje odpowiedzi ⇒ odpowiedz: 'Brak danych w dostarczonej dokumentacji.'\\n\"\n",
    "    \"• Podaj liczbę/jednostkę oraz okres/region. Nie halucynuj.\"\n",
    ")\n",
    "\n",
    "USER_TEMPLATE = (\n",
    "    \"<PYTANIE>\\n{question}\\n</PYTANIE>\\n\\n\"\n",
    "    \"<FRAGMENTY>\\n{context}\\n</FRAGMENTY>\\n\\n\"\n",
    "    \"Sformułuj 1–2 zdaniową odpowiedź po polsku, użyj metryki 'value', podaj liczbę/jednostkę i krótko wskaż okres/region. Strikte odnoś się do zapytania użytkownika. Jeśli użytkownik podaje datę to odpowiedz na podstawie rekordów, które mają taką samą datę, w innym wypadku podaj odpowiedź z 2025 roku \\n\"\n",
    ")\n",
    "\n",
    "def build_prompt(question: str, context: str) -> str:\n",
    "    return f\"<s>[INST] <<SYS>>{SYS_MSG}<</SYS>>\\n\" + USER_TEMPLATE.format(question=question, context=context) + \"[/INST]\"\n",
    "\n",
    "def build_sources_block(docs: List[Document]) -> str:\n",
    "    lines = [\"[ŹRÓDŁA]\"]\n",
    "    for i, d in enumerate(docs, 1):\n",
    "        m = d.metadata or {}\n",
    "        lines.append(f\"- #[{i}] dataset={m.get('dataset')} | measure={m.get('measure')}\"\n",
    "                     f\"okres={m.get('okres') or '-'} | region={m.get('region') or '-'}  | typ={m.get('type') or '-'}| value={m.get('value')}\")\n",
    "    return \"\\n\".join(lines)\n",
    "\n",
    "# -----------------------------\n",
    "# Odpowiadanie (z krótkim logiem kontekstu)\n",
    "# -----------------------------\n",
    "def answer_pllum(question: str, k_ctx: int = 8) -> str:\n",
    "    docs = retrieve(question, k_final=max(12, k_ctx))\n",
    "    if not docs:\n",
    "        return \"Brak danych pasujących do pytania.\\n[ŹRÓDŁA]\\n– brak\"\n",
    "\n",
    "    # Najnowsze najpierw\n",
    "    docs_sorted = sorted(docs, key=lambda d: period_key(d.metadata.get(\"okres\")), reverse=True)\n",
    "\n",
    "    # === NOWE: fallback przy słabym RRF ===\n",
    "    try:\n",
    "        best_rrf = max(float(d.metadata.get(\"rrf_score\") or 0.0) for d in docs_sorted) if docs_sorted else 0.0\n",
    "    except Exception:\n",
    "        best_rrf = 0.0\n",
    "    if best_rrf < RRF_LOW_THRESHOLD:\n",
    "        # Top-3 „najtrafniejsze” wg CE → RRF → świeżość okresu\n",
    "        top3 = sorted(\n",
    "            docs_sorted,\n",
    "            key=lambda d: (\n",
    "                float(d.metadata.get(\"ce_score\") or 0.0),\n",
    "                float(d.metadata.get(\"rrf_score\") or 0.0),\n",
    "                period_key(d.metadata.get(\"okres\")),\n",
    "            ),\n",
    "            reverse=True\n",
    "        )[:3]\n",
    "\n",
    "        lines = []\n",
    "        for i, d in enumerate(top3, 1):\n",
    "            mv = d.metadata\n",
    "            lines.append(\n",
    "                f\"{i}) {mv.get('value','-')} —  {mv.get('dataset','-')}; {mv.get('measure','-')}: {mv.get('type','-')} \"\n",
    "                f\"[okres: {mv.get('okres') or '-'}; region: {mv.get('region') or 'ogółem'}] \"\n",
    "            )\n",
    "        src_block = build_sources_block(top3)\n",
    "        return (\n",
    "            \"Oto 3 najbardziej trafne dopasowania:\\n\"\n",
    "            + \"\\n\".join(lines) + \"\\n\\n\" + src_block\n",
    "        )\n",
    "    # === /NOWE ===\n",
    "\n",
    "    # Dotychczasowy tryb „pełnej” odpowiedzi\n",
    "    ctx = format_context_for_llm(docs_sorted, max_docs=min(k_ctx, len(docs_sorted)))\n",
    "    src_block = build_sources_block(docs_sorted[:min(k_ctx, len(docs_sorted))])\n",
    "\n",
    "    if DEBUG_CONTEXT:\n",
    "        _dbg(\"=== DEBUG: UŻYTY KONTEKST (LLM) ===\\n\" + ctx)\n",
    "\n",
    "    if not USE_LLM:\n",
    "        top = docs_sorted[0]\n",
    "        mv = top.metadata\n",
    "        return (\n",
    "            f\"{mv.get('value')} (okres: {mv.get('okres') or '-'}, region: {mv.get('region') or 'ogółem'}, \"\n",
    "            f\"measure: {mv.get('measure')})\\n\\n[ŹRÓDŁA]\\n- #1 dataset={mv.get('dataset')} | \"\n",
    "            f\"source={mv.get('source_file')} | okres={mv.get('okres')} | region={mv.get('region') or '-'}\"\n",
    "        )\n",
    "\n",
    "    prompt = build_prompt(question, ctx)\n",
    "    try:\n",
    "        out = llm_pllum.invoke(prompt)\n",
    "    except Exception as e:\n",
    "        headers_only = \"\\n\".join(line.split(\"\\n\",1)[0] for line in ctx.split(\"\\n\\n\"))\n",
    "        return f\"Nie udało się wygenerować odpowiedzi LLM ({e}).\\nDostępny kontekst:\\n{headers_only}\"\n",
    "    return f\"{out}\\n{src_block}\"\n",
    "\n"
   ]
  },
  {
   "cell_type": "code",
   "execution_count": null,
   "id": "c121169a",
   "metadata": {},
   "outputs": [
    {
     "name": "stderr",
     "output_type": "stream",
     "text": [
      "The following generation flags are not valid and may be ignored: ['temperature']. Set `TRANSFORMERS_VERBOSITY=info` for more details.\n"
     ]
    },
    {
     "name": "stdout",
     "output_type": "stream",
     "text": [
      "\n",
      "Q: ile wynosi przeciętna liczba świadczeń emerytalnych?\n"
     ]
    },
    {
     "name": "stderr",
     "output_type": "stream",
     "text": [
      "The following generation flags are not valid and may be ignored: ['temperature']. Set `TRANSFORMERS_VERBOSITY=info` for more details.\n",
      "The following generation flags are not valid and may be ignored: ['temperature']. Set `TRANSFORMERS_VERBOSITY=info` for more details.\n"
     ]
    },
    {
     "name": "stdout",
     "output_type": "stream",
     "text": [
      "W 2025 roku, w ogólnej populacji, przeciętna miesięczna liczba świadczeniobiorców emerytur i rent wynosi 963679.\n",
      "[ŹRÓDŁA]\n",
      "- #[1] dataset=EMERYTURY I RENTY REALIZOWANE PRZEZ KRUS | measure=przeciętna miesięczna liczba świadczeniobiorców emerytur i rentokres=2025-Q1 | region=ogółem  | typ=ogółem| value=963679.0 | ce=0.822 | rrf_sup=3 | rrf=0.0352\n",
      "- #[2] dataset=EMERYTURY I RENTY REALIZOWANE PRZEZ KRUS | measure=przeciętna miesięczna liczba świadczeniobiorców emerytur i rentokres=2025-Q1 | region=ogółem  | typ=renty rodzinne| value=39541.0 | ce=0.805 | rrf_sup=3 | rrf=0.0282\n",
      "- #[3] dataset=EMERYTURY I RENTY REALIZOWANE PRZEZ KRUS | measure=przeciętna miesięczna liczba świadczeniobiorców emerytur i rentokres=2025-Q1 | region=ogółem  | typ=emerytury| value=760307.0 | ce=0.796 | rrf_sup=3 | rrf=0.0334\n",
      "- #[4] dataset=EMERYTURY I RENTY REALIZOWANE PRZEZ KRUS | measure=przeciętna miesięczna liczba świadczeniobiorców emerytur i rentokres=2025-Q1 | region=ogółem  | typ=renty z tytułu niezdolności do pracy| value=163830.0 | ce=0.725 | rrf_sup=3 | rrf=0.0281\n",
      "- #[5] dataset=EMERYTURY I RENTY REALIZOWANE PRZEZ KRUS | measure=przeciętna miesięczna liczba świadczeniobiorcówokres=2025-Q1 | region=ogółem  | typ=renty z tytułu niezdolności do pracy| value=10946.0 | ce=0.559 | rrf_sup=3 | rrf=0.0251\n",
      "- #[6] dataset=ŚWIADCZENIA EMERYTALNO RENTOWE TRANSFEROWANE DO POSZCZEGÓLNYCH PAŃSTW UE EFTA I WIELKIEJ BRYTANII  ORAZ DO INNYCH PAŃSTW NA PODSTAWIE UMÓW DWUSTRONNYCH | measure=Emerytury Przeciętna liczba osóbokres=2025 | region=Świadczenia zbiegowe  | typ=ogółem| value=34.0 | ce=0.705 | rrf_sup=2 | rrf=0.0308\n",
      "\n",
      "Q: ile wynosi przeciętne świadczenie emerytalne?\n"
     ]
    },
    {
     "name": "stderr",
     "output_type": "stream",
     "text": [
      "The following generation flags are not valid and may be ignored: ['temperature']. Set `TRANSFORMERS_VERBOSITY=info` for more details.\n",
      "The following generation flags are not valid and may be ignored: ['temperature']. Set `TRANSFORMERS_VERBOSITY=info` for more details.\n"
     ]
    },
    {
     "name": "stdout",
     "output_type": "stream",
     "text": [
      "Odpowiedź: Przeciętne świadczenie emerytalne w 2025 roku ogółem wynosi 2178,42 złotych.\n",
      "[ŹRÓDŁA]\n",
      "- #[1] dataset=EMERYTURY I RENTY REALIZOWANE PRZEZ KRUS | measure=przeciętne świadczenie/emerytura w złokres=2025-Q1 | region=ogółem  | typ=emerytury| value=2184.49 | ce=0.878 | rrf_sup=3 | rrf=0.0348\n",
      "- #[2] dataset=EMERYTURY I RENTY REALIZOWANE PRZEZ KRUS | measure=przeciętne świadczenie/emerytura w złokres=2025-Q1 | region=ogółem  | typ=renty rodzinne| value=2744.96 | ce=0.858 | rrf_sup=3 | rrf=0.0315\n",
      "- #[3] dataset=EMERYTURY I RENTY REALIZOWANE PRZEZ KRUS | measure=przeciętne świadczenie/emerytura w złokres=2025-Q1 | region=ogółem  | typ=ogółem| value=2178.42 | ce=0.850 | rrf_sup=3 | rrf=0.0318\n",
      "- #[4] dataset=EMERYTURY I RENTY REALIZOWANE PRZEZ KRUS | measure=przeciętne świadczenie/emerytura w złokres=2025-Q1 | region=ogółem  | typ=renty z tytułu niezdolności do pracy| value=2013.48 | ce=0.362 | rrf_sup=3 | rrf=0.0320\n",
      "- #[5] dataset=PRZECIĘTNE MIESIĘCZNE ŚWIADCZENIE EMERYTALNO-RENTOWE WEDŁUG WOJEWÓDZTW ORAZ PRZECIĘTNE MIESIĘCZNE ŚWIADCZENIE EMERYTALNE WYPŁACONE PRZEZ MON, MSWiA i MS | measure=ogółemokres=2025 | region=Emerytury finansowane z funduszu emerytalno-rentowego  | typ=ogółem| value=935.33 | ce=0.384 | rrf_sup=2 | rrf=0.0215\n",
      "- #[6] dataset=PRZECIĘTNE MIESIĘCZNE ŚWIADCZENIE EMERYTALNO-RENTOWE WEDŁUG RODZAJÓW ŚWIADCZEŃ | measure=2024-Q4okres=2024-Q4 | region=ogółem  | typ=Emerytury OGÓŁEM| value=2066.57 | ce=0.371 | rrf_sup=2 | rrf=0.0222\n",
      "\n",
      "Q: ilu jest płatników składek do krus?\n"
     ]
    },
    {
     "name": "stderr",
     "output_type": "stream",
     "text": [
      "The following generation flags are not valid and may be ignored: ['temperature']. Set `TRANSFORMERS_VERBOSITY=info` for more details.\n",
      "The following generation flags are not valid and may be ignored: ['temperature']. Set `TRANSFORMERS_VERBOSITY=info` for more details.\n"
     ]
    },
    {
     "name": "stdout",
     "output_type": "stream",
     "text": [
      "Odpowiedź: W 2025 roku w KRUS jest 745395 płatników składek.\n",
      "[ŹRÓDŁA]\n",
      "- #[1] dataset=Liczba płatników składek w KRUS | measure=Liczba płatników składekokres=31.12.2024 | region=ogółem  | typ=ogółem| value=745395.0 | ce=0.992 | rrf_sup=3 | rrf=0.0492\n",
      "- #[2] dataset=Liczba płatników składek w KRUS | measure=liczba płatników posiadajšcych dział specjalny produkcji rolnej oraz gospodarstwo rolneokres=30.09.2024 | region=ogółem  | typ=ogółem| value=6933.0 | ce=0.980 | rrf_sup=3 | rrf=0.0425\n",
      "- #[3] dataset=Liczba płatników składek w KRUS | measure=liczba płatników opłacajšcych składki z tytułu prowadzenia samoistnego działu specjalnego produkcji rolnejokres=31.12.2024 | region=ogółem  | typ=ogółem| value=2083.0 | ce=0.978 | rrf_sup=3 | rrf=0.0438\n",
      "\n",
      "Q: ile osób jest ubezpieczone w krus?\n"
     ]
    },
    {
     "name": "stderr",
     "output_type": "stream",
     "text": [
      "The following generation flags are not valid and may be ignored: ['temperature']. Set `TRANSFORMERS_VERBOSITY=info` for more details.\n",
      "The following generation flags are not valid and may be ignored: ['temperature']. Set `TRANSFORMERS_VERBOSITY=info` for more details.\n"
     ]
    },
    {
     "name": "stdout",
     "output_type": "stream",
     "text": [
      "W 2025 roku w województwie zachodniopomorskim 588 osób jest ubezpieczonych w KRUS.\n",
      "[ŹRÓDŁA]\n",
      "- #[1] dataset=LICZBA UBEZPIECZONYCH W KRUS PRZY JEDNOCZESNYM OBJĘCIU UBEZPIECZENIEM SPOŁECZNYM W ZUS Z INNEGO TYTUŁU 1)  WEDŁUG WOJEWÓDZTW | measure=ogółemokres=2025 | region=zachodniopomorskie  | typ=ogółem| value=588.0 | ce=0.600 | rrf_sup=2 | rrf=0.0229\n",
      "- #[2] dataset=LICZBA UBEZPIECZONYCH W KRUS PRZY JEDNOCZESNYM OBJĘCIU UBEZPIECZENIEM SPOŁECZNYM W ZUS Z INNEGO TYTUŁU 1)  WEDŁUG WOJEWÓDZTW | measure=ogółemokres=2025 | region=kujawsko-pomorskie  | typ=ogółem| value=1150.0 | ce=0.585 | rrf_sup=2 | rrf=0.0279\n",
      "- #[3] dataset=LICZBA UBEZPIECZONYCH W KRUS PRZY JEDNOCZESNYM OBJĘCIU UBEZPIECZENIEM SPOŁECZNYM W ZUS Z INNEGO TYTUŁU 1)  WEDŁUG WOJEWÓDZTW | measure=ogółemokres=2025 | region=pomorskie  | typ=ogółem| value=619.0 | ce=0.576 | rrf_sup=2 | rrf=0.0303\n",
      "- #[4] dataset=LICZBA UBEZPIECZONYCH W KRUS PRZY JEDNOCZESNYM OBJĘCIU UBEZPIECZENIEM SPOŁECZNYM W ZUS Z INNEGO TYTUŁU 1)  WEDŁUG WOJEWÓDZTW | measure=ogółemokres=2025 | region=lubelskie  | typ=ogółem| value=2450.0 | ce=0.571 | rrf_sup=2 | rrf=0.0290\n",
      "- #[5] dataset=LICZBA UBEZPIECZONYCH W KRUS PRZY JEDNOCZESNYM OBJĘCIU UBEZPIECZENIEM SPOŁECZNYM W ZUS Z INNEGO TYTUŁU 1)  WEDŁUG WOJEWÓDZTW | measure=ogółemokres=2025 | region=śląskie  | typ=ogółem| value=431.0 | ce=0.571 | rrf_sup=2 | rrf=0.0250\n",
      "- #[6] dataset=Liczba płatników składek w KRUS | measure=Liczba płatników składekokres=31.12.2024 | region=ogółem  | typ=ogółem| value=745395.0 | ce=0.785 | rrf_sup=2 | rrf=0.0235\n",
      "\n",
      "Q: ile współmałżonków jest ubezpieczone w krus?\n"
     ]
    },
    {
     "name": "stderr",
     "output_type": "stream",
     "text": [
      "The following generation flags are not valid and may be ignored: ['temperature']. Set `TRANSFORMERS_VERBOSITY=info` for more details.\n"
     ]
    }
   ],
   "source": [
    "\n",
    "tests = [\n",
    "\"ile wynosi przeciętna liczba świadczeń emerytalnych?\",\n",
    "\"ile wynosi przeciętne świadczenie emerytalne?\",\n",
    "\"ilu jest płatników składek do krus?\",\n",
    "\"ile osób jest ubezpieczone w krus?\",\n",
    "\"ile współmałżonków jest ubezpieczone w krus?\",\n",
    "\"ile wynosi przeciętna liczba Renty z tytułu niezdolności do pracy razem?\",\n",
    "\"ile wypłacono na renty socjalne w tym roku?\",\n",
    "\"ile osob podlega ubezpieczeniu zdrowotnemu w kujawsko-pomorskie?\",\n",
    "\"ile wynosi przeciętny zasiłek macierzyński?\",\n",
    "]\n",
    "for q in tests:\n",
    "    print(\"\\nQ:\", q)\n",
    "    print(answer_pllum(q, k_ctx=10))\n"
   ]
  },
  {
   "cell_type": "code",
   "execution_count": 23,
   "id": "a5eaac41",
   "metadata": {},
   "outputs": [
    {
     "name": "stderr",
     "output_type": "stream",
     "text": [
      "The following generation flags are not valid and may be ignored: ['temperature']. Set `TRANSFORMERS_VERBOSITY=info` for more details.\n"
     ]
    },
    {
     "name": "stdout",
     "output_type": "stream",
     "text": [
      "\n",
      "Q: jaka jest emerytura?\n",
      "Brak danych pasujących do pytania.\n",
      "[ŹRÓDŁA]\n",
      "– brak\n"
     ]
    }
   ],
   "source": [
    "\n",
    "tests = [\n",
    "\"jaka jest emerytura?\"\n",
    "]\n",
    "for q in tests:\n",
    "    print(\"\\nQ:\", q)\n",
    "    print(answer_pllum(q, k_ctx=10))\n"
   ]
  },
  {
   "cell_type": "code",
   "execution_count": 20,
   "id": "30e76872",
   "metadata": {},
   "outputs": [
    {
     "name": "stderr",
     "output_type": "stream",
     "text": [
      "The following generation flags are not valid and may be ignored: ['temperature']. Set `TRANSFORMERS_VERBOSITY=info` for more details.\n"
     ]
    },
    {
     "name": "stdout",
     "output_type": "stream",
     "text": [
      "\n",
      "Q: Jakie było przeciętne świadczenie emerytalne wypłacane przez KRUS w Polsce w pierwszym kwartale 2024 roku?\n"
     ]
    },
    {
     "name": "stderr",
     "output_type": "stream",
     "text": [
      "The following generation flags are not valid and may be ignored: ['temperature']. Set `TRANSFORMERS_VERBOSITY=info` for more details.\n",
      "The following generation flags are not valid and may be ignored: ['temperature']. Set `TRANSFORMERS_VERBOSITY=info` for more details.\n"
     ]
    },
    {
     "name": "stdout",
     "output_type": "stream",
     "text": [
      "Odpowiedź: W pierwszym kwartale 2024 roku przeciętne świadczenie emerytalne wypłacane przez KRUS w Polsce wynosiło 2184,49 złotych.\n",
      "[ŹRÓDŁA]\n",
      "- #[1] dataset=EMERYTURY I RENTY REALIZOWANE PRZEZ KRUS | source=all_data.csv | okres=2025-Q1 | region=ogółem | measure=przeciętne świadczenie w zł | typ=emerytury| value=2184.49 | ce=0.986 | rrf_sup=3 | rrf=0.0435\n",
      "- #[2] dataset=EMERYTURY I RENTY REALIZOWANE PRZEZ KRUS | source=all_data.csv | okres=2025-Q1 | region=ogółem | measure=przeciętne świadczenie w zł | typ=renty rodzinne| value=2744.96 | ce=0.984 | rrf_sup=3 | rrf=0.0285\n",
      "- #[3] dataset=EMERYTURY I RENTY REALIZOWANE PRZEZ KRUS | source=all_data.csv | okres=2025-Q1 | region=ogółem | measure=przeciętne świadczenie w zł | typ=ogółem| value=2178.42 | ce=0.978 | rrf_sup=3 | rrf=0.0325\n",
      "- #[4] dataset=EMERYTURY I RENTY REALIZOWANE PRZEZ KRUS | source=all_data.csv | okres=2025-Q1 | region=ogółem | measure=przeciętne świadczenie w zł | typ=renty z tytułu niezdolności do pracy| value=2013.48 | ce=0.879 | rrf_sup=3 | rrf=0.0283\n",
      "- #[5] dataset=EMERYTURY I RENTY REALIZOWANE PRZEZ KRUS | source=all_data.csv | okres=2024-Q4 | region=ogółem | measure=przeciętna miesięczna liczba świadczeniobiorców | typ=ogółem| value=26166.0 | ce=0.909 | rrf_sup=2 | rrf=0.0182\n",
      "- #[6] dataset=EMERYTURY I RENTY REALIZOWANE PRZEZ KRUS | source=all_data.csv | okres=2024-Q1 | region=ogółem | measure=przeciętne świadczenie w zł | typ=ŚWIADCZENIA PIENIĘŻNE DLA CYWILNYCH NIEWIDOMYCH OFIAR DZIAŁAŃ WOJENNYCH| value=None | ce=0.394 | rrf_sup=3 | rrf=0.0336\n",
      "\n",
      "Q: Jakie było przypisane i wpływy należności z tytułu składek na ubezpieczenie społeczne rolników w województwie podkarpackim, z uwzględnieniem składek finansowanych z budżetu państwa na ubezpieczenie emerytalno-rentowe za osoby sprawujące opiekę nad dzieckiem?\n"
     ]
    },
    {
     "name": "stderr",
     "output_type": "stream",
     "text": [
      "The following generation flags are not valid and may be ignored: ['temperature']. Set `TRANSFORMERS_VERBOSITY=info` for more details.\n",
      "The following generation flags are not valid and may be ignored: ['temperature']. Set `TRANSFORMERS_VERBOSITY=info` for more details.\n"
     ]
    },
    {
     "name": "stdout",
     "output_type": "stream",
     "text": [
      "W 2025 roku w województwie podkarpackim przypisane i wpływy należności z tytułu składek na ubezpieczenie społeczne rolników wyniosły 1690124.00 złotych.\n",
      "[ŹRÓDŁA]\n",
      "- #[1] dataset=TABLICA 7 (36). PRZYPIS I WPŁYWY NALEŻNOŚCI Z TYTUŁU SKŁADEK NA UBEZPIECZENIE SPOŁECZNE ROLNIKÓW WEDŁUG WOJEWÓDZTW | source=all_data.csv | okres=2025 | region=podkarpackie | measure=Składki finansowane z budżetu państwa na ubezpieczenie emerytalno-rentowe za osoby sprawujące opiekę nad dzieckiem | typ=ogółem| value=1690124.0 | ce=0.992 | rrf_sup=3 | rrf=0.0463\n",
      "- #[2] dataset=TABLICA 7 (36). PRZYPIS I WPŁYWY NALEŻNOŚCI Z TYTUŁU SKŁADEK NA UBEZPIECZENIE SPOŁECZNE ROLNIKÓW WEDŁUG WOJEWÓDZTW | source=all_data.csv | okres=2025 | region=pomorskie | measure=Składki finansowane z budżetu państwa na ubezpieczenie emerytalno-rentowe za osoby sprawujące opiekę nad dzieckiem | typ=ogółem| value=496596.0 | ce=0.944 | rrf_sup=3 | rrf=0.0439\n",
      "- #[3] dataset=TABLICA 7 (36). PRZYPIS I WPŁYWY NALEŻNOŚCI Z TYTUŁU SKŁADEK NA UBEZPIECZENIE SPOŁECZNE ROLNIKÓW WEDŁUG WOJEWÓDZTW | source=all_data.csv | okres=2025 | region=OGÓŁEM | measure=Składki finansowane z budżetu państwa na ubezpieczenie emerytalno-rentowe za osoby sprawujące opiekę nad dzieckiem | typ=ogółem| value=15127463.0 | ce=0.923 | rrf_sup=3 | rrf=0.0440\n",
      "- #[4] dataset=TABLICA 7 (36). PRZYPIS I WPŁYWY NALEŻNOŚCI Z TYTUŁU SKŁADEK NA UBEZPIECZENIE SPOŁECZNE ROLNIKÓW WEDŁUG WOJEWÓDZTW | source=all_data.csv | okres=2025 | region=łódzkie | measure=Składki finansowane z budżetu państwa na ubezpieczenie emerytalno-rentowe za osoby sprawujące opiekę nad dzieckiem | typ=ogółem| value=947537.0 | ce=0.920 | rrf_sup=3 | rrf=0.0395\n",
      "- #[5] dataset=TABLICA 7 (36). PRZYPIS I WPŁYWY NALEŻNOŚCI Z TYTUŁU SKŁADEK NA UBEZPIECZENIE SPOŁECZNE ROLNIKÓW WEDŁUG WOJEWÓDZTW | source=all_data.csv | okres=2025 | region=opolskie | measure=Składki finansowane z budżetu państwa na ubezpieczenie emerytalno-rentowe za osoby sprawujące opiekę nad dzieckiem | typ=ogółem| value=273795.0 | ce=0.907 | rrf_sup=3 | rrf=0.0450\n",
      "- #[6] dataset=TABLICA 7 (36). PRZYPIS I WPŁYWY NALEŻNOŚCI Z TYTUŁU SKŁADEK NA UBEZPIECZENIE SPOŁECZNE ROLNIKÓW WEDŁUG WOJEWÓDZTW | source=all_data.csv | okres=2025 | region=podlaskie | measure=Składki finansowane z budżetu państwa na ubezpieczenie emerytalno-rentowe za osoby sprawujące opiekę nad dzieckiem | typ=ogółem| value=1122678.0 | ce=0.905 | rrf_sup=3 | rrf=0.0433\n",
      "\n",
      "Q: Jakie było przeciętne świadczenie w złotych zasiłków pogrzebowych po inwalidach wojennych wojskowych i osobach represjonowanych oraz członkach ich rodzin w czwartym kwartale 2024 roku?\n"
     ]
    },
    {
     "name": "stderr",
     "output_type": "stream",
     "text": [
      "The following generation flags are not valid and may be ignored: ['temperature']. Set `TRANSFORMERS_VERBOSITY=info` for more details.\n",
      "The following generation flags are not valid and may be ignored: ['temperature']. Set `TRANSFORMERS_VERBOSITY=info` for more details.\n"
     ]
    },
    {
     "name": "stdout",
     "output_type": "stream",
     "text": [
      "Odpowiedź: 3999,63 PLN w 2024-Q4, region ogółem, typ Przeciętne świadczenie w zł Zasiłki Pogrzebowe Po Inwalidach Wojennych.\n",
      "[ŹRÓDŁA]\n",
      "- #[1] dataset=TABLICA 12 (24). ZASIŁKI POGRZEBOWE WEDŁUG WOJEWÓDZTW | source=all_data.csv | okres=2025 | region=śląskie | measure=kwota wypłat w pln po członkach rodzin | typ=ogółem| value=24000.0 | ce=0.245 | rrf_sup=3 | rrf=0.0311\n",
      "- #[2] dataset=TABLICA 12 (24). ZASIŁKI POGRZEBOWE WEDŁUG WOJEWÓDZTW | source=all_data.csv | okres=2025 | region=dolnośląskie | measure=kwota wypłat w pln po członkach rodzin | typ=ogółem| value=24000.0 | ce=0.187 | rrf_sup=3 | rrf=0.0344\n",
      "- #[3] dataset=TABLICA 12 (24). ZASIŁKI POGRZEBOWE WEDŁUG WOJEWÓDZTW | source=all_data.csv | okres=2025 | region=opolskie | measure=kwota wypłat w pln po członkach rodzin | typ=ogółem| value=48000.0 | ce=0.157 | rrf_sup=3 | rrf=0.0341\n",
      "- #[4] dataset=TABLICA 11 (23). ZASIŁKI POGRZEBOWE | source=all_data.csv | okres=2024-Q4 | region=ogółem | measure=2024-Q4 | typ=Przeciętne świadczenie w zł ZASIŁKI POGRZEBOWE PO INWALIDACH WOJENNYCH| value=3999.63 | ce=0.991 | rrf_sup=2 | rrf=0.0302\n",
      "- #[5] dataset=TABLICA 11 (23). ZASIŁKI POGRZEBOWE | source=all_data.csv | okres=2024-Q4 | region=ogółem | measure=2024-Q4 | typ=Przeciętne świadczenie w zł ZASIŁKI POGRZEBOWE OGÓŁEM| value=3999.92 | ce=0.971 | rrf_sup=2 | rrf=0.0226\n",
      "- #[6] dataset=TABLICA 11 (23). ZASIŁKI POGRZEBOWE | source=all_data.csv | okres=2024-Q4 | region=ogółem | measure=2024-Q4 | typ=Liczba świadczeń ZASIŁKI POGRZEBOWE PO INWALIDACH WOJENNYCH| value=677.0 | ce=0.966 | rrf_sup=2 | rrf=0.0277\n",
      "\n",
      "Q: Jaką kwotę wypłat w złotych stanowiły renty z tytułu niezdolności do pracy wypadkowe w transferach emerytalno-rentowych do Grecji?\n"
     ]
    },
    {
     "name": "stderr",
     "output_type": "stream",
     "text": [
      "The following generation flags are not valid and may be ignored: ['temperature']. Set `TRANSFORMERS_VERBOSITY=info` for more details.\n",
      "The following generation flags are not valid and may be ignored: ['temperature']. Set `TRANSFORMERS_VERBOSITY=info` for more details.\n"
     ]
    },
    {
     "name": "stdout",
     "output_type": "stream",
     "text": [
      "Brak danych w dostarczonej dokumentacji.\n",
      "[ŹRÓDŁA]\n",
      "- #[1] dataset=TABLICA 12. ŚWIADCZENIA EMERYTALNO RENTOWE TRANSFEROWANE DO POSZCZEGÓLNYCH PAŃSTW UE EFTA I WIELKIEJ BRYTANII  ORAZ DO INNYCH PAŃSTW NA PODSTAWIE UMÓW DWUSTRONNYCH | source=all_data.csv | okres=2025 | region=do państw UE/EFTA i Wielkiej Brytanii razem | measure=w tym: renty z tytułu niezdolności do pracy wypadkowe Kwota wypłat w zł | typ=ogółem| value=16884.46 | ce=0.948 | rrf_sup=3 | rrf=0.0399\n",
      "- #[2] dataset=TABLICA 12. ŚWIADCZENIA EMERYTALNO RENTOWE TRANSFEROWANE DO POSZCZEGÓLNYCH PAŃSTW UE EFTA I WIELKIEJ BRYTANII  ORAZ DO INNYCH PAŃSTW NA PODSTAWIE UMÓW DWUSTRONNYCH | source=all_data.csv | okres=2025 | region=OGÓŁEM | measure=w tym: renty z tytułu niezdolności do pracy wypadkowe Kwota wypłat w zł | typ=ogółem| value=16884.46 | ce=0.945 | rrf_sup=3 | rrf=0.0346\n",
      "- #[3] dataset=TABLICA 12. ŚWIADCZENIA EMERYTALNO RENTOWE TRANSFEROWANE DO POSZCZEGÓLNYCH PAŃSTW UE EFTA I WIELKIEJ BRYTANII  ORAZ DO INNYCH PAŃSTW NA PODSTAWIE UMÓW DWUSTRONNYCH | source=all_data.csv | okres=2025 | region=Niemcy | measure=w tym: renty z tytułu niezdolności do pracy wypadkowe Kwota wypłat w zł | typ=ogółem| value=16884.46 | ce=0.909 | rrf_sup=3 | rrf=0.0358\n",
      "- #[4] dataset=TABLICA 12. ŚWIADCZENIA EMERYTALNO RENTOWE TRANSFEROWANE DO POSZCZEGÓLNYCH PAŃSTW UE EFTA I WIELKIEJ BRYTANII  ORAZ DO INNYCH PAŃSTW NA PODSTAWIE UMÓW DWUSTRONNYCH | source=all_data.csv | okres=2025 | region=Grecja | measure=w tym: renty z tytułu niezdolności do pracy wypadkowe Kwota wypłat w zł | typ=ogółem| value=None | ce=0.905 | rrf_sup=3 | rrf=0.0414\n",
      "- #[5] dataset=TABLICA 12. ŚWIADCZENIA EMERYTALNO RENTOWE TRANSFEROWANE DO POSZCZEGÓLNYCH PAŃSTW UE EFTA I WIELKIEJ BRYTANII  ORAZ DO INNYCH PAŃSTW NA PODSTAWIE UMÓW DWUSTRONNYCH | source=all_data.csv | okres=2025 | region=do państw objętych umowami dwustronnymi razem | measure=w tym: renty z tytułu niezdolności do pracy wypadkowe Kwota wypłat w zł | typ=ogółem| value=None | ce=0.621 | rrf_sup=3 | rrf=0.0300\n",
      "- #[6] dataset=TABLICA 12. ŚWIADCZENIA EMERYTALNO RENTOWE TRANSFEROWANE DO POSZCZEGÓLNYCH PAŃSTW UE EFTA I WIELKIEJ BRYTANII  ORAZ DO INNYCH PAŃSTW NA PODSTAWIE UMÓW DWUSTRONNYCH | source=all_data.csv | okres=2025 | region=Cypr | measure=w tym: renty z tytułu niezdolności do pracy wypadkowe Kwota wypłat w zł | typ=ogółem| value=None | ce=0.577 | rrf_sup=3 | rrf=0.0317\n",
      "\n",
      "Q: Jaką liczbę płatników składek w Kasie Rolniczego Ubezpieczenia Społecznego (KRUS) odnotowano w Polsce 30 września 2024 roku?\n"
     ]
    },
    {
     "name": "stderr",
     "output_type": "stream",
     "text": [
      "The following generation flags are not valid and may be ignored: ['temperature']. Set `TRANSFORMERS_VERBOSITY=info` for more details.\n",
      "The following generation flags are not valid and may be ignored: ['temperature']. Set `TRANSFORMERS_VERBOSITY=info` for more details.\n"
     ]
    },
    {
     "name": "stdout",
     "output_type": "stream",
     "text": [
      "Odpowiedź:\n",
      "\n",
      "759 274 płatników składek w KRUS ogółem w Polsce 30 czerwca 2024 roku.\n",
      "[ŹRÓDŁA]\n",
      "- #[1] dataset=Liczba płatników składek w KRUS | source=all_data.csv | okres=30.09.2024 | region=ogółem | measure=liczba płatników posiadajšcych dział specjalny produkcji rolnej oraz gospodarstwo rolne | typ=ogółem| value=6933.0 | ce=0.998 | rrf_sup=3 | rrf=0.0472\n",
      "- #[2] dataset=Liczba płatników składek w KRUS | source=all_data.csv | okres=30.06.2024 | region=ogółem | measure=Liczba płatników składek | typ=ogółem| value=759274.0 | ce=0.989 | rrf_sup=3 | rrf=0.0440\n",
      "- #[3] dataset=Liczba płatników składek w KRUS | source=all_data.csv | okres=30.09.2024 | region=ogółem | measure=liczba płatników opłacajšcych składki z tytułu prowadzenia samoistnego działu specjalnego produkcji rolnej | typ=ogółem| value=2103.0 | ce=0.979 | rrf_sup=3 | rrf=0.0453\n",
      "\n",
      "Q: Jaką liczbę ubezpieczonych zarejestrowano w Funduszu Emerytalno-Rentowym w pierwszym kwartale 2025 roku?\n"
     ]
    },
    {
     "name": "stderr",
     "output_type": "stream",
     "text": [
      "The following generation flags are not valid and may be ignored: ['temperature']. Set `TRANSFORMERS_VERBOSITY=info` for more details.\n"
     ]
    },
    {
     "name": "stdout",
     "output_type": "stream",
     "text": [
      "Oto 3 najbardziej trafne dopasowania:\n",
      "1) 985815.0 — Liczba ubezpieczonych ogółem [okres: 31.03.2025; region: ogółem] (rrf=0.0154, ce=0.957)\n",
      "2) 9572.0 — liczba ubezpieczonych w okresie przyznania świadczenia pielęgnacyjnego lub specjalnego zasiłku opiekuńczego albo zasiłku dla opiekuna [okres: 31.12.2024; region: ogółem] (rrf=0.0102, ce=0.945)\n",
      "3) 985815.0 — Liczba ubezpieczonych stan na 31.03.2025 [okres: 2025; region: Ogółem] (rrf=0.0083, ce=0.873)\n",
      "\n",
      "[ŹRÓDŁA]\n",
      "- #[1] dataset=Liczba ubezpieczonych według statusu na 2025-Q1 | source=all_data.csv | okres=31.03.2025 | region=ogółem | measure=Liczba ubezpieczonych ogółem | typ=ogółem| value=985815.0 | ce=0.957 | rrf_sup=2 | rrf=0.0154\n",
      "- #[2] dataset=Liczba ubezpieczonych według statusu na 2025-Q1 | source=all_data.csv | okres=31.12.2024 | region=ogółem | measure=liczba ubezpieczonych w okresie przyznania świadczenia pielęgnacyjnego lub specjalnego zasiłku opiekuńczego albo zasiłku dla opiekuna | typ=ogółem| value=9572.0 | ce=0.945 | rrf_sup=1 | rrf=0.0102\n",
      "- #[3] dataset=TABLICA 2 (14). PRZECIĘTNA MIESIĘCZNA LICZBA ŚWIADCZENIOBIORCÓW ORAZ LICZBA UBEZPIECZONYCH | source=all_data.csv | okres=2025 | region=Ogółem | measure=Liczba ubezpieczonych stan na 31.03.2025 | typ=ogółem| value=985815.0 | ce=0.873 | rrf_sup=1 | rrf=0.0083\n",
      "\n",
      "Q: Jaką liczbę osób podlegających ubezpieczeniu zdrowotnemu w województwie lubuskim, które są domownikami pracującymi w gospodarstwach rolnych o powierzchni 6 hektarów lub większych, można przeliczyć na osoby pracujące w tych gospodarstwach?\n"
     ]
    },
    {
     "name": "stderr",
     "output_type": "stream",
     "text": [
      "The following generation flags are not valid and may be ignored: ['temperature']. Set `TRANSFORMERS_VERBOSITY=info` for more details.\n",
      "The following generation flags are not valid and may be ignored: ['temperature']. Set `TRANSFORMERS_VERBOSITY=info` for more details.\n"
     ]
    },
    {
     "name": "stdout",
     "output_type": "stream",
     "text": [
      "Odpowiedź:\n",
      "\n",
      "W województwie lubuskim w 2025 roku, liczba osób podlegających ubezpieczeniu zdrowotnemu, które są domownikami rolników pracującymi w gospodarstwach rolnych o powierzchni 6 hektarów lub większych, wynosi 726. Liczba ta jest przeliczona na osoby pracujące w tych gospodarstwach.\n",
      "[ŹRÓDŁA]\n",
      "- #[1] dataset=TABLICA 1 (38). LICZBA OSÓB PODLEGAJĄCYCH UBEZPIECZENIU ZDROWOTNEMU WEDŁUG WOJEWÓDZTW | source=all_data.csv | okres=2025 | region=lubuskie | measure=domownicy rolników pracujący w gospodarstwach rolnych poniżej 6 ha przelicz.1) | typ=ogółem| value=857.0 | ce=0.998 | rrf_sup=3 | rrf=0.0431\n",
      "- #[2] dataset=TABLICA 1 (38). LICZBA OSÓB PODLEGAJĄCYCH UBEZPIECZENIU ZDROWOTNEMU WEDŁUG WOJEWÓDZTW | source=all_data.csv | okres=2025 | region=lubuskie | measure=domownicy pracujący w gospodarstwach rolnych 6 ha przelicz. i więcej | typ=ogółem| value=726.0 | ce=0.998 | rrf_sup=3 | rrf=0.0477\n",
      "- #[3] dataset=TABLICA 1 (38). LICZBA OSÓB PODLEGAJĄCYCH UBEZPIECZENIU ZDROWOTNEMU WEDŁUG WOJEWÓDZTW | source=all_data.csv | okres=2025 | region=lubelskie | measure=domownicy rolników pracujący w gospodarstwach rolnych poniżej 6 ha przelicz.1) | typ=ogółem| value=7088.0 | ce=0.995 | rrf_sup=3 | rrf=0.0425\n",
      "- #[4] dataset=TABLICA 1 (38). LICZBA OSÓB PODLEGAJĄCYCH UBEZPIECZENIU ZDROWOTNEMU WEDŁUG WOJEWÓDZTW | source=all_data.csv | okres=2025 | region=lubelskie | measure=domownicy pracujący w gospodarstwach rolnych 6 ha przelicz. i więcej | typ=ogółem| value=4770.0 | ce=0.994 | rrf_sup=3 | rrf=0.0465\n",
      "- #[5] dataset=TABLICA 1 (38). LICZBA OSÓB PODLEGAJĄCYCH UBEZPIECZENIU ZDROWOTNEMU WEDŁUG WOJEWÓDZTW | source=all_data.csv | okres=2025 | region=lubelskie | measure=rolnicy prowadzący działalność rolniczą w gospodarstwach rolnych poniżej 6 ha przelicz.1) | typ=ogółem| value=64985.0 | ce=0.975 | rrf_sup=3 | rrf=0.0401\n",
      "- #[6] dataset=TABLICA 1 (38). LICZBA OSÓB PODLEGAJĄCYCH UBEZPIECZENIU ZDROWOTNEMU WEDŁUG WOJEWÓDZTW | source=all_data.csv | okres=2025 | region=lubuskie | measure=rolnicy prowadzący działalność rolniczą w gospodarstwach rolnych poniżej 6 ha przelicz.1) | typ=ogółem| value=5173.0 | ce=0.975 | rrf_sup=3 | rrf=0.0398\n",
      "\n",
      "Q: Jaką przeciętną liczbę osób otrzymujących emerytury zarejestrowano w Portugalii?\n"
     ]
    },
    {
     "name": "stderr",
     "output_type": "stream",
     "text": [
      "The following generation flags are not valid and may be ignored: ['temperature']. Set `TRANSFORMERS_VERBOSITY=info` for more details.\n"
     ]
    },
    {
     "name": "stdout",
     "output_type": "stream",
     "text": [
      "Brak danych pasujących do pytania.\n",
      "[ŹRÓDŁA]\n",
      "– brak\n",
      "\n",
      "Q: Jaką przeciętną miesięczną liczbę świadczeniobiorców w I kwartale 2025 roku odnotowano w województwie pomorskim?\n"
     ]
    },
    {
     "name": "stderr",
     "output_type": "stream",
     "text": [
      "The following generation flags are not valid and may be ignored: ['temperature']. Set `TRANSFORMERS_VERBOSITY=info` for more details.\n",
      "The following generation flags are not valid and may be ignored: ['temperature']. Set `TRANSFORMERS_VERBOSITY=info` for more details.\n"
     ]
    },
    {
     "name": "stdout",
     "output_type": "stream",
     "text": [
      "Odpowiedź: W województwie pomorskim odnotowano 31879 świadczeniobiorców w I kwartale 2025 roku.\n",
      "[ŹRÓDŁA]\n",
      "- #[1] dataset=TABLICA 2 (14). PRZECIĘTNA MIESIĘCZNA LICZBA ŚWIADCZENIOBIORCÓW ORAZ LICZBA UBEZPIECZONYCH | source=all_data.csv | okres=2025 | region=pomorskie | measure=Przeciętna miesięczna liczba świadczeniobiorców w I kwartale 2025 r. | typ=ogółem| value=31879.0 | ce=0.999 | rrf_sup=3 | rrf=0.0477\n",
      "- #[2] dataset=TABLICA 2 (14). PRZECIĘTNA MIESIĘCZNA LICZBA ŚWIADCZENIOBIORCÓW ORAZ LICZBA UBEZPIECZONYCH | source=all_data.csv | okres=2025 | region=kujawsko-pomorskie | measure=Przeciętna miesięczna liczba świadczeniobiorców w I kwartale 2025 r. | typ=ogółem| value=65947.0 | ce=0.997 | rrf_sup=3 | rrf=0.0453\n",
      "- #[3] dataset=TABLICA 2 (14). PRZECIĘTNA MIESIĘCZNA LICZBA ŚWIADCZENIOBIORCÓW ORAZ LICZBA UBEZPIECZONYCH | source=all_data.csv | okres=2025 | region=zachodniopomorskie | measure=Przeciętna miesięczna liczba świadczeniobiorców w I kwartale 2025 r. | typ=ogółem| value=20355.0 | ce=0.997 | rrf_sup=3 | rrf=0.0468\n",
      "- #[4] dataset=TABLICA 2 (14). PRZECIĘTNA MIESIĘCZNA LICZBA ŚWIADCZENIOBIORCÓW ORAZ LICZBA UBEZPIECZONYCH | source=all_data.csv | okres=2025 | region=MS | measure=Przeciętna miesięczna liczba świadczeniobiorców w I kwartale 2025 r. | typ=ogółem| value=22.0 | ce=0.992 | rrf_sup=3 | rrf=0.0395\n",
      "- #[5] dataset=TABLICA 2 (14). PRZECIĘTNA MIESIĘCZNA LICZBA ŚWIADCZENIOBIORCÓW ORAZ LICZBA UBEZPIECZONYCH | source=all_data.csv | okres=2025 | region=MSWiA | measure=Przeciętna miesięczna liczba świadczeniobiorców w I kwartale 2025 r. | typ=ogółem| value=265.0 | ce=0.953 | rrf_sup=3 | rrf=0.0416\n",
      "- #[6] dataset=TABLICA 2 (14). PRZECIĘTNA MIESIĘCZNA LICZBA ŚWIADCZENIOBIORCÓW ORAZ LICZBA UBEZPIECZONYCH | source=all_data.csv | okres=2025 | region=warmińsko-mazurskie | measure=Przeciętna miesięczna liczba świadczeniobiorców w I kwartale 2025 r. | typ=ogółem| value=34854.0 | ce=0.950 | rrf_sup=3 | rrf=0.0453\n",
      "\n",
      "Q: Jaką średnią miesięczną wartość emerytur i rent wypadkowych zanotowano w pierwszym kwartale 2024 roku?\n"
     ]
    },
    {
     "name": "stderr",
     "output_type": "stream",
     "text": [
      "The following generation flags are not valid and may be ignored: ['temperature']. Set `TRANSFORMERS_VERBOSITY=info` for more details.\n",
      "The following generation flags are not valid and may be ignored: ['temperature']. Set `TRANSFORMERS_VERBOSITY=info` for more details.\n"
     ]
    },
    {
     "name": "stdout",
     "output_type": "stream",
     "text": [
      "Odpowiedź: 744 PLN w 2024 Q1, ogółem.\n",
      "[ŹRÓDŁA]\n",
      "- #[1] dataset=TABLICA 1 (13). PRZECIĘTNA MIESIĘCZNA LICZBA EMERYTUR I RENT WEDŁUG RODZAJÓW ŚWIADCZEŃ | source=all_data.csv | okres=2025-Q1 | region=ogółem | measure=2025-Q1 | typ=w tym renty rodzinne wypadkowe| value=722.0 | ce=0.979 | rrf_sup=2 | rrf=0.0217\n",
      "- #[2] dataset=TABLICA 1 (13). PRZECIĘTNA MIESIĘCZNA LICZBA EMERYTUR I RENT WEDŁUG RODZAJÓW ŚWIADCZEŃ | source=all_data.csv | okres=2025-Q1 | region=ogółem | measure=2025-Q1 | typ=w tym renty z tytułu niezdolności do pracy wypadkowe| value=10946.0 | ce=0.966 | rrf_sup=2 | rrf=0.0231\n",
      "- #[3] dataset=TABLICA 1 (13). PRZECIĘTNA MIESIĘCZNA LICZBA EMERYTUR I RENT WEDŁUG RODZAJÓW ŚWIADCZEŃ | source=all_data.csv | okres=2024-Q4 | region=ogółem | measure=2024-Q4 | typ=w tym renty rodzinne wypadkowe| value=713.0 | ce=0.981 | rrf_sup=2 | rrf=0.0312\n",
      "- #[4] dataset=TABLICA 1 (13). PRZECIĘTNA MIESIĘCZNA LICZBA EMERYTUR I RENT WEDŁUG RODZAJÓW ŚWIADCZEŃ | source=all_data.csv | okres=2024-Q1 | region=ogółem | measure=2024-Q1 | typ=w tym renty rodzinne wypadkowe| value=744.0 | ce=0.993 | rrf_sup=2 | rrf=0.0328\n",
      "- #[5] dataset=TABLICA 1 (13). PRZECIĘTNA MIESIĘCZNA LICZBA EMERYTUR I RENT WEDŁUG RODZAJÓW ŚWIADCZEŃ | source=all_data.csv | okres=2024-Q1 | region=ogółem | measure=2024-Q1 | typ=w tym renty z tytułu niezdolności do pracy wypadkowe| value=11186.0 | ce=0.986 | rrf_sup=2 | rrf=0.0323\n",
      "- #[6] dataset=TABLICA 7 (19). PRZECIĘTNE MIESIĘCZNE ŚWIADCZENIE EMERYTALNO-RENTOWE WEDŁUG RODZAJÓW ŚWIADCZEŃ | source=all_data.csv | okres=2024-Q1 | region=ogółem | measure=2024-Q1 | typ=w tym renty rodzinne wypadkowe| value=2124.5 | ce=0.972 | rrf_sup=2 | rrf=0.0265\n",
      "\n",
      "Q: Jakie były wydatki na świadczenia emerytalno-rentowe w województwie małopolskim?\n"
     ]
    },
    {
     "name": "stderr",
     "output_type": "stream",
     "text": [
      "The following generation flags are not valid and may be ignored: ['temperature']. Set `TRANSFORMERS_VERBOSITY=info` for more details.\n",
      "The following generation flags are not valid and may be ignored: ['temperature']. Set `TRANSFORMERS_VERBOSITY=info` for more details.\n"
     ]
    },
    {
     "name": "stdout",
     "output_type": "stream",
     "text": [
      "Odpowiedź: W 2025 roku w województwie małopolskim wydatki na świadczenia emerytalno-rentowe wyniosły 526 698 067,80.\n",
      "[ŹRÓDŁA]\n",
      "- #[1] dataset=TABLICA 4 (33). LICZBA UBEZPIECZONYCH WEDŁUG WOJEWÓDZTW | source=all_data.csv | okres=2025 | region=małopolskie | measure=Fundusz Składkowy i Emerytalno-Rentowy - w tym ubezpieczeni na wniosek | typ=ogółem| value=41224.0 | ce=0.129 | rrf_sup=3 | rrf=0.0315\n",
      "- #[2] dataset=TABLICA 6 (18). WYDATKI NA ŚWIADCZENIA EMERYTALNO-RENTOWE WEDŁUG WOJEWÓDZTW ORAZ ŚWIADCZENIA EMERYTALNE WYPŁACONE PRZEZ MON, MSWiA i MS | source=all_data.csv | okres=2025 | region=małopolskie | measure=emerytury | typ=ogółem| value=364706956.63 | ce=0.890 | rrf_sup=2 | rrf=0.0328\n",
      "- #[3] dataset=TABLICA 6 (18). WYDATKI NA ŚWIADCZENIA EMERYTALNO-RENTOWE WEDŁUG WOJEWÓDZTW ORAZ ŚWIADCZENIA EMERYTALNE WYPŁACONE PRZEZ MON, MSWiA i MS | source=all_data.csv | okres=2025 | region=małopolskie | measure=Ogółem | typ=ogółem| value=526698067.8 | ce=0.839 | rrf_sup=2 | rrf=0.0310\n",
      "- #[4] dataset=TABLICA 6 (18). WYDATKI NA ŚWIADCZENIA EMERYTALNO-RENTOWE WEDŁUG WOJEWÓDZTW ORAZ ŚWIADCZENIA EMERYTALNE WYPŁACONE PRZEZ MON, MSWiA i MS | source=all_data.csv | okres=2025 | region=małopolskie | measure=rodzinne ogółem | typ=ogółem| value=23886890.64 | ce=0.802 | rrf_sup=2 | rrf=0.0288\n",
      "- #[5] dataset=TABLICA 6 (18). WYDATKI NA ŚWIADCZENIA EMERYTALNO-RENTOWE WEDŁUG WOJEWÓDZTW ORAZ ŚWIADCZENIA EMERYTALNE WYPŁACONE PRZEZ MON, MSWiA i MS | source=all_data.csv | okres=2025 | region=małopolskie | measure=rodzinne w tym wypadkowe | typ=ogółem| value=420427.11 | ce=0.785 | rrf_sup=2 | rrf=0.0310\n",
      "- #[6] dataset=TABLICA 6 (18). WYDATKI NA ŚWIADCZENIA EMERYTALNO-RENTOWE WEDŁUG WOJEWÓDZTW ORAZ ŚWIADCZENIA EMERYTALNE WYPŁACONE PRZEZ MON, MSWiA i MS | source=all_data.csv | okres=2025 | region=małopolskie | measure=z tytułu niezdolności do pracy ogółem | typ=ogółem| value=138104220.53 | ce=0.756 | rrf_sup=2 | rrf=0.0315\n",
      "\n",
      "Q: Jaką przeciętną liczbę osób otrzymujących renty z tytułu niezdolności do pracy odnotowano w Hiszpanii?\n"
     ]
    },
    {
     "name": "stderr",
     "output_type": "stream",
     "text": [
      "The following generation flags are not valid and may be ignored: ['temperature']. Set `TRANSFORMERS_VERBOSITY=info` for more details.\n",
      "The following generation flags are not valid and may be ignored: ['temperature']. Set `TRANSFORMERS_VERBOSITY=info` for more details.\n"
     ]
    },
    {
     "name": "stdout",
     "output_type": "stream",
     "text": [
      "Odpowiedź: Brak danych w dostarczonej dokumentacji.\n",
      "[ŹRÓDŁA]\n",
      "- #[1] dataset=WNIOSKI O PRZYZNANIE EMERYTUR I RENT WEDŁUG RODZAJÓW | source=all_data.csv | okres=2025-Q1 | region=ogółem | measure=Liczba zarejestrowanych wniosków | typ=Renty z tytułu niezdolności do pracy w tym renty z tytułu niezdolności do pracy wypadkowe| value=514.0 | ce=0.179 | rrf_sup=3 | rrf=0.0321\n",
      "- #[2] dataset=WNIOSKI O PRZYZNANIE EMERYTUR I RENT WEDŁUG RODZAJÓW | source=all_data.csv | okres=2025-Q1 | region=ogółem | measure=Liczba załatwionych wniosków | typ=Renty z tytułu niezdolności do pracy w tym renty z tytułu niezdolności do pracy wypadkowe| value=470.0 | ce=0.111 | rrf_sup=3 | rrf=0.0339\n",
      "- #[3] dataset=TABLICA 12. ŚWIADCZENIA EMERYTALNO RENTOWE TRANSFEROWANE DO POSZCZEGÓLNYCH PAŃSTW UE EFTA I WIELKIEJ BRYTANII  ORAZ DO INNYCH PAŃSTW NA PODSTAWIE UMÓW DWUSTRONNYCH | source=all_data.csv | okres=2025 | region=Hiszpania | measure=w tym: renty z tytułu niezdolności do pracy wypadkowe Przeciętna liczba osób | typ=ogółem| value=None | ce=0.897 | rrf_sup=3 | rrf=0.0410\n",
      "- #[4] dataset=TABLICA 12. ŚWIADCZENIA EMERYTALNO RENTOWE TRANSFEROWANE DO POSZCZEGÓLNYCH PAŃSTW UE EFTA I WIELKIEJ BRYTANII  ORAZ DO INNYCH PAŃSTW NA PODSTAWIE UMÓW DWUSTRONNYCH | source=all_data.csv | okres=2025 | region=Włochy | measure=w tym: renty z tytułu niezdolności do pracy wypadkowe Przeciętna liczba osób | typ=ogółem| value=None | ce=0.115 | rrf_sup=3 | rrf=0.0362\n",
      "- #[5] dataset=TABLICA 12. ŚWIADCZENIA EMERYTALNO RENTOWE TRANSFEROWANE DO POSZCZEGÓLNYCH PAŃSTW UE EFTA I WIELKIEJ BRYTANII  ORAZ DO INNYCH PAŃSTW NA PODSTAWIE UMÓW DWUSTRONNYCH | source=all_data.csv | okres=2025 | region=Portugalia | measure=w tym: renty z tytułu niezdolności do pracy wypadkowe Przeciętna liczba osób | typ=ogółem| value=None | ce=0.107 | rrf_sup=3 | rrf=0.0287\n",
      "- #[6] dataset=TABLICA 12. ŚWIADCZENIA EMERYTALNO RENTOWE TRANSFEROWANE DO POSZCZEGÓLNYCH PAŃSTW UE EFTA I WIELKIEJ BRYTANII  ORAZ DO INNYCH PAŃSTW NA PODSTAWIE UMÓW DWUSTRONNYCH | source=all_data.csv | okres=2025 | region=Grecja | measure=w tym: renty z tytułu niezdolności do pracy wypadkowe Przeciętna liczba osób | typ=ogółem| value=None | ce=0.102 | rrf_sup=3 | rrf=0.0301\n",
      "\n",
      "Q: Ilu rolników prowadzących wyłącznie działy specjalne produkcji rolnej podlega ubezpieczeniu zdrowotnemu w województwie lubuskim?\n"
     ]
    },
    {
     "name": "stderr",
     "output_type": "stream",
     "text": [
      "The following generation flags are not valid and may be ignored: ['temperature']. Set `TRANSFORMERS_VERBOSITY=info` for more details.\n",
      "The following generation flags are not valid and may be ignored: ['temperature']. Set `TRANSFORMERS_VERBOSITY=info` for more details.\n"
     ]
    },
    {
     "name": "stdout",
     "output_type": "stream",
     "text": [
      "Odpowiedź: W województwie lubuskim 89 rolników prowadzących wyłącznie działy specjalne produkcji rolnej podlega ubezpieczeniu zdrowotnemu.\n",
      "[ŹRÓDŁA]\n",
      "- #[1] dataset=TABLICA 1 (38). LICZBA OSÓB PODLEGAJĄCYCH UBEZPIECZENIU ZDROWOTNEMU WEDŁUG WOJEWÓDZTW | source=all_data.csv | okres=2025 | region=lubuskie | measure=rolnicy prowadzący wyłącznie działy specjalne produkcji rolnej 2) | typ=ogółem| value=89.0 | ce=0.998 | rrf_sup=3 | rrf=0.0467\n",
      "- #[2] dataset=TABLICA 1 (38). LICZBA OSÓB PODLEGAJĄCYCH UBEZPIECZENIU ZDROWOTNEMU WEDŁUG WOJEWÓDZTW | source=all_data.csv | okres=2025 | region=lubelskie | measure=rolnicy prowadzący wyłącznie działy specjalne produkcji rolnej 2) | typ=ogółem| value=43.0 | ce=0.993 | rrf_sup=3 | rrf=0.0452\n",
      "- #[3] dataset=TABLICA 1 (38). LICZBA OSÓB PODLEGAJĄCYCH UBEZPIECZENIU ZDROWOTNEMU WEDŁUG WOJEWÓDZTW | source=all_data.csv | okres=2025 | region=lubuskie | measure=domownicy rolników pracujący wyłącznie w działach specjalnych produkcji rolnej 2) | typ=ogółem| value=8.0 | ce=0.988 | rrf_sup=3 | rrf=0.0439\n",
      "- #[4] dataset=TABLICA 1 (38). LICZBA OSÓB PODLEGAJĄCYCH UBEZPIECZENIU ZDROWOTNEMU WEDŁUG WOJEWÓDZTW | source=all_data.csv | okres=2025 | region=lubuskie | measure=rolnicy prowadzący gospodarstwo rolne i dział specjalny produkcji rolnej 2) | typ=ogółem| value=215.0 | ce=0.987 | rrf_sup=3 | rrf=0.0387\n",
      "- #[5] dataset=TABLICA 1 (38). LICZBA OSÓB PODLEGAJĄCYCH UBEZPIECZENIU ZDROWOTNEMU WEDŁUG WOJEWÓDZTW | source=all_data.csv | okres=2025 | region=lubelskie | measure=rolnicy prowadzący gospodarstwo rolne i dział specjalny produkcji rolnej 2) | typ=ogółem| value=469.0 | ce=0.985 | rrf_sup=3 | rrf=0.0383\n",
      "- #[6] dataset=TABLICA 1 (38). LICZBA OSÓB PODLEGAJĄCYCH UBEZPIECZENIU ZDROWOTNEMU WEDŁUG WOJEWÓDZTW | source=all_data.csv | okres=2025 | region=świętokrzyskie | measure=rolnicy prowadzący wyłącznie działy specjalne produkcji rolnej 2) | typ=ogółem| value=46.0 | ce=0.961 | rrf_sup=3 | rrf=0.0406\n",
      "\n",
      "Q: Jakie było przeciętne świadczenie zasiłku macierzyńskiego w województwie opolskim?\n"
     ]
    },
    {
     "name": "stderr",
     "output_type": "stream",
     "text": [
      "The following generation flags are not valid and may be ignored: ['temperature']. Set `TRANSFORMERS_VERBOSITY=info` for more details.\n",
      "The following generation flags are not valid and may be ignored: ['temperature']. Set `TRANSFORMERS_VERBOSITY=info` for more details.\n"
     ]
    },
    {
     "name": "stdout",
     "output_type": "stream",
     "text": [
      "Odpowiedź: W województwie opolskim przeciętne świadczenie zasiłku macierzyńskiego w 2025 roku wynosiło 1012,47.\n",
      "[ŹRÓDŁA]\n",
      "- #[1] dataset=TABLICA 10 (22). ZASIŁKI MACIERZYŃSKIE WEDŁUG WOJEWÓDZTW | source=all_data.csv | okres=2025 | region=opolskie | measure=przeciętne świadczenie | typ=ogółem| value=1012.47 | ce=0.990 | rrf_sup=3 | rrf=0.0456\n",
      "- #[2] dataset=TABLICA 10 (22). ZASIŁKI MACIERZYŃSKIE WEDŁUG WOJEWÓDZTW | source=all_data.csv | okres=2025 | region=pomorskie | measure=przeciętne świadczenie | typ=ogółem| value=995.96 | ce=0.778 | rrf_sup=3 | rrf=0.0384\n",
      "- #[3] dataset=TABLICA 10 (22). ZASIŁKI MACIERZYŃSKIE WEDŁUG WOJEWÓDZTW | source=all_data.csv | okres=2025 | region=zachodniopomorskie | measure=przeciętne świadczenie | typ=ogółem| value=998.98 | ce=0.699 | rrf_sup=3 | rrf=0.0411\n",
      "- #[4] dataset=TABLICA 10 (22). ZASIŁKI MACIERZYŃSKIE WEDŁUG WOJEWÓDZTW | source=all_data.csv | okres=2025 | region=OGÓŁEM | measure=przeciętne świadczenie | typ=ogółem| value=1005.94 | ce=0.642 | rrf_sup=3 | rrf=0.0397\n",
      "- #[5] dataset=TABLICA 10 (22). ZASIŁKI MACIERZYŃSKIE WEDŁUG WOJEWÓDZTW | source=all_data.csv | okres=2025 | region=małopolskie | measure=przeciętne świadczenie | typ=ogółem| value=984.51 | ce=0.614 | rrf_sup=3 | rrf=0.0362\n",
      "- #[6] dataset=TABLICA 10 (22). ZASIŁKI MACIERZYŃSKIE WEDŁUG WOJEWÓDZTW | source=all_data.csv | okres=2025 | region=podkarpackie | measure=przeciętne świadczenie | typ=ogółem| value=991.86 | ce=0.585 | rrf_sup=3 | rrf=0.0357\n",
      "\n",
      "Q: Jakie było przeciętne miesięczne świadczenie emerytalno-rentowe realizowane przez KRUS ogółem w województwie mazowieckim?\n"
     ]
    },
    {
     "name": "stderr",
     "output_type": "stream",
     "text": [
      "The following generation flags are not valid and may be ignored: ['temperature']. Set `TRANSFORMERS_VERBOSITY=info` for more details.\n",
      "The following generation flags are not valid and may be ignored: ['temperature']. Set `TRANSFORMERS_VERBOSITY=info` for more details.\n"
     ]
    },
    {
     "name": "stdout",
     "output_type": "stream",
     "text": [
      "Odpowiedź: W 2025 roku w województwie mazowieckim przeciętne miesięczne świadczenie emerytalno-rentowe realizowane przez KRUS ogółem wynosiło 2163,80 zł.\n",
      "[ŹRÓDŁA]\n",
      "- #[1] dataset=TABLICA 3 (15). PRZECIĘTNE MIESIĘCZNE ŚWIADCZENIA EMERYTALNO-RENTOWE WEDŁUG WOJEWÓDZTW | source=all_data.csv | okres=2025 | region=mazowieckie | measure=Świadczenia realizowane przez KRUS ogółem | typ=ogółem| value=2163.8 | ce=0.998 | rrf_sup=3 | rrf=0.0452\n",
      "- #[2] dataset=TABLICA 3 (15). PRZECIĘTNE MIESIĘCZNE ŚWIADCZENIA EMERYTALNO-RENTOWE WEDŁUG WOJEWÓDZTW | source=all_data.csv | okres=2025 | region=MS | measure=Świadczenia realizowane przez KRUS ogółem | typ=ogółem| value=835.64 | ce=0.990 | rrf_sup=3 | rrf=0.0377\n",
      "- #[3] dataset=TABLICA 3 (15). PRZECIĘTNE MIESIĘCZNE ŚWIADCZENIA EMERYTALNO-RENTOWE WEDŁUG WOJEWÓDZTW | source=all_data.csv | okres=2025 | region=warmińsko-mazurskie | measure=Świadczenia realizowane przez KRUS ogółem | typ=ogółem| value=2226.29 | ce=0.989 | rrf_sup=3 | rrf=0.0381\n",
      "- #[4] dataset=TABLICA 3 (15). PRZECIĘTNE MIESIĘCZNE ŚWIADCZENIA EMERYTALNO-RENTOWE WEDŁUG WOJEWÓDZTW | source=all_data.csv | okres=2025 | region=małopolskie | measure=Świadczenia realizowane przez KRUS ogółem | typ=ogółem| value=2116.7 | ce=0.978 | rrf_sup=3 | rrf=0.0344\n",
      "- #[5] dataset=TABLICA 3 (15). PRZECIĘTNE MIESIĘCZNE ŚWIADCZENIA EMERYTALNO-RENTOWE WEDŁUG WOJEWÓDZTW | source=all_data.csv | okres=2025 | region=MON | measure=Świadczenia realizowane przez KRUS ogółem | typ=ogółem| value=1064.55 | ce=0.962 | rrf_sup=3 | rrf=0.0360\n",
      "- #[6] dataset=TABLICA 3 (15). PRZECIĘTNE MIESIĘCZNE ŚWIADCZENIA EMERYTALNO-RENTOWE WEDŁUG WOJEWÓDZTW | source=all_data.csv | okres=2025 | region=MSWiA | measure=Świadczenia realizowane przez KRUS ogółem | typ=ogółem| value=913.98 | ce=0.960 | rrf_sup=3 | rrf=0.0363\n",
      "\n",
      "Q: Jaką kwotę w złotych przeznaczono na świadczenia pieniężne dla cywilnych niewidomych ofiar działań wojennych w pierwszym kwartale 2025 roku?\n"
     ]
    },
    {
     "name": "stderr",
     "output_type": "stream",
     "text": [
      "The following generation flags are not valid and may be ignored: ['temperature']. Set `TRANSFORMERS_VERBOSITY=info` for more details.\n",
      "The following generation flags are not valid and may be ignored: ['temperature']. Set `TRANSFORMERS_VERBOSITY=info` for more details.\n"
     ]
    },
    {
     "name": "stdout",
     "output_type": "stream",
     "text": [
      "Odpowiedź: 21164,85 złotych w pierwszym kwartale 2025 roku.\n",
      "[ŹRÓDŁA]\n",
      "- #[1] dataset=TABLICA 1 (25). ŚWIADCZENIA ZLECONE DO WYPŁATY KASIE ROLNICZEGO UBEZPIECZENIA SPOŁECZNEGO | source=all_data.csv | okres=2025-Q1 | region=ogółem | measure=2025-Q1 | typ=Wysokość świadczenia w zł DODATKI PIENIĘŻNE DLA INWALIDÓW WOJENNYCH| value=1333.24 | ce=0.717 | rrf_sup=3 | rrf=0.0342\n",
      "- #[2] dataset=EMERYTURY I RENTY REALIZOWANE PRZEZ KRUS | source=all_data.csv | okres=2025-Q1 | region=ogółem | measure=kwota wpłaty w zł | typ=ŚWIADCZENIA PIENIĘŻNE DLA CYWILNYCH NIEWIDOMYCH OFIAR DZIAŁAŃ WOJENNYCH| value=21164.85 | ce=0.990 | rrf_sup=2 | rrf=0.0233\n",
      "- #[3] dataset=TABLICA 1 (25). ŚWIADCZENIA ZLECONE DO WYPŁATY KASIE ROLNICZEGO UBEZPIECZENIA SPOŁECZNEGO | source=all_data.csv | okres=2025-Q1 | region=ogółem | measure=2025-Q1 | typ=Kwota wypłat w zł ŚWIADCZENIA PIENIĘŻNE DLA CYWILNYCH NIEWIDOMYCH OFIAR DZIAŁAŃ WOJENNYCH| value=21164.85 | ce=0.979 | rrf_sup=2 | rrf=0.0323\n",
      "- #[4] dataset=TABLICA 1 (25). ŚWIADCZENIA ZLECONE DO WYPŁATY KASIE ROLNICZEGO UBEZPIECZENIA SPOŁECZNEGO | source=all_data.csv | okres=2025-Q1 | region=ogółem | measure=2025-Q1 | typ=Przeciętne świadczenie w zł ŚWIADCZENIA PIENIĘŻNE DLA CYWILNYCH NIEWIDOMYCH OFIAR DZIAŁAŃ WOJENNYCH| value=1410.99 | ce=0.975 | rrf_sup=2 | rrf=0.0328\n",
      "- #[5] dataset=TABLICA 1 (25). ŚWIADCZENIA ZLECONE DO WYPŁATY KASIE ROLNICZEGO UBEZPIECZENIA SPOŁECZNEGO | source=all_data.csv | okres=2024-Q4 | region=ogółem | measure=2024-Q4 | typ=Wysokość świadczenia w zł DODATKI PIENIĘŻNE DLA INWALIDÓW WOJENNYCH| value=1263.73 | ce=0.581 | rrf_sup=3 | rrf=0.0287\n",
      "- #[6] dataset=TABLICA 1 (25). ŚWIADCZENIA ZLECONE DO WYPŁATY KASIE ROLNICZEGO UBEZPIECZENIA SPOŁECZNEGO | source=all_data.csv | okres=2024-Q1 | region=ogółem | measure=2024-Q1 | typ=Wysokość świadczenia w zł DODATKI PIENIĘŻNE DLA INWALIDÓW WOJENNYCH| value=1263.73 | ce=0.630 | rrf_sup=3 | rrf=0.0298\n",
      "\n",
      "Q: Ile wniosków o przyznanie rodzicielskich świadczeń uzupełniających zostało rozpatrzonych w pierwszym kwartale 2025 roku w skali całego kraju?\n"
     ]
    },
    {
     "name": "stderr",
     "output_type": "stream",
     "text": [
      "The following generation flags are not valid and may be ignored: ['temperature']. Set `TRANSFORMERS_VERBOSITY=info` for more details.\n",
      "The following generation flags are not valid and may be ignored: ['temperature']. Set `TRANSFORMERS_VERBOSITY=info` for more details.\n"
     ]
    },
    {
     "name": "stdout",
     "output_type": "stream",
     "text": [
      "Odpowiedź: 90 wniosków o przyznanie rodzicielskich świadczeń uzupełniających zostało rozpatrzonych w pierwszym kwartale 2025 roku w skali całego kraju.\n",
      "[ŹRÓDŁA]\n",
      "- #[1] dataset=TABLICA 3. WNIOSKI I DECYZJE W SPRAWACH O PRZYZNANIE RODZICIELSKICH ŚWIADCZEŃ UZUPEŁNIJĄCYCH  WEDŁUG WOJEWÓDZTW | source=all_data.csv | okres=2025-Q1 | region=OGÓŁEM | measure=liczba wniosków załatwionych w okresie sprawozdawczym | typ=ogółem| value=90.0 | ce=0.969 | rrf_sup=2 | rrf=0.0297\n",
      "- #[2] dataset=TABLICA 3. WNIOSKI I DECYZJE W SPRAWACH O PRZYZNANIE RODZICIELSKICH ŚWIADCZEŃ UZUPEŁNIJĄCYCH  WEDŁUG WOJEWÓDZTW | source=all_data.csv | okres=2025-Q1 | region=OGÓŁEM | measure=liczba wniosków złożonych w okresie sprawozdawczym | typ=ogółem| value=93.0 | ce=0.969 | rrf_sup=2 | rrf=0.0320\n",
      "- #[3] dataset=TABLICA 3. WNIOSKI I DECYZJE W SPRAWACH O PRZYZNANIE RODZICIELSKICH ŚWIADCZEŃ UZUPEŁNIJĄCYCH  WEDŁUG WOJEWÓDZTW | source=all_data.csv | okres=2025-Q1 | region=OGÓŁEM | measure=liczba decyzji pierwszorazowych przyznających | typ=ogółem| value=36.0 | ce=0.947 | rrf_sup=2 | rrf=0.0267\n",
      "- #[4] dataset=TABLICA 3. WNIOSKI I DECYZJE W SPRAWACH O PRZYZNANIE RODZICIELSKICH ŚWIADCZEŃ UZUPEŁNIJĄCYCH  WEDŁUG WOJEWÓDZTW | source=all_data.csv | okres=2025-Q1 | region=mazowieckie | measure=liczba wniosków załatwionych w okresie sprawozdawczym | typ=ogółem| value=7.0 | ce=0.912 | rrf_sup=2 | rrf=0.0242\n",
      "- #[5] dataset=TABLICA 3. WNIOSKI I DECYZJE W SPRAWACH O PRZYZNANIE RODZICIELSKICH ŚWIADCZEŃ UZUPEŁNIJĄCYCH  WEDŁUG WOJEWÓDZTW | source=all_data.csv | okres=2025-Q1 | region=małopolskie | measure=liczba wniosków załatwionych w okresie sprawozdawczym | typ=ogółem| value=18.0 | ce=0.908 | rrf_sup=2 | rrf=0.0186\n",
      "- #[6] dataset=TABLICA 3. WNIOSKI I DECYZJE W SPRAWACH O PRZYZNANIE RODZICIELSKICH ŚWIADCZEŃ UZUPEŁNIJĄCYCH  WEDŁUG WOJEWÓDZTW | source=all_data.csv | okres=2025-Q1 | region=dolnośląskie | measure=liczba wniosków załatwionych w okresie sprawozdawczym | typ=ogółem| value=7.0 | ce=0.904 | rrf_sup=2 | rrf=0.0185\n",
      "\n",
      "Q: Jaką liczbę wniosków o emerytury razem pozostało do załatwienia w następnym okresie?\n"
     ]
    },
    {
     "name": "stderr",
     "output_type": "stream",
     "text": [
      "The following generation flags are not valid and may be ignored: ['temperature']. Set `TRANSFORMERS_VERBOSITY=info` for more details.\n"
     ]
    },
    {
     "name": "stdout",
     "output_type": "stream",
     "text": [
      "Brak danych pasujących do pytania.\n",
      "[ŹRÓDŁA]\n",
      "– brak\n",
      "\n",
      "Q: Jaką kwotę w złotych stanowiły emerytury i renty realizowane przez KRUS z tytułu świadczeń zabiegowych dla robotników w czwartym kwartale 2024 roku?\n"
     ]
    },
    {
     "name": "stderr",
     "output_type": "stream",
     "text": [
      "The following generation flags are not valid and may be ignored: ['temperature']. Set `TRANSFORMERS_VERBOSITY=info` for more details.\n",
      "The following generation flags are not valid and may be ignored: ['temperature']. Set `TRANSFORMERS_VERBOSITY=info` for more details.\n"
     ]
    },
    {
     "name": "stdout",
     "output_type": "stream",
     "text": [
      "Brak danych w dostarczonej dokumentacji. Nie znaleziono żadnych rekordów, które spełniałyby kryteria pytania.\n",
      "[ŹRÓDŁA]\n",
      "- #[1] dataset=EMERYTURY I RENTY REALIZOWANE PRZEZ KRUS | source=all_data.csv | okres=2025-Q1 | region=ogółem | measure=przeciętne świadczenie w zł | typ=emerytury| value=2184.49 | ce=0.899 | rrf_sup=3 | rrf=0.0337\n",
      "- #[2] dataset=EMERYTURY I RENTY REALIZOWANE PRZEZ KRUS | source=all_data.csv | okres=2025-Q1 | region=ogółem | measure=przeciętne świadczenie w zł | typ=renty rodzinne| value=2744.96 | ce=0.876 | rrf_sup=3 | rrf=0.0238\n",
      "- #[3] dataset=EMERYTURY I RENTY REALIZOWANE PRZEZ KRUS | source=all_data.csv | okres=2025-Q1 | region=ogółem | measure=kwota wpłaty w zł | typ=renty rodzinne| value=325618296.62 | ce=0.846 | rrf_sup=3 | rrf=0.0235\n",
      "- #[4] dataset=EMERYTURY I RENTY REALIZOWANE PRZEZ KRUS | source=all_data.csv | okres=2025-Q1 | region=ogółem | measure=kwota wpłaty w zł | typ=emerytury| value=4982650839.4 | ce=0.822 | rrf_sup=3 | rrf=0.0341\n",
      "- #[5] dataset=EMERYTURY I RENTY REALIZOWANE PRZEZ KRUS | source=all_data.csv | okres=2025-Q1 | region=ogółem | measure=kwota wpłaty w zł | typ=renty z tytułu niezdolności do pracy| value=74733521.98 | ce=0.792 | rrf_sup=3 | rrf=0.0353\n",
      "- #[6] dataset=EMERYTURY I RENTY REALIZOWANE PRZEZ KRUS | source=all_data.csv | okres=2025-Q1 | region=ogółem | measure=przeciętne świadczenie w zł | typ=renty z tytułu niezdolności do pracy| value=2013.48 | ce=0.504 | rrf_sup=3 | rrf=0.0312\n",
      "\n",
      "Q: Jakie były wydatki na emerytury i renty ogółem w pierwszym kwartale 2025 roku?\n"
     ]
    },
    {
     "name": "stderr",
     "output_type": "stream",
     "text": [
      "The following generation flags are not valid and may be ignored: ['temperature']. Set `TRANSFORMERS_VERBOSITY=info` for more details.\n",
      "The following generation flags are not valid and may be ignored: ['temperature']. Set `TRANSFORMERS_VERBOSITY=info` for more details.\n"
     ]
    },
    {
     "name": "stdout",
     "output_type": "stream",
     "text": [
      "Odpowiedź: W pierwszym kwartale 2025 roku wydatki na emerytury i renty ogółem wyniosły 6 036 176 120,71 złotych.\n",
      "[ŹRÓDŁA]\n",
      "- #[1] dataset=TABLICA 5 (17). WYDATKI NA ŚWIADCZENIA EMERYTALNO-RENTOWE WEDŁUG RODZAJÓW ŚWIADCZEŃ | source=all_data.csv | okres=2025-Q1 | region=ogółem | measure=2025-Q1 | typ=EMERYTURY I RENTY OGÓŁEM z tego:| value=6036176120.71 | ce=0.929 | rrf_sup=2 | rrf=0.0274\n",
      "- #[2] dataset=TABLICA 5 (17). WYDATKI NA ŚWIADCZENIA EMERYTALNO-RENTOWE WEDŁUG RODZAJÓW ŚWIADCZEŃ | source=all_data.csv | okres=2025-Q1 | region=ogółem | measure=2025-Q1 | typ=Emerytury OGÓŁEM| value=4797203284.42 | ce=0.927 | rrf_sup=2 | rrf=0.0328\n",
      "- #[3] dataset=TABLICA 5 (17). WYDATKI NA ŚWIADCZENIA EMERYTALNO-RENTOWE WEDŁUG RODZAJÓW ŚWIADCZEŃ | source=all_data.csv | okres=2025-Q1 | region=ogółem | measure=2025-Q1 | typ=EMERYTURY RAZEM| value=4797203284.42 | ce=0.907 | rrf_sup=2 | rrf=0.0230\n",
      "- #[4] dataset=TABLICA 5 (17). WYDATKI NA ŚWIADCZENIA EMERYTALNO-RENTOWE WEDŁUG RODZAJÓW ŚWIADCZEŃ | source=all_data.csv | okres=2025-Q1 | region=ogółem | measure=2025-Q1 | typ=Renty OGÓŁEM| value=1238972836.29 | ce=0.904 | rrf_sup=2 | rrf=0.0286\n",
      "- #[5] dataset=TABLICA 5 (17). WYDATKI NA ŚWIADCZENIA EMERYTALNO-RENTOWE WEDŁUG RODZAJÓW ŚWIADCZEŃ | source=all_data.csv | okres=2025-Q1 | region=ogółem | measure=2025-Q1 | typ=Emerytury rolnicze| value=4498868566.91 | ce=0.894 | rrf_sup=2 | rrf=0.0317\n",
      "- #[6] dataset=TABLICA 5 (17). WYDATKI NA ŚWIADCZENIA EMERYTALNO-RENTOWE WEDŁUG RODZAJÓW ŚWIADCZEŃ | source=all_data.csv | okres=2025-Q1 | region=ogółem | measure=2025-Q1 | typ=w tym renty z tytułu niezdolności do pracy wypadkowe| value=66096211.96 | ce=0.884 | rrf_sup=2 | rrf=0.0270\n",
      "\n",
      "Q: Jakie było przeciętne miesięczne świadczenie emerytalno-rentowe w województwie podlaskim?\n"
     ]
    },
    {
     "name": "stderr",
     "output_type": "stream",
     "text": [
      "The following generation flags are not valid and may be ignored: ['temperature']. Set `TRANSFORMERS_VERBOSITY=info` for more details.\n",
      "The following generation flags are not valid and may be ignored: ['temperature']. Set `TRANSFORMERS_VERBOSITY=info` for more details.\n"
     ]
    },
    {
     "name": "stdout",
     "output_type": "stream",
     "text": [
      "Odpowiedź: 2137,96 zł/miesiąc, województwo podlaskie, 2025 rok.\n",
      "[ŹRÓDŁA]\n",
      "- #[1] dataset=TABLICA 8 (20). PRZECIĘTNE MIESIĘCZNE ŚWIADCZENIE EMERYTALNO-RENTOWE WEDŁUG WOJEWÓDZTW ORAZ PRZECIĘTNE MIESIĘCZNE ŚWIADCZENIE EMERYTALNE WYPŁACONE PRZEZ MON, MSWiA i MS | source=all_data.csv | okres=2025 | region=podlaskie | measure=emerytury | typ=ogółem| value=2137.96 | ce=0.950 | rrf_sup=2 | rrf=0.0328\n",
      "- #[2] dataset=TABLICA 4 (16). PRZECIĘTNA MIESIĘCZNA LICZBA EMERYTUR I RENT WEDŁUG WOJEWÓDZTW ORAZ ŚWIADCZEŃ | source=all_data.csv | okres=2025 | region=podlaskie | measure=rodzinne ogółem | typ=ogółem| value=2777.0 | ce=0.943 | rrf_sup=2 | rrf=0.0147\n",
      "- #[3] dataset=TABLICA 3 (15). PRZECIĘTNE MIESIĘCZNE ŚWIADCZENIA EMERYTALNO-RENTOWE WEDŁUG WOJEWÓDZTW | source=all_data.csv | okres=2025 | region=podlaskie | measure=Świadczenia realizowane przez KRUS ogółem | typ=ogółem| value=2182.08 | ce=0.936 | rrf_sup=2 | rrf=0.0146\n",
      "- #[4] dataset=TABLICA 8 (20). PRZECIĘTNE MIESIĘCZNE ŚWIADCZENIE EMERYTALNO-RENTOWE WEDŁUG WOJEWÓDZTW ORAZ PRZECIĘTNE MIESIĘCZNE ŚWIADCZENIE EMERYTALNE WYPŁACONE PRZEZ MON, MSWiA i MS | source=all_data.csv | okres=2025 | region=podlaskie | measure=rodzinne w tym wypadkowe | typ=ogółem| value=2424.43 | ce=0.919 | rrf_sup=2 | rrf=0.0317\n",
      "- #[5] dataset=TABLICA 8 (20). PRZECIĘTNE MIESIĘCZNE ŚWIADCZENIE EMERYTALNO-RENTOWE WEDŁUG WOJEWÓDZTW ORAZ PRZECIĘTNE MIESIĘCZNE ŚWIADCZENIE EMERYTALNE WYPŁACONE PRZEZ MON, MSWiA i MS | source=all_data.csv | okres=2025 | region=podlaskie | measure=ogółem | typ=ogółem| value=2123.92 | ce=0.918 | rrf_sup=2 | rrf=0.0312\n",
      "- #[6] dataset=TABLICA 8 (20). PRZECIĘTNE MIESIĘCZNE ŚWIADCZENIE EMERYTALNO-RENTOWE WEDŁUG WOJEWÓDZTW ORAZ PRZECIĘTNE MIESIĘCZNE ŚWIADCZENIE EMERYTALNE WYPŁACONE PRZEZ MON, MSWiA i MS | source=all_data.csv | okres=2025 | region=podlaskie | measure=renty | typ=ogółem| value=2066.26 | ce=0.909 | rrf_sup=2 | rrf=0.0290\n",
      "\n",
      "Q: Jakie było wartość świadczeń zleconych do wypłaty w Kasie Rolniczego Ubezpieczenia Społecznego w czwartym kwartale 2024 roku?\n"
     ]
    },
    {
     "name": "stderr",
     "output_type": "stream",
     "text": [
      "The following generation flags are not valid and may be ignored: ['temperature']. Set `TRANSFORMERS_VERBOSITY=info` for more details.\n",
      "The following generation flags are not valid and may be ignored: ['temperature']. Set `TRANSFORMERS_VERBOSITY=info` for more details.\n"
     ]
    },
    {
     "name": "stdout",
     "output_type": "stream",
     "text": [
      "Odpowiedź:\n",
      "\n",
      "Wartość świadczeń zleconych do wypłaty w KRUS w czwartym kwartale 2024 roku wyniosła 487.89 zł dla świadczenia uzupełniającego dla osób niezdolnych do samodzielnej egzystencji, 327.91 zł dla dodatków kombatanckich, 1780.96 zł dla rodzicielskich świadczeń uzupełniających, 1385.59 zł dla świadczeń pieniężnych dla cywilnych niewidomych ofiar działań wojennych. Dodatki kombatanckie były wypłacane średnio 5749 osobom miesięcznie, a dodatki kompensacyjne 49.23 zł. Wszystkie te dane dotyczą ogółu odbiorców w całej Polsce.\n",
      "[ŹRÓDŁA]\n",
      "- #[1] dataset=TABLICA 1 (25). ŚWIADCZENIA ZLECONE DO WYPŁATY KASIE ROLNICZEGO UBEZPIECZENIA SPOŁECZNEGO | source=all_data.csv | okres=2024-Q4 | region=ogółem | measure=2024-Q4 | typ=Przeciętne świadczenie w zł ŚWIADCZENIE UZUPEŁNIAJĄCE DLA OSÓB NIEZDOLNYCH DO SAMODZIELNEJ EGZYSTENCJI| value=487.89 | ce=0.999 | rrf_sup=2 | rrf=0.0328\n",
      "- #[2] dataset=TABLICA 1 (25). ŚWIADCZENIA ZLECONE DO WYPŁATY KASIE ROLNICZEGO UBEZPIECZENIA SPOŁECZNEGO | source=all_data.csv | okres=2024-Q4 | region=ogółem | measure=2024-Q4 | typ=Przeciętne świadczenie w zł DODATKI KOMBATANCKIE| value=327.91 | ce=0.998 | rrf_sup=2 | rrf=0.0286\n",
      "- #[3] dataset=TABLICA 1 (25). ŚWIADCZENIA ZLECONE DO WYPŁATY KASIE ROLNICZEGO UBEZPIECZENIA SPOŁECZNEGO | source=all_data.csv | okres=2024-Q4 | region=ogółem | measure=2024-Q4 | typ=Wysokość świadczenia w zł RODZICIELSKIE ŚWIADCZENIA UZUPEŁNIAJĄCE| value=1780.96 | ce=0.998 | rrf_sup=2 | rrf=0.0241\n",
      "- #[4] dataset=TABLICA 1 (25). ŚWIADCZENIA ZLECONE DO WYPŁATY KASIE ROLNICZEGO UBEZPIECZENIA SPOŁECZNEGO | source=all_data.csv | okres=2024-Q4 | region=ogółem | measure=2024-Q4 | typ=Przeciętna miesięczna liczba świadczeń DODATKI KOMBATANCKIE| value=5749.0 | ce=0.998 | rrf_sup=2 | rrf=0.0235\n",
      "- #[5] dataset=TABLICA 1 (25). ŚWIADCZENIA ZLECONE DO WYPŁATY KASIE ROLNICZEGO UBEZPIECZENIA SPOŁECZNEGO | source=all_data.csv | okres=2024-Q4 | region=ogółem | measure=2024-Q4 | typ=Przeciętne świadczenie w zł DODATKI KOMPENSACYJNE| value=49.23 | ce=0.998 | rrf_sup=2 | rrf=0.0303\n",
      "- #[6] dataset=TABLICA 1 (25). ŚWIADCZENIA ZLECONE DO WYPŁATY KASIE ROLNICZEGO UBEZPIECZENIA SPOŁECZNEGO | source=all_data.csv | okres=2024-Q4 | region=ogółem | measure=2024-Q4 | typ=Przeciętne świadczenie w zł ŚWIADCZENIA PIENIĘŻNE DLA CYWILNYCH NIEWIDOMYCH OFIAR DZIAŁAŃ WOJENNYCH| value=1385.59 | ce=0.998 | rrf_sup=2 | rrf=0.0274\n",
      "\n",
      "Q: Jaką liczbę wniosków o przyznanie emerytury lub renty rodzinnej odnotowano w rekordzie dotyczącym rent rodzinnych?\n"
     ]
    },
    {
     "name": "stderr",
     "output_type": "stream",
     "text": [
      "The following generation flags are not valid and may be ignored: ['temperature']. Set `TRANSFORMERS_VERBOSITY=info` for more details.\n"
     ]
    },
    {
     "name": "stdout",
     "output_type": "stream",
     "text": [
      "Brak danych pasujących do pytania.\n",
      "[ŹRÓDŁA]\n",
      "– brak\n",
      "\n",
      "Q: Jakie było wskaźniki ściągalności składek na ubezpieczenie społeczne rolników w województwie śląskim?\n"
     ]
    },
    {
     "name": "stderr",
     "output_type": "stream",
     "text": [
      "The following generation flags are not valid and may be ignored: ['temperature']. Set `TRANSFORMERS_VERBOSITY=info` for more details.\n",
      "The following generation flags are not valid and may be ignored: ['temperature']. Set `TRANSFORMERS_VERBOSITY=info` for more details.\n"
     ]
    },
    {
     "name": "stdout",
     "output_type": "stream",
     "text": [
      "Odpowiedź: \"Brak danych w dostarczonej dokumentacji.\"\n",
      "[ŹRÓDŁA]\n",
      "- #[1] dataset=TABLICA 7 (36). PRZYPIS I WPŁYWY NALEŻNOŚCI Z TYTUŁU SKŁADEK NA UBEZPIECZENIE SPOŁECZNE ROLNIKÓW WEDŁUG WOJEWÓDZTW | source=all_data.csv | okres=2025 | region=śląskie | measure=Wskaźnik ściągalności | typ=ogółem| value=None | ce=0.980 | rrf_sup=3 | rrf=0.0401\n",
      "- #[2] dataset=TABLICA 7 (36). PRZYPIS I WPŁYWY NALEŻNOŚCI Z TYTUŁU SKŁADEK NA UBEZPIECZENIE SPOŁECZNE ROLNIKÓW WEDŁUG WOJEWÓDZTW | source=all_data.csv | okres=2025 | region=dolnośląskie | measure=Wskaźnik ściągalności | typ=ogółem| value=None | ce=0.956 | rrf_sup=3 | rrf=0.0376\n",
      "- #[3] dataset=TABLICA 7 (36). PRZYPIS I WPŁYWY NALEŻNOŚCI Z TYTUŁU SKŁADEK NA UBEZPIECZENIE SPOŁECZNE ROLNIKÓW WEDŁUG WOJEWÓDZTW | source=all_data.csv | okres=2025 | region=podlaskie | measure=Wskaźnik ściągalności | typ=ogółem| value=None | ce=0.820 | rrf_sup=3 | rrf=0.0318\n",
      "- #[4] dataset=TABLICA 7 (36). PRZYPIS I WPŁYWY NALEŻNOŚCI Z TYTUŁU SKŁADEK NA UBEZPIECZENIE SPOŁECZNE ROLNIKÓW WEDŁUG WOJEWÓDZTW | source=all_data.csv | okres=2025 | region=łódzkie | measure=Wskaźnik ściągalności | typ=ogółem| value=None | ce=0.794 | rrf_sup=3 | rrf=0.0369\n",
      "- #[5] dataset=TABLICA 7 (36). PRZYPIS I WPŁYWY NALEŻNOŚCI Z TYTUŁU SKŁADEK NA UBEZPIECZENIE SPOŁECZNE ROLNIKÓW WEDŁUG WOJEWÓDZTW | source=all_data.csv | okres=2025 | region=świętokrzyskie | measure=Wskaźnik ściągalności | typ=ogółem| value=None | ce=0.788 | rrf_sup=3 | rrf=0.0380\n",
      "- #[6] dataset=TABLICA 7 (36). PRZYPIS I WPŁYWY NALEŻNOŚCI Z TYTUŁU SKŁADEK NA UBEZPIECZENIE SPOŁECZNE ROLNIKÓW WEDŁUG WOJEWÓDZTW | source=all_data.csv | okres=2025 | region=lubelskie | measure=Wskaźnik ściągalności | typ=ogółem| value=None | ce=0.692 | rrf_sup=3 | rrf=0.0313\n",
      "\n",
      "Q: Jaką liczbę współmałżonków zarejestrowano w ubezpieczeniu w trzecim kwartale 2020 roku?\n"
     ]
    },
    {
     "name": "stderr",
     "output_type": "stream",
     "text": [
      "The following generation flags are not valid and may be ignored: ['temperature']. Set `TRANSFORMERS_VERBOSITY=info` for more details.\n",
      "The following generation flags are not valid and may be ignored: ['temperature']. Set `TRANSFORMERS_VERBOSITY=info` for more details.\n"
     ]
    },
    {
     "name": "stdout",
     "output_type": "stream",
     "text": [
      "Odpowiedź: 263 245 współmałżonków zarejestrowano w ubezpieczeniu w trzecim kwartale 2024 roku.\n",
      "[ŹRÓDŁA]\n",
      "- #[1] dataset=TABLICA 6 (35). LICZBA UBEZPIECZONYCH W KRUS PRZY JEDNOCZESNYM OBJĘCIU UBEZPIECZENIEM SPOŁECZNYM W ZUS Z INNEGO TYTUŁU 1)  WEDŁUG WOJEWÓDZTW | source=all_data.csv | okres=2025 | region=warmińsko-mazurskie | measure=rolnicy/współmałżonkowie | typ=ogółem| value=668.0 | ce=0.169 | rrf_sup=2 | rrf=0.0276\n",
      "- #[2] dataset=TABLICA 6 (35). LICZBA UBEZPIECZONYCH W KRUS PRZY JEDNOCZESNYM OBJĘCIU UBEZPIECZENIEM SPOŁECZNYM W ZUS Z INNEGO TYTUŁU 1)  WEDŁUG WOJEWÓDZTW | source=all_data.csv | okres=2025 | region=zachodniopomorskie | measure=rolnicy/współmałżonkowie | typ=ogółem| value=525.0 | ce=0.162 | rrf_sup=2 | rrf=0.0189\n",
      "- #[3] dataset=TABLICA 6 (35). LICZBA UBEZPIECZONYCH W KRUS PRZY JEDNOCZESNYM OBJĘCIU UBEZPIECZENIEM SPOŁECZNYM W ZUS Z INNEGO TYTUŁU 1)  WEDŁUG WOJEWÓDZTW | source=all_data.csv | okres=2025 | region=śląskie | measure=rolnicy/współmałżonkowie | typ=ogółem| value=375.0 | ce=0.137 | rrf_sup=2 | rrf=0.0231\n",
      "- #[4] dataset=TABLICA 6 (35). LICZBA UBEZPIECZONYCH W KRUS PRZY JEDNOCZESNYM OBJĘCIU UBEZPIECZENIEM SPOŁECZNYM W ZUS Z INNEGO TYTUŁU 1)  WEDŁUG WOJEWÓDZTW | source=all_data.csv | okres=2025 | region=dolnośląskie | measure=rolnicy/współmałżonkowie | typ=ogółem| value=475.0 | ce=0.130 | rrf_sup=2 | rrf=0.0244\n",
      "- #[5] dataset=TABLICA 6 (35). LICZBA UBEZPIECZONYCH W KRUS PRZY JEDNOCZESNYM OBJĘCIU UBEZPIECZENIEM SPOŁECZNYM W ZUS Z INNEGO TYTUŁU 1)  WEDŁUG WOJEWÓDZTW | source=all_data.csv | okres=2025 | region=kujawsko-pomorskie | measure=rolnicy/współmałżonkowie | typ=ogółem| value=1038.0 | ce=0.129 | rrf_sup=2 | rrf=0.0221\n",
      "- #[6] dataset=Liczba ubezpieczonych według statusu na 2025-Q1 | source=all_data.csv | okres=31.03.2024 | region=ogółem | measure=liczba współmałżonków | typ=ogółem| value=263245.0 | ce=0.695 | rrf_sup=3 | rrf=0.0445\n",
      "\n",
      "Q: Jaką liczbę wniosków o emerytury i renty zarejestrowano w województwie opolskim w pierwszym kwartale 2025 roku?\n"
     ]
    },
    {
     "name": "stderr",
     "output_type": "stream",
     "text": [
      "The following generation flags are not valid and may be ignored: ['temperature']. Set `TRANSFORMERS_VERBOSITY=info` for more details.\n"
     ]
    },
    {
     "name": "stdout",
     "output_type": "stream",
     "text": [
      "Brak danych pasujących do pytania.\n",
      "[ŹRÓDŁA]\n",
      "– brak\n",
      "\n",
      "Q: Jakie były wydatki na świadczenia emerytalno-rentowe w województwie kujawsko-pomorskim w Polsce?\n"
     ]
    },
    {
     "name": "stderr",
     "output_type": "stream",
     "text": [
      "The following generation flags are not valid and may be ignored: ['temperature']. Set `TRANSFORMERS_VERBOSITY=info` for more details.\n",
      "The following generation flags are not valid and may be ignored: ['temperature']. Set `TRANSFORMERS_VERBOSITY=info` for more details.\n"
     ]
    },
    {
     "name": "stdout",
     "output_type": "stream",
     "text": [
      "Odpowiedź:\n",
      "\n",
      "W 2025 roku wydatki na świadczenia emerytalno-rentowe w województwie kujawsko-pomorskim wyniosły łącznie 353156052,18 złotych.\n",
      "[ŹRÓDŁA]\n",
      "- #[1] dataset=TABLICA 7 (36). PRZYPIS I WPŁYWY NALEŻNOŚCI Z TYTUŁU SKŁADEK NA UBEZPIECZENIE SPOŁECZNE ROLNIKÓW WEDŁUG WOJEWÓDZTW | source=all_data.csv | okres=2025 | region=kujawsko-pomorskie | measure=Składki finansowane z budżetu państwa na ubezpieczenie emerytalno-rentowe za osoby sprawujące opiekę nad dzieckiem | typ=ogółem| value=516405.0 | ce=0.112 | rrf_sup=3 | rrf=0.0277\n",
      "- #[2] dataset=TABLICA 4 (33). LICZBA UBEZPIECZONYCH WEDŁUG WOJEWÓDZTW | source=all_data.csv | okres=2025 | region=kujawsko-pomorskie | measure=Fundusz Składkowy i Emerytalno-Rentowy - w tym ubezpieczeni na wniosek | typ=ogółem| value=1998.0 | ce=0.067 | rrf_sup=3 | rrf=0.0306\n",
      "- #[3] dataset=TABLICA 6 (18). WYDATKI NA ŚWIADCZENIA EMERYTALNO-RENTOWE WEDŁUG WOJEWÓDZTW ORAZ ŚWIADCZENIA EMERYTALNE WYPŁACONE PRZEZ MON, MSWiA i MS | source=all_data.csv | okres=2025 | region=kujawsko-pomorskie | measure=rodzinne ogółem | typ=ogółem| value=16569088.85 | ce=0.934 | rrf_sup=2 | rrf=0.0286\n",
      "- #[4] dataset=TABLICA 6 (18). WYDATKI NA ŚWIADCZENIA EMERYTALNO-RENTOWE WEDŁUG WOJEWÓDZTW ORAZ ŚWIADCZENIA EMERYTALNE WYPŁACONE PRZEZ MON, MSWiA i MS | source=all_data.csv | okres=2025 | region=kujawsko-pomorskie | measure=renty razem | typ=ogółem| value=86987802.02 | ce=0.911 | rrf_sup=2 | rrf=0.0310\n",
      "- #[5] dataset=TABLICA 6 (18). WYDATKI NA ŚWIADCZENIA EMERYTALNO-RENTOWE WEDŁUG WOJEWÓDZTW ORAZ ŚWIADCZENIA EMERYTALNE WYPŁACONE PRZEZ MON, MSWiA i MS | source=all_data.csv | okres=2025 | region=kujawsko-pomorskie | measure=emerytury | typ=ogółem| value=336950482.18 | ce=0.874 | rrf_sup=2 | rrf=0.0328\n",
      "- #[6] dataset=TABLICA 6 (18). WYDATKI NA ŚWIADCZENIA EMERYTALNO-RENTOWE WEDŁUG WOJEWÓDZTW ORAZ ŚWIADCZENIA EMERYTALNE WYPŁACONE PRZEZ MON, MSWiA i MS | source=all_data.csv | okres=2025 | region=kujawsko-pomorskie | measure=rodzinne w tym wypadkowe | typ=ogółem| value=415038.16 | ce=0.868 | rrf_sup=2 | rrf=0.0318\n",
      "\n",
      "Q: Jaką przeciętną liczbę osób otrzymujących renty rodzinne odnotowano w USA?\n"
     ]
    },
    {
     "name": "stderr",
     "output_type": "stream",
     "text": [
      "The following generation flags are not valid and may be ignored: ['temperature']. Set `TRANSFORMERS_VERBOSITY=info` for more details.\n",
      "The following generation flags are not valid and may be ignored: ['temperature']. Set `TRANSFORMERS_VERBOSITY=info` for more details.\n"
     ]
    },
    {
     "name": "stdout",
     "output_type": "stream",
     "text": [
      "Odpowiedź: Brak danych w dostarczonej dokumentacji.\n",
      "[ŹRÓDŁA]\n",
      "- #[1] dataset=EMERYTURY I RENTY REALIZOWANE PRZEZ KRUS | source=all_data.csv | okres=2025-Q1 | region=ogółem | measure=przeciętna miesięczna liczba świadczeniobiorców | typ=renty rodzinne| value=39541.0 | ce=0.620 | rrf_sup=3 | rrf=0.0417\n",
      "- #[2] dataset=TABLICA 12. ŚWIADCZENIA EMERYTALNO RENTOWE TRANSFEROWANE DO POSZCZEGÓLNYCH PAŃSTW UE EFTA I WIELKIEJ BRYTANII  ORAZ DO INNYCH PAŃSTW NA PODSTAWIE UMÓW DWUSTRONNYCH | source=all_data.csv | okres=2025 | region=USA | measure=Renty rodzinne Przeciętna liczba osób | typ=ogółem| value=5.0 | ce=0.953 | rrf_sup=3 | rrf=0.0400\n",
      "- #[3] dataset=TABLICA 12. ŚWIADCZENIA EMERYTALNO RENTOWE TRANSFEROWANE DO POSZCZEGÓLNYCH PAŃSTW UE EFTA I WIELKIEJ BRYTANII  ORAZ DO INNYCH PAŃSTW NA PODSTAWIE UMÓW DWUSTRONNYCH | source=all_data.csv | okres=2025 | region=OGÓŁEM | measure=Renty rodzinne Przeciętna liczba osób | typ=ogółem| value=376.0 | ce=0.608 | rrf_sup=3 | rrf=0.0256\n",
      "- #[4] dataset=TABLICA 12. ŚWIADCZENIA EMERYTALNO RENTOWE TRANSFEROWANE DO POSZCZEGÓLNYCH PAŃSTW UE EFTA I WIELKIEJ BRYTANII  ORAZ DO INNYCH PAŃSTW NA PODSTAWIE UMÓW DWUSTRONNYCH | source=all_data.csv | okres=2025 | region=Kanada | measure=Renty rodzinne Przeciętna liczba osób | typ=ogółem| value=4.0 | ce=0.231 | rrf_sup=3 | rrf=0.0240\n",
      "- #[5] dataset=TABLICA 12. ŚWIADCZENIA EMERYTALNO RENTOWE TRANSFEROWANE DO POSZCZEGÓLNYCH PAŃSTW UE EFTA I WIELKIEJ BRYTANII  ORAZ DO INNYCH PAŃSTW NA PODSTAWIE UMÓW DWUSTRONNYCH | source=all_data.csv | okres=2025 | region=Hiszpania | measure=Renty rodzinne Przeciętna liczba osób | typ=ogółem| value=5.0 | ce=0.224 | rrf_sup=3 | rrf=0.0182\n",
      "- #[6] dataset=TABLICA 12. ŚWIADCZENIA EMERYTALNO RENTOWE TRANSFEROWANE DO POSZCZEGÓLNYCH PAŃSTW UE EFTA I WIELKIEJ BRYTANII  ORAZ DO INNYCH PAŃSTW NA PODSTAWIE UMÓW DWUSTRONNYCH | source=all_data.csv | okres=2025 | region=Niemcy | measure=Renty rodzinne Przeciętna liczba osób | typ=ogółem| value=312.0 | ce=0.213 | rrf_sup=3 | rrf=0.0285\n",
      "\n",
      "Q: Jakie było przeciętne miesięczne świadczenie emerytur rolniczych w czwartym kwartale 2024 roku?\n"
     ]
    },
    {
     "name": "stderr",
     "output_type": "stream",
     "text": [
      "The following generation flags are not valid and may be ignored: ['temperature']. Set `TRANSFORMERS_VERBOSITY=info` for more details.\n",
      "The following generation flags are not valid and may be ignored: ['temperature']. Set `TRANSFORMERS_VERBOSITY=info` for more details.\n"
     ]
    },
    {
     "name": "stdout",
     "output_type": "stream",
     "text": [
      "Odpowiedź: 487,89 zł/miesiąc w 2024 Q4 ogółem.\n",
      "[ŹRÓDŁA]\n",
      "- #[1] dataset=TABLICA 1 (25). ŚWIADCZENIA ZLECONE DO WYPŁATY KASIE ROLNICZEGO UBEZPIECZENIA SPOŁECZNEGO | source=all_data.csv | okres=2024-Q4 | region=ogółem | measure=2024-Q4 | typ=Przeciętne świadczenie w zł ŚWIADCZENIE UZUPEŁNIAJĄCE DLA OSÓB NIEZDOLNYCH DO SAMODZIELNEJ EGZYSTENCJI| value=487.89 | ce=0.854 | rrf_sup=3 | rrf=0.0339\n",
      "- #[2] dataset=TABLICA 1 (25). ŚWIADCZENIA ZLECONE DO WYPŁATY KASIE ROLNICZEGO UBEZPIECZENIA SPOŁECZNEGO | source=all_data.csv | okres=2024-Q4 | region=ogółem | measure=2024-Q4 | typ=Przeciętne świadczenie w zł RYCZAŁTY ENERGETYCZNE| value=298.46 | ce=0.797 | rrf_sup=3 | rrf=0.0314\n",
      "- #[3] dataset=TABLICA 1 (25). ŚWIADCZENIA ZLECONE DO WYPŁATY KASIE ROLNICZEGO UBEZPIECZENIA SPOŁECZNEGO | source=all_data.csv | okres=2024-Q4 | region=ogółem | measure=2024-Q4 | typ=Przeciętne świadczenie w zł DODATKI KOMPENSACYJNE| value=49.23 | ce=0.773 | rrf_sup=3 | rrf=0.0270\n",
      "- #[4] dataset=TABLICA 1 (25). ŚWIADCZENIA ZLECONE DO WYPŁATY KASIE ROLNICZEGO UBEZPIECZENIA SPOŁECZNEGO | source=all_data.csv | okres=2024-Q4 | region=ogółem | measure=2024-Q4 | typ=Przeciętne świadczenie w zł ŚWIADCZENIA WYRÓWNAWCZE DLA DZIAŁACZY OPOZYCJI ANTYKOMUNISTYCZNEJ ORAZ OSÓB REPRESJONOWANYCH Z POWODÓW POLITYCZNYCH| value=1399.5 | ce=0.773 | rrf_sup=3 | rrf=0.0236\n",
      "- #[5] dataset=TABLICA 1 (25). ŚWIADCZENIA ZLECONE DO WYPŁATY KASIE ROLNICZEGO UBEZPIECZENIA SPOŁECZNEGO | source=all_data.csv | okres=2024-Q4 | region=ogółem | measure=2024-Q4 | typ=Przeciętne świadczenie w zł DODATKI KOMBATANCKIE| value=327.91 | ce=0.770 | rrf_sup=3 | rrf=0.0293\n",
      "- #[6] dataset=TABLICA 1 (25). ŚWIADCZENIA ZLECONE DO WYPŁATY KASIE ROLNICZEGO UBEZPIECZENIA SPOŁECZNEGO | source=all_data.csv | okres=2024-Q4 | region=ogółem | measure=2024-Q4 | typ=Przeciętne świadczenie w zł ŚWIADCZENIA PIENIĘŻNE DLA CYWILNYCH NIEWIDOMYCH OFIAR DZIAŁAŃ WOJENNYCH| value=1385.59 | ce=0.745 | rrf_sup=3 | rrf=0.0256\n",
      "\n",
      "Q: Jaką średnią miesięczną liczbę emerytur i rent otrzymywali mieszkańcy województwa śląskiego w zakresie świadczeń rodzinnych, w tym wypadkowych, w nieokreślonym okresie?\n"
     ]
    },
    {
     "name": "stderr",
     "output_type": "stream",
     "text": [
      "The following generation flags are not valid and may be ignored: ['temperature']. Set `TRANSFORMERS_VERBOSITY=info` for more details.\n",
      "The following generation flags are not valid and may be ignored: ['temperature']. Set `TRANSFORMERS_VERBOSITY=info` for more details.\n"
     ]
    },
    {
     "name": "stdout",
     "output_type": "stream",
     "text": [
      "Odpowiedź: 2348,35 złotych/osobę/miesiąc w 2025 roku w województwie śląskim.\n",
      "[ŹRÓDŁA]\n",
      "- #[1] dataset=TABLICA 8 (20). PRZECIĘTNE MIESIĘCZNE ŚWIADCZENIE EMERYTALNO-RENTOWE WEDŁUG WOJEWÓDZTW ORAZ PRZECIĘTNE MIESIĘCZNE ŚWIADCZENIE EMERYTALNE WYPŁACONE PRZEZ MON, MSWiA i MS | source=all_data.csv | okres=2025 | region=śląskie | measure=rodzinne w tym wypadkowe | typ=ogółem| value=2348.35 | ce=0.583 | rrf_sup=3 | rrf=0.0402\n",
      "- #[2] dataset=TABLICA 8 (20). PRZECIĘTNE MIESIĘCZNE ŚWIADCZENIE EMERYTALNO-RENTOWE WEDŁUG WOJEWÓDZTW ORAZ PRZECIĘTNE MIESIĘCZNE ŚWIADCZENIE EMERYTALNE WYPŁACONE PRZEZ MON, MSWiA i MS | source=all_data.csv | okres=2025 | region=dolnośląskie | measure=rodzinne w tym wypadkowe | typ=ogółem| value=2169.0 | ce=0.403 | rrf_sup=3 | rrf=0.0387\n",
      "- #[3] dataset=TABLICA 8 (20). PRZECIĘTNE MIESIĘCZNE ŚWIADCZENIE EMERYTALNO-RENTOWE WEDŁUG WOJEWÓDZTW ORAZ PRZECIĘTNE MIESIĘCZNE ŚWIADCZENIE EMERYTALNE WYPŁACONE PRZEZ MON, MSWiA i MS | source=all_data.csv | okres=2025 | region=łódzkie | measure=rodzinne w tym wypadkowe | typ=ogółem| value=3761.32 | ce=0.254 | rrf_sup=3 | rrf=0.0369\n",
      "- #[4] dataset=TABLICA 8 (20). PRZECIĘTNE MIESIĘCZNE ŚWIADCZENIE EMERYTALNO-RENTOWE WEDŁUG WOJEWÓDZTW ORAZ PRZECIĘTNE MIESIĘCZNE ŚWIADCZENIE EMERYTALNE WYPŁACONE PRZEZ MON, MSWiA i MS | source=all_data.csv | okres=2025 | region=śląskie | measure=z tytułu niezdolności do pracy w tym wypadkowe | typ=ogółem| value=1925.79 | ce=0.238 | rrf_sup=3 | rrf=0.0280\n",
      "- #[5] dataset=TABLICA 8 (20). PRZECIĘTNE MIESIĘCZNE ŚWIADCZENIE EMERYTALNO-RENTOWE WEDŁUG WOJEWÓDZTW ORAZ PRZECIĘTNE MIESIĘCZNE ŚWIADCZENIE EMERYTALNE WYPŁACONE PRZEZ MON, MSWiA i MS | source=all_data.csv | okres=2025 | region=świętokrzyskie | measure=rodzinne w tym wypadkowe | typ=ogółem| value=2069.83 | ce=0.197 | rrf_sup=3 | rrf=0.0357\n",
      "- #[6] dataset=TABLICA 8 (20). PRZECIĘTNE MIESIĘCZNE ŚWIADCZENIE EMERYTALNO-RENTOWE WEDŁUG WOJEWÓDZTW ORAZ PRZECIĘTNE MIESIĘCZNE ŚWIADCZENIE EMERYTALNE WYPŁACONE PRZEZ MON, MSWiA i MS | source=all_data.csv | okres=2025 | region=wielkopolskie | measure=rodzinne w tym wypadkowe | typ=ogółem| value=2184.76 | ce=0.194 | rrf_sup=3 | rrf=0.0327\n",
      "\n",
      "Q: Jaką kwotę wypłacono w zasiłkach pogrzebowych po członkach rodziny w całym kraju w czwartym kwartale 2024 roku?\n"
     ]
    },
    {
     "name": "stderr",
     "output_type": "stream",
     "text": [
      "The following generation flags are not valid and may be ignored: ['temperature']. Set `TRANSFORMERS_VERBOSITY=info` for more details.\n",
      "The following generation flags are not valid and may be ignored: ['temperature']. Set `TRANSFORMERS_VERBOSITY=info` for more details.\n"
     ]
    },
    {
     "name": "stdout",
     "output_type": "stream",
     "text": [
      "Odpowiedź: W całym kraju w 2025 roku wypłacono 373 zasiłki pogrzebowe po członkach rodzin na kwotę 56 000 PLN w województwie zachodniopomorskim.\n",
      "[ŹRÓDŁA]\n",
      "- #[1] dataset=TABLICA 12 (24). ZASIŁKI POGRZEBOWE WEDŁUG WOJEWÓDZTW | source=all_data.csv | okres=2025 | region=OGÓŁEM | measure=liczba świadczeń po członkach rodzin | typ=ogółem| value=373.0 | ce=0.672 | rrf_sup=3 | rrf=0.0237\n",
      "- #[2] dataset=TABLICA 12 (24). ZASIŁKI POGRZEBOWE WEDŁUG WOJEWÓDZTW | source=all_data.csv | okres=2025 | region=zachodniopomorskie | measure=kwota wypłat w pln po członkach rodzin | typ=ogółem| value=56000.0 | ce=0.644 | rrf_sup=3 | rrf=0.0361\n",
      "- #[3] dataset=TABLICA 12 (24). ZASIŁKI POGRZEBOWE WEDŁUG WOJEWÓDZTW | source=all_data.csv | okres=2025 | region=dolnośląskie | measure=kwota wypłat w pln po członkach rodzin | typ=ogółem| value=24000.0 | ce=0.622 | rrf_sup=3 | rrf=0.0415\n",
      "- #[4] dataset=TABLICA 12 (24). ZASIŁKI POGRZEBOWE WEDŁUG WOJEWÓDZTW | source=all_data.csv | okres=2025 | region=opolskie | measure=kwota wypłat w pln po członkach rodzin | typ=ogółem| value=48000.0 | ce=0.618 | rrf_sup=3 | rrf=0.0423\n",
      "- #[5] dataset=TABLICA 12 (24). ZASIŁKI POGRZEBOWE WEDŁUG WOJEWÓDZTW | source=all_data.csv | okres=2025 | region=mazowieckie | measure=kwota wypłat w pln po członkach rodzin | typ=ogółem| value=188000.0 | ce=0.592 | rrf_sup=3 | rrf=0.0378\n",
      "- #[6] dataset=TABLICA 12 (24). ZASIŁKI POGRZEBOWE WEDŁUG WOJEWÓDZTW | source=all_data.csv | okres=2025 | region=śląskie | measure=kwota wypłat w pln po członkach rodzin | typ=ogółem| value=24000.0 | ce=0.582 | rrf_sup=3 | rrf=0.0424\n",
      "\n",
      "Q: Ile osób było ubezpieczonych z tytułu prowadzenia jednocześnie działalności rolniczej i pozarolniczej działalności gospodarczej w województwie wielkopolskim?\n"
     ]
    },
    {
     "name": "stderr",
     "output_type": "stream",
     "text": [
      "The following generation flags are not valid and may be ignored: ['temperature']. Set `TRANSFORMERS_VERBOSITY=info` for more details.\n",
      "The following generation flags are not valid and may be ignored: ['temperature']. Set `TRANSFORMERS_VERBOSITY=info` for more details.\n"
     ]
    },
    {
     "name": "stdout",
     "output_type": "stream",
     "text": [
      "W 2025 roku w województwie wielkopolskim 7199 osób było ubezpieczonych z tytułu prowadzenia jednocześnie działalności rolniczej i pozarolniczej działalności gospodarczej.\n",
      "[ŹRÓDŁA]\n",
      "- #[1] dataset=TABLICA 5 (34). LICZBA UBEZPIECZONYCH Z TYTUŁU PROWADZENIA JEDNOCZEŚNIE DZIAŁALNOŚCI ROLNICZEJ  I POZAROLNICZEJ DZIAŁALNOŚCI GOSPODARCZEJ WEDŁUG WOJEWÓDZTW | source=all_data.csv | okres=2025 | region=wielkopolskie | measure=ogółem | typ=ogółem| value=7199.0 | ce=0.995 | rrf_sup=2 | rrf=0.0323\n",
      "- #[2] dataset=TABLICA 5 (34). LICZBA UBEZPIECZONYCH Z TYTUŁU PROWADZENIA JEDNOCZEŚNIE DZIAŁALNOŚCI ROLNICZEJ  I POZAROLNICZEJ DZIAŁALNOŚCI GOSPODARCZEJ WEDŁUG WOJEWÓDZTW | source=all_data.csv | okres=2025 | region=podlaskie | measure=ogółem | typ=ogółem| value=3637.0 | ce=0.912 | rrf_sup=2 | rrf=0.0173\n",
      "- #[3] dataset=TABLICA 5 (34). LICZBA UBEZPIECZONYCH Z TYTUŁU PROWADZENIA JEDNOCZEŚNIE DZIAŁALNOŚCI ROLNICZEJ  I POZAROLNICZEJ DZIAŁALNOŚCI GOSPODARCZEJ WEDŁUG WOJEWÓDZTW | source=all_data.csv | okres=2025 | region=małopolskie | measure=ogółem | typ=ogółem| value=7101.0 | ce=0.893 | rrf_sup=2 | rrf=0.0200\n",
      "- #[4] dataset=TABLICA 5 (34). LICZBA UBEZPIECZONYCH Z TYTUŁU PROWADZENIA JEDNOCZEŚNIE DZIAŁALNOŚCI ROLNICZEJ  I POZAROLNICZEJ DZIAŁALNOŚCI GOSPODARCZEJ WEDŁUG WOJEWÓDZTW | source=all_data.csv | okres=2025 | region=łódzkie | measure=ogółem | typ=ogółem| value=5883.0 | ce=0.840 | rrf_sup=2 | rrf=0.0240\n",
      "- #[5] dataset=TABLICA 5 (34). LICZBA UBEZPIECZONYCH Z TYTUŁU PROWADZENIA JEDNOCZEŚNIE DZIAŁALNOŚCI ROLNICZEJ  I POZAROLNICZEJ DZIAŁALNOŚCI GOSPODARCZEJ WEDŁUG WOJEWÓDZTW | source=all_data.csv | okres=2025 | region=dolnośląskie | measure=ogółem | typ=ogółem| value=2870.0 | ce=0.811 | rrf_sup=2 | rrf=0.0236\n",
      "- #[6] dataset=TABLICA 5 (34). LICZBA UBEZPIECZONYCH Z TYTUŁU PROWADZENIA JEDNOCZEŚNIE DZIAŁALNOŚCI ROLNICZEJ  I POZAROLNICZEJ DZIAŁALNOŚCI GOSPODARCZEJ WEDŁUG WOJEWÓDZTW | source=all_data.csv | okres=2025 | region=śląskie | measure=ogółem | typ=ogółem| value=2899.0 | ce=0.807 | rrf_sup=2 | rrf=0.0218\n",
      "\n",
      "Q: Jaką kwotę stanowiły składki finansowane z budżetu państwa na ubezpieczenie emerytalno-rentowe za osoby sprawujące opiekę nad dzieckiem w całym kraju?\n"
     ]
    },
    {
     "name": "stderr",
     "output_type": "stream",
     "text": [
      "The following generation flags are not valid and may be ignored: ['temperature']. Set `TRANSFORMERS_VERBOSITY=info` for more details.\n",
      "The following generation flags are not valid and may be ignored: ['temperature']. Set `TRANSFORMERS_VERBOSITY=info` for more details.\n"
     ]
    },
    {
     "name": "stdout",
     "output_type": "stream",
     "text": [
      "W 2025 roku w całym kraju kwota składek finansowanych z budżetu państwa na ubezpieczenie emerytalno-rentowe za osoby sprawujące opiekę nad dzieckiem wyniosła 15 127 463.00 złotych.\n",
      "[ŹRÓDŁA]\n",
      "- #[1] dataset=TABLICA 7 (36). PRZYPIS I WPŁYWY NALEŻNOŚCI Z TYTUŁU SKŁADEK NA UBEZPIECZENIE SPOŁECZNE ROLNIKÓW WEDŁUG WOJEWÓDZTW | source=all_data.csv | okres=2025 | region=OGÓŁEM | measure=Składki finansowane z budżetu państwa na ubezpieczenie emerytalno-rentowe za osoby sprawujące opiekę nad dzieckiem | typ=ogółem| value=15127463.0 | ce=0.887 | rrf_sup=3 | rrf=0.0464\n",
      "- #[2] dataset=TABLICA 7 (36). PRZYPIS I WPŁYWY NALEŻNOŚCI Z TYTUŁU SKŁADEK NA UBEZPIECZENIE SPOŁECZNE ROLNIKÓW WEDŁUG WOJEWÓDZTW | source=all_data.csv | okres=2025 | region=pomorskie | measure=Składki finansowane z budżetu państwa na ubezpieczenie emerytalno-rentowe za osoby sprawujące opiekę nad dzieckiem | typ=ogółem| value=496596.0 | ce=0.855 | rrf_sup=3 | rrf=0.0421\n",
      "- #[3] dataset=TABLICA 7 (36). PRZYPIS I WPŁYWY NALEŻNOŚCI Z TYTUŁU SKŁADEK NA UBEZPIECZENIE SPOŁECZNE ROLNIKÓW WEDŁUG WOJEWÓDZTW | source=all_data.csv | okres=2025 | region=kujawsko-pomorskie | measure=Składki finansowane z budżetu państwa na ubezpieczenie emerytalno-rentowe za osoby sprawujące opiekę nad dzieckiem | typ=ogółem| value=516405.0 | ce=0.836 | rrf_sup=3 | rrf=0.0435\n",
      "- #[4] dataset=TABLICA 7 (36). PRZYPIS I WPŁYWY NALEŻNOŚCI Z TYTUŁU SKŁADEK NA UBEZPIECZENIE SPOŁECZNE ROLNIKÓW WEDŁUG WOJEWÓDZTW | source=all_data.csv | okres=2025 | region=wielkopolskie | measure=Składki finansowane z budżetu państwa na ubezpieczenie emerytalno-rentowe za osoby sprawujące opiekę nad dzieckiem | typ=ogółem| value=1276087.0 | ce=0.830 | rrf_sup=3 | rrf=0.0437\n",
      "- #[5] dataset=TABLICA 7 (36). PRZYPIS I WPŁYWY NALEŻNOŚCI Z TYTUŁU SKŁADEK NA UBEZPIECZENIE SPOŁECZNE ROLNIKÓW WEDŁUG WOJEWÓDZTW | source=all_data.csv | okres=2025 | region=opolskie | measure=Składki finansowane z budżetu państwa na ubezpieczenie emerytalno-rentowe za osoby sprawujące opiekę nad dzieckiem | typ=ogółem| value=273795.0 | ce=0.818 | rrf_sup=3 | rrf=0.0459\n",
      "- #[6] dataset=TABLICA 7 (36). PRZYPIS I WPŁYWY NALEŻNOŚCI Z TYTUŁU SKŁADEK NA UBEZPIECZENIE SPOŁECZNE ROLNIKÓW WEDŁUG WOJEWÓDZTW | source=all_data.csv | okres=2025 | region=łódzkie | measure=Składki finansowane z budżetu państwa na ubezpieczenie emerytalno-rentowe za osoby sprawujące opiekę nad dzieckiem | typ=ogółem| value=947537.0 | ce=0.807 | rrf_sup=3 | rrf=0.0441\n",
      "\n",
      "Q: Jaką liczbę wniosków o emerytury i renty pozostawiono do rozpatrzenia w następnym okresie w województwie podlaskim?\n"
     ]
    },
    {
     "name": "stderr",
     "output_type": "stream",
     "text": [
      "The following generation flags are not valid and may be ignored: ['temperature']. Set `TRANSFORMERS_VERBOSITY=info` for more details.\n",
      "The following generation flags are not valid and may be ignored: ['temperature']. Set `TRANSFORMERS_VERBOSITY=info` for more details.\n"
     ]
    },
    {
     "name": "stdout",
     "output_type": "stream",
     "text": [
      "Odpowiedź: W województwie podlaskim w następnym okresie pozostawiono do rozpatrzenia 54638 wniosków o emerytury i renty.\n",
      "[ŹRÓDŁA]\n",
      "- #[1] dataset=TABLICA 4 (16). PRZECIĘTNA MIESIĘCZNA LICZBA EMERYTUR I RENT WEDŁUG WOJEWÓDZTW ORAZ ŚWIADCZEŃ | source=all_data.csv | okres=2025 | region=podlaskie | measure=emerytury | typ=ogółem| value=54638.0 | ce=0.748 | rrf_sup=2 | rrf=0.0317\n",
      "- #[2] dataset=TABLICA 4 (16). PRZECIĘTNA MIESIĘCZNA LICZBA EMERYTUR I RENT WEDŁUG WOJEWÓDZTW ORAZ ŚWIADCZEŃ | source=all_data.csv | okres=2025 | region=małopolskie | measure=emerytury | typ=ogółem| value=58947.0 | ce=0.078 | rrf_sup=2 | rrf=0.0133\n",
      "- #[3] dataset=TABLICA 4 (16). PRZECIĘTNA MIESIĘCZNA LICZBA EMERYTUR I RENT WEDŁUG WOJEWÓDZTW ORAZ ŚWIADCZEŃ | source=all_data.csv | okres=2025 | region=łódzkie | measure=emerytury | typ=ogółem| value=68702.0 | ce=0.063 | rrf_sup=2 | rrf=0.0169\n",
      "- #[4] dataset=TABLICA 4 (16). PRZECIĘTNA MIESIĘCZNA LICZBA EMERYTUR I RENT WEDŁUG WOJEWÓDZTW ORAZ ŚWIADCZEŃ | source=all_data.csv | okres=2025 | region=warmińsko-mazurskie | measure=emerytury | typ=ogółem| value=27010.0 | ce=0.034 | rrf_sup=2 | rrf=0.0174\n",
      "- #[5] dataset=TABLICA 4 (16). PRZECIĘTNA MIESIĘCZNA LICZBA EMERYTUR I RENT WEDŁUG WOJEWÓDZTW ORAZ ŚWIADCZEŃ | source=all_data.csv | okres=2025 | region=pomorskie | measure=emerytury | typ=ogółem| value=24160.0 | ce=0.092 | rrf_sup=1 | rrf=0.0068\n",
      "- #[6] dataset=TABLICA 4 (16). PRZECIĘTNA MIESIĘCZNA LICZBA EMERYTUR I RENT WEDŁUG WOJEWÓDZTW ORAZ ŚWIADCZEŃ | source=all_data.csv | okres=2025 | region=wielkopolskie | measure=emerytury | typ=ogółem| value=81897.0 | ce=0.081 | rrf_sup=1 | rrf=0.0073\n",
      "\n",
      "Q: Ilu członków rodzin emerytów i rencistów podlega ubezpieczeniu zdrowotnemu w całej Polsce?\n"
     ]
    },
    {
     "name": "stderr",
     "output_type": "stream",
     "text": [
      "The following generation flags are not valid and may be ignored: ['temperature']. Set `TRANSFORMERS_VERBOSITY=info` for more details.\n",
      "The following generation flags are not valid and may be ignored: ['temperature']. Set `TRANSFORMERS_VERBOSITY=info` for more details.\n"
     ]
    },
    {
     "name": "stdout",
     "output_type": "stream",
     "text": [
      "Odpowiedź: W całej Polsce w 2025 roku w ramach ogółu członków rodzin emerytów i rencistów podlegających ubezpieczeniu zdrowotnemu było 5000 osób.\n",
      "[ŹRÓDŁA]\n",
      "- #[1] dataset=TABLICA 1 (38). LICZBA OSÓB PODLEGAJĄCYCH UBEZPIECZENIU ZDROWOTNEMU WEDŁUG WOJEWÓDZTW | source=all_data.csv | okres=2025 | region=wielkopolskie | measure=członkowie rodzin emerytów i rencistów 4) | typ=ogółem| value=2867.0 | ce=0.939 | rrf_sup=3 | rrf=0.0417\n",
      "- #[2] dataset=TABLICA 1 (38). LICZBA OSÓB PODLEGAJĄCYCH UBEZPIECZENIU ZDROWOTNEMU WEDŁUG WOJEWÓDZTW | source=all_data.csv | okres=2025 | region=dolnośląskie | measure=członkowie rodzin emerytów i rencistów 4) | typ=ogółem| value=675.0 | ce=0.938 | rrf_sup=3 | rrf=0.0450\n",
      "- #[3] dataset=TABLICA 1 (38). LICZBA OSÓB PODLEGAJĄCYCH UBEZPIECZENIU ZDROWOTNEMU WEDŁUG WOJEWÓDZTW | source=all_data.csv | okres=2025 | region=zachodniopomorskie | measure=członkowie rodzin emerytów i rencistów 4) | typ=ogółem| value=457.0 | ce=0.938 | rrf_sup=3 | rrf=0.0433\n",
      "- #[4] dataset=TABLICA 1 (38). LICZBA OSÓB PODLEGAJĄCYCH UBEZPIECZENIU ZDROWOTNEMU WEDŁUG WOJEWÓDZTW | source=all_data.csv | okres=2025 | region=pomorskie | measure=członkowie rodzin emerytów i rencistów 4) | typ=ogółem| value=955.0 | ce=0.919 | rrf_sup=3 | rrf=0.0456\n",
      "- #[5] dataset=TABLICA 1 (38). LICZBA OSÓB PODLEGAJĄCYCH UBEZPIECZENIU ZDROWOTNEMU WEDŁUG WOJEWÓDZTW | source=all_data.csv | okres=2025 | region=kujawsko-pomorskie | measure=członkowie rodzin emerytów i rencistów 4) | typ=ogółem| value=1840.0 | ce=0.907 | rrf_sup=3 | rrf=0.0412\n",
      "- #[6] dataset=TABLICA 1 (38). LICZBA OSÓB PODLEGAJĄCYCH UBEZPIECZENIU ZDROWOTNEMU WEDŁUG WOJEWÓDZTW | source=all_data.csv | okres=2025 | region=śląskie | measure=członkowie rodzin emerytów i rencistów 4) | typ=ogółem| value=574.0 | ce=0.906 | rrf_sup=3 | rrf=0.0432\n",
      "\n",
      "Q: Ile osób ubezpieczonych w KRUS jest jednocześnie objętych ubezpieczeniem społecznym w ZUS z innego tytułu w województwie łódzkim?\n"
     ]
    },
    {
     "name": "stderr",
     "output_type": "stream",
     "text": [
      "The following generation flags are not valid and may be ignored: ['temperature']. Set `TRANSFORMERS_VERBOSITY=info` for more details.\n",
      "The following generation flags are not valid and may be ignored: ['temperature']. Set `TRANSFORMERS_VERBOSITY=info` for more details.\n"
     ]
    },
    {
     "name": "stdout",
     "output_type": "stream",
     "text": [
      "W województwie łódzkim, w 2025 roku, 1379 osób ubezpieczonych w KRUS było jednocześnie objętych ubezpieczeniem społecznym w ZUS z innego tytułu.\n",
      "[ŹRÓDŁA]\n",
      "- #[1] dataset=TABLICA 6 (35). LICZBA UBEZPIECZONYCH W KRUS PRZY JEDNOCZESNYM OBJĘCIU UBEZPIECZENIEM SPOŁECZNYM W ZUS Z INNEGO TYTUŁU 1)  WEDŁUG WOJEWÓDZTW | source=all_data.csv | okres=2025 | region=łódzkie | measure=ogółem | typ=ogółem| value=1379.0 | ce=0.995 | rrf_sup=3 | rrf=0.0396\n",
      "- #[2] dataset=TABLICA 6 (35). LICZBA UBEZPIECZONYCH W KRUS PRZY JEDNOCZESNYM OBJĘCIU UBEZPIECZENIEM SPOŁECZNYM W ZUS Z INNEGO TYTUŁU 1)  WEDŁUG WOJEWÓDZTW | source=all_data.csv | okres=2025 | region=pomorskie | measure=ogółem | typ=ogółem| value=619.0 | ce=0.896 | rrf_sup=3 | rrf=0.0277\n",
      "- #[3] dataset=TABLICA 6 (35). LICZBA UBEZPIECZONYCH W KRUS PRZY JEDNOCZESNYM OBJĘCIU UBEZPIECZENIEM SPOŁECZNYM W ZUS Z INNEGO TYTUŁU 1)  WEDŁUG WOJEWÓDZTW | source=all_data.csv | okres=2025 | region=zachodniopomorskie | measure=ogółem | typ=ogółem| value=588.0 | ce=0.861 | rrf_sup=3 | rrf=0.0287\n",
      "- #[4] dataset=TABLICA 6 (35). LICZBA UBEZPIECZONYCH W KRUS PRZY JEDNOCZESNYM OBJĘCIU UBEZPIECZENIEM SPOŁECZNYM W ZUS Z INNEGO TYTUŁU 1)  WEDŁUG WOJEWÓDZTW | source=all_data.csv | okres=2025 | region=śląskie | measure=ogółem | typ=ogółem| value=431.0 | ce=0.801 | rrf_sup=3 | rrf=0.0260\n",
      "- #[5] dataset=TABLICA 6 (35). LICZBA UBEZPIECZONYCH W KRUS PRZY JEDNOCZESNYM OBJĘCIU UBEZPIECZENIEM SPOŁECZNYM W ZUS Z INNEGO TYTUŁU 1)  WEDŁUG WOJEWÓDZTW | source=all_data.csv | okres=2025 | region=dolnośląskie | measure=ogółem | typ=ogółem| value=540.0 | ce=0.800 | rrf_sup=3 | rrf=0.0297\n",
      "- #[6] dataset=TABLICA 6 (35). LICZBA UBEZPIECZONYCH W KRUS PRZY JEDNOCZESNYM OBJĘCIU UBEZPIECZENIEM SPOŁECZNYM W ZUS Z INNEGO TYTUŁU 1)  WEDŁUG WOJEWÓDZTW | source=all_data.csv | okres=2025 | region=OGÓŁEM | measure=ogółem | typ=ogółem| value=18156.0 | ce=0.793 | rrf_sup=3 | rrf=0.0260\n",
      "\n",
      "Q: Jakie było przeciętne miesięczne świadczenie emerytalne wypłacane w czwartym kwartale 2024 roku w Polsce, które dotyczyło emerytur za przekazane gospodarstwo rolne Państwu?\n"
     ]
    },
    {
     "name": "stderr",
     "output_type": "stream",
     "text": [
      "The following generation flags are not valid and may be ignored: ['temperature']. Set `TRANSFORMERS_VERBOSITY=info` for more details.\n",
      "The following generation flags are not valid and may be ignored: ['temperature']. Set `TRANSFORMERS_VERBOSITY=info` for more details.\n"
     ]
    },
    {
     "name": "stdout",
     "output_type": "stream",
     "text": [
      "Odpowiedź: Przeciętne miesięczne świadczenie emerytalne w Polsce w czwartym kwartale 2024 roku, dotyczące emerytur za przekazane gospodarstwo rolne Państwu, wynosiło 1717,70 złotych.\n",
      "[ŹRÓDŁA]\n",
      "- #[1] dataset=TABLICA 1 (13). PRZECIĘTNA MIESIĘCZNA LICZBA EMERYTUR I RENT WEDŁUG RODZAJÓW ŚWIADCZEŃ | source=all_data.csv | okres=2024-Q4 | region=ogółem | measure=2024-Q4 | typ=Renty rodzinne za przekazane gospodarstwo rolne Państwu| value=246.0 | ce=0.987 | rrf_sup=3 | rrf=0.0394\n",
      "- #[2] dataset=TABLICA 7 (19). PRZECIĘTNE MIESIĘCZNE ŚWIADCZENIE EMERYTALNO-RENTOWE WEDŁUG RODZAJÓW ŚWIADCZEŃ | source=all_data.csv | okres=2024-Q4 | region=ogółem | measure=2024-Q4 | typ=Emerytury za przekazane gospodarstwo rolne Państwu| value=1717.7 | ce=0.986 | rrf_sup=3 | rrf=0.0469\n",
      "- #[3] dataset=TABLICA 7 (19). PRZECIĘTNE MIESIĘCZNE ŚWIADCZENIE EMERYTALNO-RENTOWE WEDŁUG RODZAJÓW ŚWIADCZEŃ | source=all_data.csv | okres=2024-Q4 | region=ogółem | measure=2024-Q4 | typ=Renty rodzinne za przekazane gospodarstwo rolne Państwu| value=2595.93 | ce=0.977 | rrf_sup=3 | rrf=0.0429\n",
      "- #[4] dataset=TABLICA 1 (13). PRZECIĘTNA MIESIĘCZNA LICZBA EMERYTUR I RENT WEDŁUG RODZAJÓW ŚWIADCZEŃ | source=all_data.csv | okres=2024-Q4 | region=ogółem | measure=2024-Q4 | typ=Renty z tytułu niezdolności do pracy za przekazane gospodarstwo rolne Państwu| value=96.0 | ce=0.976 | rrf_sup=3 | rrf=0.0338\n",
      "- #[5] dataset=TABLICA 7 (19). PRZECIĘTNE MIESIĘCZNE ŚWIADCZENIE EMERYTALNO-RENTOWE WEDŁUG RODZAJÓW ŚWIADCZEŃ | source=all_data.csv | okres=2024-Q4 | region=ogółem | measure=2024-Q4 | typ=Renty z tytułu niezdolności do pracy za przekazane gospodarstwo rolne Państwu| value=1537.34 | ce=0.974 | rrf_sup=3 | rrf=0.0351\n",
      "- #[6] dataset=TABLICA 7 (19). PRZECIĘTNE MIESIĘCZNE ŚWIADCZENIE EMERYTALNO-RENTOWE WEDŁUG RODZAJÓW ŚWIADCZEŃ | source=all_data.csv | okres=2024-Q1 | region=ogółem | measure=2024-Q1 | typ=Emerytury za przekazane gospodarstwo rolne Państwu| value=1589.24 | ce=0.984 | rrf_sup=3 | rrf=0.0476\n",
      "\n",
      "Q: Jaką kwotę w złotych stanowiły renty wypadkowe w wypłatach emerytalno-rentowych przekazywanych do państw UE/EFTA i Wielkiej Brytanii razem?\n"
     ]
    },
    {
     "name": "stderr",
     "output_type": "stream",
     "text": [
      "The following generation flags are not valid and may be ignored: ['temperature']. Set `TRANSFORMERS_VERBOSITY=info` for more details.\n",
      "The following generation flags are not valid and may be ignored: ['temperature']. Set `TRANSFORMERS_VERBOSITY=info` for more details.\n"
     ]
    },
    {
     "name": "stdout",
     "output_type": "stream",
     "text": [
      "W 2025 roku renty wypadkowe stanowiły 16884,46 złotych w wypłatach emerytalno-rentowych przekazywanych do państw UE/EFTA i Wielkiej Brytanii razem.\n",
      "[ŹRÓDŁA]\n",
      "- #[1] dataset=TABLICA 12. ŚWIADCZENIA EMERYTALNO RENTOWE TRANSFEROWANE DO POSZCZEGÓLNYCH PAŃSTW UE EFTA I WIELKIEJ BRYTANII  ORAZ DO INNYCH PAŃSTW NA PODSTAWIE UMÓW DWUSTRONNYCH | source=all_data.csv | okres=2025 | region=do państw UE/EFTA i Wielkiej Brytanii razem | measure=w tym: renty z tytułu niezdolności do pracy wypadkowe Kwota wypłat w zł | typ=ogółem| value=16884.46 | ce=0.996 | rrf_sup=3 | rrf=0.0492\n",
      "- #[2] dataset=TABLICA 12. ŚWIADCZENIA EMERYTALNO RENTOWE TRANSFEROWANE DO POSZCZEGÓLNYCH PAŃSTW UE EFTA I WIELKIEJ BRYTANII  ORAZ DO INNYCH PAŃSTW NA PODSTAWIE UMÓW DWUSTRONNYCH | source=all_data.csv | okres=2025 | region=OGÓŁEM | measure=w tym: renty z tytułu niezdolności do pracy wypadkowe Kwota wypłat w zł | typ=ogółem| value=16884.46 | ce=0.982 | rrf_sup=3 | rrf=0.0376\n",
      "- #[3] dataset=TABLICA 12. ŚWIADCZENIA EMERYTALNO RENTOWE TRANSFEROWANE DO POSZCZEGÓLNYCH PAŃSTW UE EFTA I WIELKIEJ BRYTANII  ORAZ DO INNYCH PAŃSTW NA PODSTAWIE UMÓW DWUSTRONNYCH | source=all_data.csv | okres=2025 | region=Niemcy | measure=w tym: renty z tytułu niezdolności do pracy wypadkowe Kwota wypłat w zł | typ=ogółem| value=16884.46 | ce=0.976 | rrf_sup=3 | rrf=0.0364\n",
      "- #[4] dataset=TABLICA 12. ŚWIADCZENIA EMERYTALNO RENTOWE TRANSFEROWANE DO POSZCZEGÓLNYCH PAŃSTW UE EFTA I WIELKIEJ BRYTANII  ORAZ DO INNYCH PAŃSTW NA PODSTAWIE UMÓW DWUSTRONNYCH | source=all_data.csv | okres=2025 | region=do państw UE/EFTA i Wielkiej Brytanii razem | measure=Razem emerytury i renty Kwota wypłat w zł | typ=ogółem| value=12203902.61 | ce=0.951 | rrf_sup=3 | rrf=0.0479\n",
      "- #[5] dataset=TABLICA 12. ŚWIADCZENIA EMERYTALNO RENTOWE TRANSFEROWANE DO POSZCZEGÓLNYCH PAŃSTW UE EFTA I WIELKIEJ BRYTANII  ORAZ DO INNYCH PAŃSTW NA PODSTAWIE UMÓW DWUSTRONNYCH | source=all_data.csv | okres=2025 | region=do państw UE/EFTA i Wielkiej Brytanii razem | measure=Renty rodzinne Kwota wypłat w zł | typ=ogółem| value=1164930.8 | ce=0.939 | rrf_sup=3 | rrf=0.0393\n",
      "- #[6] dataset=TABLICA 12. ŚWIADCZENIA EMERYTALNO RENTOWE TRANSFEROWANE DO POSZCZEGÓLNYCH PAŃSTW UE EFTA I WIELKIEJ BRYTANII  ORAZ DO INNYCH PAŃSTW NA PODSTAWIE UMÓW DWUSTRONNYCH | source=all_data.csv | okres=2025 | region=do państw objętych umowami dwustronnymi razem | measure=Razem emerytury i renty Kwota wypłat w zł | typ=ogółem| value=1585440.57 | ce=0.937 | rrf_sup=3 | rrf=0.0436\n",
      "\n",
      "Q: Jakie było przeciętne miesięczne świadczenie uzupełniające dla osób niezdolnych do samodzielnej egzystencji w pierwszym kwartale 2025 roku w Kasie Rolniczego Ubezpieczenia Społecznego?Jaką liczbę ubezpieczonych w okresie przyznania świadczenia pielęgnacyjnego lub specjalnego zasiłku opiekuńczego albo zasiłku dla opiekuna odnotowano w trzecim kwartale 2021 roku?Jak wielu członków rodzin sprawujących opiekę nad dzieckiem było ubezpieczonych w drugim kwartale 2023 roku?\n"
     ]
    },
    {
     "name": "stderr",
     "output_type": "stream",
     "text": [
      "The following generation flags are not valid and may be ignored: ['temperature']. Set `TRANSFORMERS_VERBOSITY=info` for more details.\n",
      "The following generation flags are not valid and may be ignored: ['temperature']. Set `TRANSFORMERS_VERBOSITY=info` for more details.\n"
     ]
    },
    {
     "name": "stdout",
     "output_type": "stream",
     "text": [
      "Odpowiedź: W pierwszym kwartale 2025 roku w Kasie Rolniczego Ubezpieczenia Społecznego przeciętne miesięczne świadczenie uzupełniające dla osób niezdolnych do samodzielnej egzystencji wynosiło 168274.0 złotych. W trzecim kwartale 2021 roku w Kasie Rolniczego Ubezpieczenia Społecznego odnotowano 9572 ubezpieczonych w okresie przyznania świadczenia pielęgnacyjnego lub specjalnego zasiłku opiekuńczego albo zasiłku dla opiekuna. W drugim kwartale 2023 roku w Kasie Rolniczego Ubezpieczenia Społecznego odnotowano 0 członków rodzin sprawujących opiekę nad dzieckiem.\n",
      "[ŹRÓDŁA]\n",
      "- #[1] dataset=TABLICA 1 (25). ŚWIADCZENIA ZLECONE DO WYPŁATY KASIE ROLNICZEGO UBEZPIECZENIA SPOŁECZNEGO | source=all_data.csv | okres=2025-Q1 | region=ogółem | measure=2025-Q1 | typ=Przeciętna miesięczna liczba świadczeń ŚWIADCZENIE UZUPEŁNIAJĄCE DLA OSÓB NIEZDOLNYCH DO SAMODZIELNEJ EGZYSTENCJI| value=168274.0 | ce=0.944 | rrf_sup=2 | rrf=0.0328\n",
      "- #[2] dataset=TABLICA 1 (25). ŚWIADCZENIA ZLECONE DO WYPŁATY KASIE ROLNICZEGO UBEZPIECZENIA SPOŁECZNEGO | source=all_data.csv | okres=2025-Q1 | region=ogółem | measure=2025-Q1 | typ=Przeciętne świadczenie w zł ŚWIADCZENIE UZUPEŁNIAJĄCE DLA OSÓB NIEZDOLNYCH DO SAMODZIELNEJ EGZYSTENCJI| value=488.3 | ce=0.925 | rrf_sup=2 | rrf=0.0323\n",
      "- #[3] dataset=TABLICA 1 (25). ŚWIADCZENIA ZLECONE DO WYPŁATY KASIE ROLNICZEGO UBEZPIECZENIA SPOŁECZNEGO | source=all_data.csv | okres=2024-Q4 | region=ogółem | measure=2024-Q4 | typ=Przeciętna miesięczna liczba świadczeń ŚWIADCZENIE UZUPEŁNIAJĄCE DLA OSÓB NIEZDOLNYCH DO SAMODZIELNEJ EGZYSTENCJI| value=171748.0 | ce=0.867 | rrf_sup=2 | rrf=0.0303\n",
      "- #[4] dataset=TABLICA 1 (25). ŚWIADCZENIA ZLECONE DO WYPŁATY KASIE ROLNICZEGO UBEZPIECZENIA SPOŁECZNEGO | source=all_data.csv | okres=2024-Q1 | region=ogółem | measure=2024-Q1 | typ=Przeciętne świadczenie w zł ŚWIADCZENIE UZUPEŁNIAJĄCE DLA OSÓB NIEZDOLNYCH DO SAMODZIELNEJ EGZYSTENCJI| value=477.41 | ce=0.870 | rrf_sup=2 | rrf=0.0317\n",
      "- #[5] dataset=TABLICA 1 (25). ŚWIADCZENIA ZLECONE DO WYPŁATY KASIE ROLNICZEGO UBEZPIECZENIA SPOŁECZNEGO | source=all_data.csv | okres=2024-Q1 | region=ogółem | measure=2024-Q1 | typ=Przeciętna miesięczna liczba świadczeń ŚWIADCZENIE UZUPEŁNIAJĄCE DLA OSÓB NIEZDOLNYCH DO SAMODZIELNEJ EGZYSTENCJI| value=178611.0 | ce=0.868 | rrf_sup=2 | rrf=0.0308\n",
      "- #[6] dataset=Liczba ubezpieczonych według statusu na 2025-Q1 | source=all_data.csv | okres=31.12.2024 | region=ogółem | measure=liczba ubezpieczonych w okresie przyznania świadczenia pielęgnacyjnego lub specjalnego zasiłku opiekuńczego albo zasiłku dla opiekuna | typ=ogółem| value=9572.0 | ce=0.606 | rrf_sup=3 | rrf=0.0303\n",
      "\n",
      "Q: Ile osób ubezpieczonych w KRUS jest jednocześnie objętych ubezpieczeniem społecznym w ZUS z innego tytułu w województwie podlaskim?\n"
     ]
    },
    {
     "name": "stderr",
     "output_type": "stream",
     "text": [
      "The following generation flags are not valid and may be ignored: ['temperature']. Set `TRANSFORMERS_VERBOSITY=info` for more details.\n",
      "The following generation flags are not valid and may be ignored: ['temperature']. Set `TRANSFORMERS_VERBOSITY=info` for more details.\n"
     ]
    },
    {
     "name": "stdout",
     "output_type": "stream",
     "text": [
      "Odpowiedź: W województwie podlaskim w 2025 roku w KRUS było 1520 osób ubezpieczonych przy jednoczesnym objęciu ubezpieczeniem społecznym w ZUS z innego tytułu.\n",
      "[ŹRÓDŁA]\n",
      "- #[1] dataset=TABLICA 6 (35). LICZBA UBEZPIECZONYCH W KRUS PRZY JEDNOCZESNYM OBJĘCIU UBEZPIECZENIEM SPOŁECZNYM W ZUS Z INNEGO TYTUŁU 1)  WEDŁUG WOJEWÓDZTW | source=all_data.csv | okres=2025 | region=podlaskie | measure=ogółem | typ=ogółem| value=1520.0 | ce=0.980 | rrf_sup=3 | rrf=0.0397\n",
      "- #[2] dataset=TABLICA 6 (35). LICZBA UBEZPIECZONYCH W KRUS PRZY JEDNOCZESNYM OBJĘCIU UBEZPIECZENIEM SPOŁECZNYM W ZUS Z INNEGO TYTUŁU 1)  WEDŁUG WOJEWÓDZTW | source=all_data.csv | okres=2025 | region=pomorskie | measure=ogółem | typ=ogółem| value=619.0 | ce=0.892 | rrf_sup=3 | rrf=0.0276\n",
      "- #[3] dataset=TABLICA 6 (35). LICZBA UBEZPIECZONYCH W KRUS PRZY JEDNOCZESNYM OBJĘCIU UBEZPIECZENIEM SPOŁECZNYM W ZUS Z INNEGO TYTUŁU 1)  WEDŁUG WOJEWÓDZTW | source=all_data.csv | okres=2025 | region=śląskie | measure=ogółem | typ=ogółem| value=431.0 | ce=0.890 | rrf_sup=3 | rrf=0.0250\n",
      "- #[4] dataset=TABLICA 6 (35). LICZBA UBEZPIECZONYCH W KRUS PRZY JEDNOCZESNYM OBJĘCIU UBEZPIECZENIEM SPOŁECZNYM W ZUS Z INNEGO TYTUŁU 1)  WEDŁUG WOJEWÓDZTW | source=all_data.csv | okres=2025 | region=łódzkie | measure=ogółem | typ=ogółem| value=1379.0 | ce=0.871 | rrf_sup=3 | rrf=0.0317\n",
      "- #[5] dataset=TABLICA 6 (35). LICZBA UBEZPIECZONYCH W KRUS PRZY JEDNOCZESNYM OBJĘCIU UBEZPIECZENIEM SPOŁECZNYM W ZUS Z INNEGO TYTUŁU 1)  WEDŁUG WOJEWÓDZTW | source=all_data.csv | okres=2025 | region=dolnośląskie | measure=ogółem | typ=ogółem| value=540.0 | ce=0.860 | rrf_sup=3 | rrf=0.0266\n",
      "- #[6] dataset=TABLICA 6 (35). LICZBA UBEZPIECZONYCH W KRUS PRZY JEDNOCZESNYM OBJĘCIU UBEZPIECZENIEM SPOŁECZNYM W ZUS Z INNEGO TYTUŁU 1)  WEDŁUG WOJEWÓDZTW | source=all_data.csv | okres=2025 | region=OGÓŁEM | measure=ogółem | typ=ogółem| value=18156.0 | ce=0.852 | rrf_sup=3 | rrf=0.0241\n",
      "\n",
      "Q: Jaką liczbę ubezpieczonych zarejestrowano w Funduszu Składkowym w pierwszym kwartale 2024 roku?\n"
     ]
    },
    {
     "name": "stderr",
     "output_type": "stream",
     "text": [
      "The following generation flags are not valid and may be ignored: ['temperature']. Set `TRANSFORMERS_VERBOSITY=info` for more details.\n"
     ]
    },
    {
     "name": "stdout",
     "output_type": "stream",
     "text": [
      "Odpowiedź: W pierwszym kwartale 2024 roku w Funduszu Składkowym zarejestrowano 994 420 ubezpieczonych.\n",
      "[ŹRÓDŁA]\n",
      "- #[1] dataset=TABLICA 4 (29). WYPADKI I CHOROBY ZAWODOWE, Z TYTUŁU KTÓRYCH PRZYZNANO JEDNORAZOWE ODSZKODOWANIA WEDŁUG WOJEWÓDZTW | source=all_data.csv | okres=2024 | region=zachodniopomorskie | measure=Liczba wypadków na 1000 ubezpieczonych | typ=ogółem| value=1.5 | ce=0.025 | rrf_sup=1 | rrf=0.0123\n",
      "- #[2] dataset=TABLICA 4 (29). WYPADKI I CHOROBY ZAWODOWE, Z TYTUŁU KTÓRYCH PRZYZNANO JEDNORAZOWE ODSZKODOWANIA WEDŁUG WOJEWÓDZTW | source=all_data.csv | okres=2024 | region=OGÓŁEM | measure=Liczba wypadków na 1000 ubezpieczonych | typ=ogółem| value=2.0 | ce=0.024 | rrf_sup=1 | rrf=0.0104\n",
      "- #[3] dataset=TABLICA 4 (29). WYPADKI I CHOROBY ZAWODOWE, Z TYTUŁU KTÓRYCH PRZYZNANO JEDNORAZOWE ODSZKODOWANIA WEDŁUG WOJEWÓDZTW | source=all_data.csv | okres=2024 | region=kujawsko-pomorskie | measure=Liczba wypadków na 1000 ubezpieczonych | typ=ogółem| value=3.0 | ce=0.023 | rrf_sup=1 | rrf=0.0106\n",
      "- #[4] dataset=TABLICA 4 (29). WYPADKI I CHOROBY ZAWODOWE, Z TYTUŁU KTÓRYCH PRZYZNANO JEDNORAZOWE ODSZKODOWANIA WEDŁUG WOJEWÓDZTW | source=all_data.csv | okres=2024 | region=pomorskie | measure=Liczba wypadków na 1000 ubezpieczonych | typ=ogółem| value=2.4 | ce=0.022 | rrf_sup=1 | rrf=0.0115\n",
      "- #[5] dataset=Liczba ubezpieczonych według statusu na 2025-Q1 | source=all_data.csv | okres=31.12.2024 | region=ogółem | measure=Liczba ubezpieczonych ogółem | typ=ogółem| value=994420.0 | ce=0.794 | rrf_sup=3 | rrf=0.0347\n",
      "- #[6] dataset=Liczba ubezpieczonych według statusu na 2025-Q1 | source=all_data.csv | okres=31.12.2024 | region=ogółem | measure=liczba ubezpieczonych w okresie przyznania świadczenia pielęgnacyjnego lub specjalnego zasiłku opiekuńczego albo zasiłku dla opiekuna | typ=ogółem| value=9572.0 | ce=0.778 | rrf_sup=3 | rrf=0.0315\n"
     ]
    }
   ],
   "source": [
    "tests = [\n",
    "\"Jakie było przeciętne świadczenie emerytalne wypłacane przez KRUS w Polsce w pierwszym kwartale 2024 roku?\",\n",
    "\"Jakie było przypisane i wpływy należności z tytułu składek na ubezpieczenie społeczne rolników w województwie podkarpackim, z uwzględnieniem składek finansowanych z budżetu państwa na ubezpieczenie emerytalno-rentowe za osoby sprawujące opiekę nad dzieckiem?\",\n",
    "\"Jakie było przeciętne świadczenie w złotych zasiłków pogrzebowych po inwalidach wojennych wojskowych i osobach represjonowanych oraz członkach ich rodzin w czwartym kwartale 2024 roku?\",\n",
    "\"Jaką kwotę wypłat w złotych stanowiły renty z tytułu niezdolności do pracy wypadkowe w transferach emerytalno-rentowych do Grecji?\",\n",
    "\"Jaką liczbę płatników składek w Kasie Rolniczego Ubezpieczenia Społecznego (KRUS) odnotowano w Polsce 30 września 2024 roku?\",\n",
    "\"Jaką liczbę ubezpieczonych zarejestrowano w Funduszu Emerytalno-Rentowym w pierwszym kwartale 2025 roku?\",\n",
    "\"Jaką liczbę osób podlegających ubezpieczeniu zdrowotnemu w województwie lubuskim, które są domownikami pracującymi w gospodarstwach rolnych o powierzchni 6 hektarów lub większych, można przeliczyć na osoby pracujące w tych gospodarstwach?\",\n",
    "\"Jaką przeciętną liczbę osób otrzymujących emerytury zarejestrowano w Portugalii?\",\n",
    "\"Jaką przeciętną miesięczną liczbę świadczeniobiorców w I kwartale 2025 roku odnotowano w województwie pomorskim?\",\n",
    "\"Jaką średnią miesięczną wartość emerytur i rent wypadkowych zanotowano w pierwszym kwartale 2024 roku?\",\n",
    "\"Jakie były wydatki na świadczenia emerytalno-rentowe w województwie małopolskim?\",\n",
    "\"Jaką przeciętną liczbę osób otrzymujących renty z tytułu niezdolności do pracy odnotowano w Hiszpanii?\",\n",
    "\"Ilu rolników prowadzących wyłącznie działy specjalne produkcji rolnej podlega ubezpieczeniu zdrowotnemu w województwie lubuskim?\",\n",
    "\"Jakie było przeciętne świadczenie zasiłku macierzyńskiego w województwie opolskim?\",\n",
    "\"Jakie było przeciętne miesięczne świadczenie emerytalno-rentowe realizowane przez KRUS ogółem w województwie mazowieckim?\",\n",
    "\"Jaką kwotę w złotych przeznaczono na świadczenia pieniężne dla cywilnych niewidomych ofiar działań wojennych w pierwszym kwartale 2025 roku?\",\n",
    "\"Ile wniosków o przyznanie rodzicielskich świadczeń uzupełniających zostało rozpatrzonych w pierwszym kwartale 2025 roku w skali całego kraju?\",\n",
    "\"Jaką liczbę wniosków o emerytury razem pozostało do załatwienia w następnym okresie?\",\n",
    "\"Jaką kwotę w złotych stanowiły emerytury i renty realizowane przez KRUS z tytułu świadczeń zabiegowych dla robotników w czwartym kwartale 2024 roku?\",\n",
    "\"Jakie były wydatki na emerytury i renty ogółem w pierwszym kwartale 2025 roku?\",\n",
    "\"Jakie było przeciętne miesięczne świadczenie emerytalno-rentowe w województwie podlaskim?\",\n",
    "\"Jakie było wartość świadczeń zleconych do wypłaty w Kasie Rolniczego Ubezpieczenia Społecznego w czwartym kwartale 2024 roku?\",\n",
    "\"Jaką liczbę wniosków o przyznanie emerytury lub renty rodzinnej odnotowano w rekordzie dotyczącym rent rodzinnych?\",\n",
    "\"Jakie było wskaźniki ściągalności składek na ubezpieczenie społeczne rolników w województwie śląskim?\",\n",
    "\"Jaką liczbę współmałżonków zarejestrowano w ubezpieczeniu w trzecim kwartale 2020 roku?\",\n",
    "\"Jaką liczbę wniosków o emerytury i renty zarejestrowano w województwie opolskim w pierwszym kwartale 2025 roku?\",\n",
    "\"Jakie były wydatki na świadczenia emerytalno-rentowe w województwie kujawsko-pomorskim w Polsce?\",\n",
    "\"Jaką przeciętną liczbę osób otrzymujących renty rodzinne odnotowano w USA?\",\n",
    "\"Jakie było przeciętne miesięczne świadczenie emerytur rolniczych w czwartym kwartale 2024 roku?\",\n",
    "\"Jaką średnią miesięczną liczbę emerytur i rent otrzymywali mieszkańcy województwa śląskiego w zakresie świadczeń rodzinnych, w tym wypadkowych, w nieokreślonym okresie?\",\n",
    "\"Jaką kwotę wypłacono w zasiłkach pogrzebowych po członkach rodziny w całym kraju w czwartym kwartale 2024 roku?\",\n",
    "\"Ile osób było ubezpieczonych z tytułu prowadzenia jednocześnie działalności rolniczej i pozarolniczej działalności gospodarczej w województwie wielkopolskim?\",\n",
    "\"Jaką kwotę stanowiły składki finansowane z budżetu państwa na ubezpieczenie emerytalno-rentowe za osoby sprawujące opiekę nad dzieckiem w całym kraju?\",\n",
    "\"Jaką liczbę wniosków o emerytury i renty pozostawiono do rozpatrzenia w następnym okresie w województwie podlaskim?\",\n",
    "\"Ilu członków rodzin emerytów i rencistów podlega ubezpieczeniu zdrowotnemu w całej Polsce?\",\n",
    "\"Ile osób ubezpieczonych w KRUS jest jednocześnie objętych ubezpieczeniem społecznym w ZUS z innego tytułu w województwie łódzkim?\",\n",
    "\"Jakie było przeciętne miesięczne świadczenie emerytalne wypłacane w czwartym kwartale 2024 roku w Polsce, które dotyczyło emerytur za przekazane gospodarstwo rolne Państwu?\",\n",
    "\"Jaką kwotę w złotych stanowiły renty wypadkowe w wypłatach emerytalno-rentowych przekazywanych do państw UE/EFTA i Wielkiej Brytanii razem?\",\n",
    "\"Jakie było przeciętne miesięczne świadczenie uzupełniające dla osób niezdolnych do samodzielnej egzystencji w pierwszym kwartale 2025 roku w Kasie Rolniczego Ubezpieczenia Społecznego?\"\n",
    "\"Jaką liczbę ubezpieczonych w okresie przyznania świadczenia pielęgnacyjnego lub specjalnego zasiłku opiekuńczego albo zasiłku dla opiekuna odnotowano w trzecim kwartale 2021 roku?\"\n",
    "\"Jak wielu członków rodzin sprawujących opiekę nad dzieckiem było ubezpieczonych w drugim kwartale 2023 roku?\",\n",
    "\"Ile osób ubezpieczonych w KRUS jest jednocześnie objętych ubezpieczeniem społecznym w ZUS z innego tytułu w województwie podlaskim?\",\n",
    "\"Jaką liczbę ubezpieczonych zarejestrowano w Funduszu Składkowym w pierwszym kwartale 2024 roku?\",\n",
    "]\n",
    "for q in tests:\n",
    "    print(\"\\nQ:\", q)\n",
    "    print(answer_pllum(q, k_ctx=6))\n"
   ]
  }
 ],
 "metadata": {
  "kernelspec": {
   "display_name": "Python 3",
   "language": "python",
   "name": "python3"
  },
  "language_info": {
   "codemirror_mode": {
    "name": "ipython",
    "version": 3
   },
   "file_extension": ".py",
   "mimetype": "text/x-python",
   "name": "python",
   "nbconvert_exporter": "python",
   "pygments_lexer": "ipython3",
   "version": "3.13.7"
  }
 },
 "nbformat": 4,
 "nbformat_minor": 5
}
