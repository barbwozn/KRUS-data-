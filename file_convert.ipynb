{
 "cells": [
  {
   "cell_type": "code",
   "execution_count": null,
   "id": "f2af56a7",
   "metadata": {},
   "outputs": [],
   "source": [
    "import pandas as pd\n",
    "excel_file = \"KWARTALNA_INFORMACJA_STATYSTYCZNA_I_KWARTAŁ__2025_r.xlsx\"\n",
    "\n",
    "# Convert the first sheet to CSV\n",
    "df = pd.read_excel(excel_file, sheet_name=0)\n",
    "df.to_csv(f'{excel_file}.csv', index=False)"
   ]
  },
  {
   "cell_type": "code",
   "execution_count": null,
   "id": "8f5996f9",
   "metadata": {},
   "outputs": [],
   "source": [
    "import os\n",
    "folder = \"\"\n",
    "for filename in os.listdir(folder):\n",
    "    if filename.endswith(\".csv\"):\n",
    "      filepath = os.path.join(folder, filename)\n",
    "      with open(filepath, \"r\", encoding=\"latin-1\") as f:\n",
    "          content = f.read()\n",
    "      content = content.replace(',','.').replace(';',',')\n",
    "      with open(filepath, \"w\", encoding='latin-1') as f:\n",
    "          f.write(content)"
   ]
  }
 ],
 "metadata": {
  "language_info": {
   "name": "python"
  }
 },
 "nbformat": 4,
 "nbformat_minor": 5
}
